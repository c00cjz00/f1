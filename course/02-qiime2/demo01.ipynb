{
 "cells": [
  {
   "cell_type": "markdown",
   "id": "6e5de931-40fc-4c10-86bd-d0f9694ab738",
   "metadata": {},
   "source": [
    "# 🦠 Amplicon Sequencing Data Analysis with QIIME 2"
   ]
  },
  {
   "cell_type": "markdown",
   "id": "54bc1bce-9b47-4165-a09d-fa58f5a640af",
   "metadata": {},
   "source": [
    "## 環境設定"
   ]
  },
  {
   "cell_type": "code",
   "execution_count": 1,
   "id": "6dd0a934-cdac-45fa-950b-a90615a7ccce",
   "metadata": {},
   "outputs": [],
   "source": [
    "# 對外連線網路設定\n",
    "import os\n",
    "tmp=!echo $(hostname)\n",
    "HOSTNAME=tmp[0]\n",
    "os.environ['http_proxy'] = \"socks5:/\"+HOSTNAME+\":12345\" \n",
    "os.environ['https_proxy'] = \"socks5://\"+HOSTNAME+\":12345\" "
   ]
  },
  {
   "cell_type": "code",
   "execution_count": 2,
   "id": "bc3cec47-1589-4a68-9d7f-0da8d9d46a06",
   "metadata": {},
   "outputs": [],
   "source": [
    "# 執行檔路徑設定\n",
    "import os\n",
    "from pathlib import Path\n",
    "HOME = str(Path.home())\n",
    "Add_Binarry_Path=HOME+'/.local/bin:/usr/localbin'\n",
    "os.environ['PATH']=os.environ['PATH']+':'+Add_Binarry_Path\n",
    "\n",
    "# 若用Conda 請補充下列指令\n",
    "#Add_Binarry_Path=HOME+'/.conda/envs/qiime2-amplicon-2024.10/bin'\n",
    "#os.environ['PATH']=os.environ['PATH']+':'+Add_Binarry_Path"
   ]
  },
  {
   "cell_type": "code",
   "execution_count": 3,
   "id": "1706a61b-f679-4acc-80b4-2fe5c1d9300e",
   "metadata": {},
   "outputs": [],
   "source": [
    "# Qiime2 初始環境設定\n",
    "os.environ['MPLCONFIGDIR'] = \"/tmp/mplconfigdir\"\n",
    "os.environ['NUMBA_CACHE_DIR'] = \"/tmp/numbacache\"\n",
    "os.environ['XDG_CONFIG_HOME']=os.environ['HOME']\n",
    "os.environ['CONDA_PREFIX']=os.environ['CONDA_PREFIX'].replace(\"/home/qiime2\", os.environ['HOME'])\n",
    "newpath=os.environ['CONDA_PREFIX']\n",
    "if not os.path.exists(newpath):\n",
    "    os.makedirs(newpath)"
   ]
  },
  {
   "cell_type": "markdown",
   "id": "db20665b-41f2-4ad7-8b71-6a03a75613cb",
   "metadata": {},
   "source": [
    "# 開始吧！\r\n",
    "\r\n",
    "現在進入有趣的部分了。我們先來看看我們的資料。在 _data_ 資料夾裡，你會找到八個 FASTQ 檔案、一個文件清單（manifest）和一個元數據檔案。首先，我們來看看清單檔案。這是一個包含所有樣本名稱和檔案路徑的文件，稍後我們在使用 QIIME2 時會需要用到它 📝。"
   ]
  },
  {
   "cell_type": "code",
   "execution_count": 4,
   "id": "e1272c1f-b917-4240-b9ad-2a8cc83679e0",
   "metadata": {},
   "outputs": [
    {
     "data": {
      "text/html": [
       "<div>\n",
       "<style scoped>\n",
       "    .dataframe tbody tr th:only-of-type {\n",
       "        vertical-align: middle;\n",
       "    }\n",
       "\n",
       "    .dataframe tbody tr th {\n",
       "        vertical-align: top;\n",
       "    }\n",
       "\n",
       "    .dataframe thead th {\n",
       "        text-align: right;\n",
       "    }\n",
       "</style>\n",
       "<table border=\"1\" class=\"dataframe\">\n",
       "  <thead>\n",
       "    <tr style=\"text-align: right;\">\n",
       "      <th></th>\n",
       "      <th>sample-id</th>\n",
       "      <th>absolute-filepath</th>\n",
       "    </tr>\n",
       "  </thead>\n",
       "  <tbody>\n",
       "    <tr>\n",
       "      <th>0</th>\n",
       "      <td>ERR1883195</td>\n",
       "      <td>$PWD/data/ERR1883195.fastq.gz</td>\n",
       "    </tr>\n",
       "    <tr>\n",
       "      <th>1</th>\n",
       "      <td>ERR1883207</td>\n",
       "      <td>$PWD/data/ERR1883207.fastq.gz</td>\n",
       "    </tr>\n",
       "    <tr>\n",
       "      <th>2</th>\n",
       "      <td>ERR1883212</td>\n",
       "      <td>$PWD/data/ERR1883212.fastq.gz</td>\n",
       "    </tr>\n",
       "    <tr>\n",
       "      <th>3</th>\n",
       "      <td>ERR1883214</td>\n",
       "      <td>$PWD/data/ERR1883214.fastq.gz</td>\n",
       "    </tr>\n",
       "    <tr>\n",
       "      <th>4</th>\n",
       "      <td>ERR1883225</td>\n",
       "      <td>$PWD/data/ERR1883225.fastq.gz</td>\n",
       "    </tr>\n",
       "    <tr>\n",
       "      <th>5</th>\n",
       "      <td>ERR1883240</td>\n",
       "      <td>$PWD/data/ERR1883240.fastq.gz</td>\n",
       "    </tr>\n",
       "    <tr>\n",
       "      <th>6</th>\n",
       "      <td>ERR1883250</td>\n",
       "      <td>$PWD/data/ERR1883250.fastq.gz</td>\n",
       "    </tr>\n",
       "    <tr>\n",
       "      <th>7</th>\n",
       "      <td>ERR1883294</td>\n",
       "      <td>$PWD/data/ERR1883294.fastq.gz</td>\n",
       "    </tr>\n",
       "  </tbody>\n",
       "</table>\n",
       "</div>"
      ],
      "text/plain": [
       "    sample-id              absolute-filepath\n",
       "0  ERR1883195  $PWD/data/ERR1883195.fastq.gz\n",
       "1  ERR1883207  $PWD/data/ERR1883207.fastq.gz\n",
       "2  ERR1883212  $PWD/data/ERR1883212.fastq.gz\n",
       "3  ERR1883214  $PWD/data/ERR1883214.fastq.gz\n",
       "4  ERR1883225  $PWD/data/ERR1883225.fastq.gz\n",
       "5  ERR1883240  $PWD/data/ERR1883240.fastq.gz\n",
       "6  ERR1883250  $PWD/data/ERR1883250.fastq.gz\n",
       "7  ERR1883294  $PWD/data/ERR1883294.fastq.gz"
      ]
     },
     "execution_count": 4,
     "metadata": {},
     "output_type": "execute_result"
    }
   ],
   "source": [
    "import pandas as pd\n",
    "manifest = pd.read_csv('data/manifest.tsv', sep = '\\t')\n",
    "manifest"
   ]
  },
  {
   "cell_type": "code",
   "execution_count": 5,
   "id": "03ab8003-c707-44d9-b4f8-468b34562bd3",
   "metadata": {},
   "outputs": [
    {
     "data": {
      "text/html": [
       "<div>\n",
       "<style scoped>\n",
       "    .dataframe tbody tr th:only-of-type {\n",
       "        vertical-align: middle;\n",
       "    }\n",
       "\n",
       "    .dataframe tbody tr th {\n",
       "        vertical-align: top;\n",
       "    }\n",
       "\n",
       "    .dataframe thead th {\n",
       "        text-align: right;\n",
       "    }\n",
       "</style>\n",
       "<table border=\"1\" class=\"dataframe\">\n",
       "  <thead>\n",
       "    <tr style=\"text-align: right;\">\n",
       "      <th></th>\n",
       "      <th>sample-id</th>\n",
       "      <th>collection_timestamp</th>\n",
       "      <th>day_relative_to_fmt</th>\n",
       "      <th>description</th>\n",
       "      <th>disease_state</th>\n",
       "      <th>host_age</th>\n",
       "      <th>host_age_units</th>\n",
       "      <th>host_body_mass_index</th>\n",
       "      <th>host_height</th>\n",
       "      <th>host_height_units</th>\n",
       "      <th>host_subject_id</th>\n",
       "      <th>host_weight</th>\n",
       "      <th>host_weight_units</th>\n",
       "      <th>race</th>\n",
       "      <th>sex</th>\n",
       "    </tr>\n",
       "  </thead>\n",
       "  <tbody>\n",
       "    <tr>\n",
       "      <th>0</th>\n",
       "      <td>ERR1883195</td>\n",
       "      <td>2011-10-24</td>\n",
       "      <td>26</td>\n",
       "      <td>Donor 11</td>\n",
       "      <td>healthy</td>\n",
       "      <td>Restricted access</td>\n",
       "      <td>years</td>\n",
       "      <td>Restricted access</td>\n",
       "      <td>Restricted access</td>\n",
       "      <td>m</td>\n",
       "      <td>Donor</td>\n",
       "      <td>Restricted access</td>\n",
       "      <td>kg</td>\n",
       "      <td>Restricted access</td>\n",
       "      <td>Restricted access</td>\n",
       "    </tr>\n",
       "    <tr>\n",
       "      <th>1</th>\n",
       "      <td>ERR1883207</td>\n",
       "      <td>2012-01-12</td>\n",
       "      <td>44</td>\n",
       "      <td>Donor 12</td>\n",
       "      <td>healthy</td>\n",
       "      <td>Restricted access</td>\n",
       "      <td>years</td>\n",
       "      <td>Restricted access</td>\n",
       "      <td>Restricted access</td>\n",
       "      <td>m</td>\n",
       "      <td>Donor</td>\n",
       "      <td>Restricted access</td>\n",
       "      <td>kg</td>\n",
       "      <td>Restricted access</td>\n",
       "      <td>Restricted access</td>\n",
       "    </tr>\n",
       "    <tr>\n",
       "      <th>2</th>\n",
       "      <td>ERR1883212</td>\n",
       "      <td>2012-10-10</td>\n",
       "      <td>135</td>\n",
       "      <td>Donor 14</td>\n",
       "      <td>healthy</td>\n",
       "      <td>Restricted access</td>\n",
       "      <td>years</td>\n",
       "      <td>Restricted access</td>\n",
       "      <td>Restricted access</td>\n",
       "      <td>m</td>\n",
       "      <td>Donor</td>\n",
       "      <td>Restricted access</td>\n",
       "      <td>kg</td>\n",
       "      <td>Restricted access</td>\n",
       "      <td>Restricted access</td>\n",
       "    </tr>\n",
       "    <tr>\n",
       "      <th>3</th>\n",
       "      <td>ERR1883214</td>\n",
       "      <td>2011-07-26</td>\n",
       "      <td>0</td>\n",
       "      <td>Day 0 CD1</td>\n",
       "      <td>Pre-FMT</td>\n",
       "      <td>39</td>\n",
       "      <td>years</td>\n",
       "      <td>29.3</td>\n",
       "      <td>165.1</td>\n",
       "      <td>m</td>\n",
       "      <td>CD1</td>\n",
       "      <td>80.1</td>\n",
       "      <td>kg</td>\n",
       "      <td>white</td>\n",
       "      <td>female</td>\n",
       "    </tr>\n",
       "    <tr>\n",
       "      <th>4</th>\n",
       "      <td>ERR1883225</td>\n",
       "      <td>2011-07-26</td>\n",
       "      <td>54</td>\n",
       "      <td>Donor CD1</td>\n",
       "      <td>healthy</td>\n",
       "      <td>Restricted access</td>\n",
       "      <td>years</td>\n",
       "      <td>Restricted access</td>\n",
       "      <td>Restricted access</td>\n",
       "      <td>m</td>\n",
       "      <td>Donor</td>\n",
       "      <td>Restricted access</td>\n",
       "      <td>kg</td>\n",
       "      <td>Restricted access</td>\n",
       "      <td>Restricted access</td>\n",
       "    </tr>\n",
       "    <tr>\n",
       "      <th>5</th>\n",
       "      <td>ERR1883240</td>\n",
       "      <td>2012-02-14</td>\n",
       "      <td>pre-FMT</td>\n",
       "      <td>CD9 pre-FMT</td>\n",
       "      <td>Pre-FMT</td>\n",
       "      <td>47</td>\n",
       "      <td>years</td>\n",
       "      <td>35.5</td>\n",
       "      <td>1.55</td>\n",
       "      <td>m</td>\n",
       "      <td>CD9</td>\n",
       "      <td>85.1</td>\n",
       "      <td>kg</td>\n",
       "      <td>white</td>\n",
       "      <td>female</td>\n",
       "    </tr>\n",
       "    <tr>\n",
       "      <th>6</th>\n",
       "      <td>ERR1883250</td>\n",
       "      <td>2011-12-23</td>\n",
       "      <td>pre-FMT</td>\n",
       "      <td>CD13 pre-FMT</td>\n",
       "      <td>Pre-FMT</td>\n",
       "      <td>53</td>\n",
       "      <td>years</td>\n",
       "      <td>34.4</td>\n",
       "      <td>1.56</td>\n",
       "      <td>m</td>\n",
       "      <td>CD13</td>\n",
       "      <td>83.9</td>\n",
       "      <td>kg</td>\n",
       "      <td>white</td>\n",
       "      <td>female</td>\n",
       "    </tr>\n",
       "    <tr>\n",
       "      <th>7</th>\n",
       "      <td>ERR1883294</td>\n",
       "      <td>2011-09-29</td>\n",
       "      <td>0</td>\n",
       "      <td>Day 0 CD3</td>\n",
       "      <td>Pre-FMT</td>\n",
       "      <td>61</td>\n",
       "      <td>years</td>\n",
       "      <td>32.5</td>\n",
       "      <td>1.727</td>\n",
       "      <td>m</td>\n",
       "      <td>CD3</td>\n",
       "      <td>97.3</td>\n",
       "      <td>kg</td>\n",
       "      <td>white</td>\n",
       "      <td>male</td>\n",
       "    </tr>\n",
       "  </tbody>\n",
       "</table>\n",
       "</div>"
      ],
      "text/plain": [
       "    sample-id collection_timestamp day_relative_to_fmt   description  \\\n",
       "0  ERR1883195           2011-10-24                  26      Donor 11   \n",
       "1  ERR1883207           2012-01-12                  44      Donor 12   \n",
       "2  ERR1883212           2012-10-10                 135      Donor 14   \n",
       "3  ERR1883214           2011-07-26                   0     Day 0 CD1   \n",
       "4  ERR1883225           2011-07-26                  54     Donor CD1   \n",
       "5  ERR1883240           2012-02-14             pre-FMT   CD9 pre-FMT   \n",
       "6  ERR1883250           2011-12-23             pre-FMT  CD13 pre-FMT   \n",
       "7  ERR1883294           2011-09-29                   0     Day 0 CD3   \n",
       "\n",
       "  disease_state           host_age host_age_units host_body_mass_index  \\\n",
       "0       healthy  Restricted access          years    Restricted access   \n",
       "1       healthy  Restricted access          years    Restricted access   \n",
       "2       healthy  Restricted access          years    Restricted access   \n",
       "3       Pre-FMT                 39          years                 29.3   \n",
       "4       healthy  Restricted access          years    Restricted access   \n",
       "5       Pre-FMT                 47          years                 35.5   \n",
       "6       Pre-FMT                 53          years                 34.4   \n",
       "7       Pre-FMT                 61          years                 32.5   \n",
       "\n",
       "         host_height host_height_units host_subject_id        host_weight  \\\n",
       "0  Restricted access                 m           Donor  Restricted access   \n",
       "1  Restricted access                 m           Donor  Restricted access   \n",
       "2  Restricted access                 m           Donor  Restricted access   \n",
       "3              165.1                 m             CD1               80.1   \n",
       "4  Restricted access                 m           Donor  Restricted access   \n",
       "5               1.55                 m             CD9               85.1   \n",
       "6               1.56                 m            CD13               83.9   \n",
       "7              1.727                 m             CD3               97.3   \n",
       "\n",
       "  host_weight_units               race                sex  \n",
       "0                kg  Restricted access  Restricted access  \n",
       "1                kg  Restricted access  Restricted access  \n",
       "2                kg  Restricted access  Restricted access  \n",
       "3                kg              white             female  \n",
       "4                kg  Restricted access  Restricted access  \n",
       "5                kg              white             female  \n",
       "6                kg              white             female  \n",
       "7                kg              white               male  "
      ]
     },
     "execution_count": 5,
     "metadata": {},
     "output_type": "execute_result"
    }
   ],
   "source": [
    "metadata = pd.read_csv('data/metadata.tsv', sep = '\\t')\n",
    "metadata"
   ]
  },
  {
   "cell_type": "markdown",
   "id": "2590c3c7-bb43-49b5-b74a-921ebb0eb012",
   "metadata": {},
   "source": [
    "看起來不錯，所有八個 FASTQ 檔案都已確認無誤，四個是健康樣本，四個是反覆性CDI的樣本。我們可以使用清單檔將我們的檔案匯入 QIIME2。\r\n",
    "\r\n",
    "## QIIME2 流程\r\n",
    "\r\n",
    "讓我們回顧一下 QIIME2 流程將會做什麼：\n",
    "![our workflow](https://github.com/Gibbons-Lab/isb_course_2023/raw/main/docs/16S/assets/steps.png)"
   ]
  },
  {
   "cell_type": "markdown",
   "id": "fc3b71fc-e9f2-459a-8b0f-3ade32d677f4",
   "metadata": {},
   "source": [
    "要在 QIIME2 中使用定序資料，我們首先需要將包含我們資料的 FASTQ 檔案轉換成 QIIME 工件。使用我們剛檢查過的清單，讓我們來執行第一個指令：\r\n",
    "\r\n",
    "-- 提醒一下，在指令前加上 ```!``` 表示這是一個 bash 指令，而不是 python。"
   ]
  },
  {
   "cell_type": "code",
   "execution_count": 6,
   "id": "1c506ab9-b062-4c5e-8539-a3c2e2a366ec",
   "metadata": {},
   "outputs": [
    {
     "name": "stdout",
     "output_type": "stream",
     "text": [
      "\u001b[32mImported data/manifest.tsv as SingleEndFastqManifestPhred33V2 to output/sequences.qza\u001b[0m\n",
      "\u001b[0m"
     ]
    }
   ],
   "source": [
    "# fastq檔案格式轉換成qza\n",
    "!mkdir -p output\n",
    "!qiime tools import \\\n",
    "  --type 'SampleData[SequencesWithQuality]' \\\n",
    "  --input-path data/manifest.tsv \\\n",
    "  --output-path output/sequences.qza \\\n",
    "  --input-format SingleEndFastqManifestPhred33V2"
   ]
  },
  {
   "cell_type": "markdown",
   "id": "1b53f3bc-eda4-4add-84f3-818f151dcab4",
   "metadata": {},
   "source": [
    "## 確認qza檔案內容物"
   ]
  },
  {
   "cell_type": "code",
   "execution_count": 7,
   "id": "e9685b8c-8c91-4866-af2c-c9be4f8bfb7f",
   "metadata": {},
   "outputs": [
    {
     "name": "stdout",
     "output_type": "stream",
     "text": [
      "\u001b[32mUUID\u001b[0m:        d6b8db49-5596-4976-a33b-03b48d6702ad\n",
      "\u001b[32mType\u001b[0m:        SampleData[SequencesWithQuality]\n",
      "\u001b[32mData format\u001b[0m: SingleLanePerSampleSingleEndFastqDirFmt\n"
     ]
    }
   ],
   "source": [
    "# 確認qza檔案內容物\n",
    "!qiime tools peek output/sequences.qza"
   ]
  },
  {
   "cell_type": "markdown",
   "id": "7b06e841-35d8-43ea-83ef-3b644508778d",
   "metadata": {},
   "source": [
    "## 視覺化我們的數據 🔎\r\n",
    "\r\n",
    "在我們繼續之前，讓我們使用 QIIME2 來視覺化我們的測序數據。"
   ]
  },
  {
   "cell_type": "code",
   "execution_count": 8,
   "id": "467f3789-f882-49f0-a3ab-256f8fc4c207",
   "metadata": {},
   "outputs": [
    {
     "name": "stdout",
     "output_type": "stream",
     "text": [
      "\u001b[32mSaved Visualization to: output/demux.qzv\u001b[0m\n",
      "\u001b[0m"
     ]
    }
   ],
   "source": [
    "!cp output/sequences.qza output/demux.qza\n",
    "!qiime demux summarize \\\n",
    "--i-data output/demux.qza \\\n",
    "--o-visualization output/demux.qzv"
   ]
  },
  {
   "cell_type": "markdown",
   "id": "1a44ff0c-bd34-4f4f-853e-5ed552f915c8",
   "metadata": {},
   "source": [
    ".qzv 檔案像我們剛剛產生的這個，是用來視覺化的檔案。你可以下載這個檔案，然後使用 http://view.qiime2.org 打開來查看圖表。要下載檔案，點擊左側的資料夾符號，打開 `output` 資料夾，然後在 `output/demux.qzv` 檔案旁邊的點選單中選擇下載。\r\n",
    "\r\n",
    "---\r\n",
    "\r\n",
    "## 質量過濾\r\n",
    "\r\n",
    "在使用我們的定序數據之前，我們需要對其進行“去噪”處理。為此，我們將使用一個名為 DADA2 的插件。這個過程包含三個步驟：\r\n",
    "\r\n",
    "1. 過濾並修剪讀取序列\r\n",
    "2. 找出樣本中最有可能的唯一序列集 (ASVs)\r\n",
    "3. 移除嵌合體\r\n",
    "4. 計簡報中討論正在發生的事情。"
   ]
  },
  {
   "cell_type": "code",
   "execution_count": 9,
   "id": "e53c2de6-1410-4f93-bcb8-9ebc8865424d",
   "metadata": {},
   "outputs": [
    {
     "name": "stdout",
     "output_type": "stream",
     "text": [
      "\u001b[32mSaved FeatureTable[Frequency] to: output/table.qza\u001b[0m\n",
      "\u001b[32mSaved FeatureData[Sequence] to: output/rep-seqs.qza\u001b[0m\n",
      "\u001b[32mSaved SampleData[DADA2Stats] to: output/stats.qza\u001b[0m\n",
      "\u001b[0m"
     ]
    }
   ],
   "source": [
    "!qiime dada2 denoise-single \\\n",
    "  --i-demultiplexed-seqs output/demux.qza \\\n",
    "  --p-trim-left 0 \\\n",
    "  --p-trunc-len 150 \\\n",
    "  --p-n-threads 8 \\\n",
    "  --o-representative-sequences output/rep-seqs.qza \\\n",
    "  --o-table output/table.qza \\\n",
    "  --o-denoising-stats output/stats.qza"
   ]
  },
  {
   "cell_type": "markdown",
   "id": "ee42001f-423c-4978-87dc-d5faecbf0224",
   "metadata": {},
   "source": [
    "讓我們來檢查一下結果如何。判斷所識別的 ASVs 是否能代表樣本的一個好方法是檢查在整個分析流程中保留了多少讀數。以下是常見問題及其解決方案：\r\n",
    "\r\n",
    "**在合併過程中大量讀數丟失（僅限雙端測序）**\r\n",
    "\r\n",
    "![讀數重疊](https://gibbons-lab.github.io/isb_course_2023/16S/assets/read_overlap.png)\r\n",
    "\r\n",
    "DADA2 在合併 ASVs 時，預設使用前向讀數和反向讀數之間有 12 個鹼基的重疊。因此，讀數在修剪後必須允許足夠的重疊。如果擴增區域長度為 450bp，而你有 2x250bp 的讀數並修剪了每個讀數的最後 30 個鹼基，將讀數長度縮短為 220bp，那麼總共覆蓋的序列長度為 2x220 = 440bp，這比 450bp 短，因此不會有重疊。要解決此問題，可以減少讀數的修剪量，或者調整 `--p-min-overlap` 參數為較低的值（但不能太低）。\r\n",
    "\r\n",
    "<br>\r\n",
    "\r\n",
    "**大部分讀數因為嵌合體而丟失**\r\n",
    "\r\n",
    "![讀數重疊](https://gibbons-lab.github.io/isb_course_2023/16S/assets/chimera.png)\r\n",
    "\r\n",
    "這通常是實驗問題，因為嵌合體是在擴增過程中產生的。如果可以調整你的 PCR，嘗試減少循環次數。嵌合體也可能由於錯誤的合併過程產生。如果最小重疊過小，ASVs 可能會被隨機合併。可能的解決方法是增加 `--p-min-overlap` 參數，或僅對前向讀數進行分析（根據我們的經驗觀察，嵌合體更可能在合併的讀數中產生）。*然而，丟失 5-25% 的讀數因為嵌合體是正常的，不需要做任何調整。*\r\n",
    "\r\n",
    "我們的去噪統計數據包含在一個產物中。要將其轉換為可視化結果，我們可以使用 `qiime metadata tabulate`。"
   ]
  },
  {
   "cell_type": "code",
   "execution_count": 10,
   "id": "b14e884c-88d0-40b7-a8d5-ea4ffdbc5b40",
   "metadata": {},
   "outputs": [
    {
     "name": "stdout",
     "output_type": "stream",
     "text": [
      "\u001b[32mSaved Visualization to: output/rep-seqs.qzv\u001b[0m\n",
      "\u001b[0m\u001b[32mSaved Visualization to: output/table.qzv\u001b[0m\n",
      "\u001b[0m\u001b[32mSaved Visualization to: output/stats.qzv\u001b[0m\n",
      "\u001b[0m"
     ]
    }
   ],
   "source": [
    "!qiime feature-table tabulate-seqs \\\n",
    "  --i-data output/rep-seqs.qza \\\n",
    "  --o-visualization output/rep-seqs.qzv\n",
    "\n",
    "!qiime feature-table summarize \\\n",
    "  --i-table output/table.qza \\\n",
    "  --m-sample-metadata-file data/metadata.tsv \\\n",
    "  --o-visualization output/table.qzv\n",
    "\n",
    "!qiime metadata tabulate \\\n",
    "    --m-input-file output/stats.qza \\\n",
    "    --o-visualization output/stats.qzv"
   ]
  },
  {
   "cell_type": "markdown",
   "id": "c227ccc5-1deb-455a-acb2-db6afb4bffd4",
   "metadata": {},
   "source": [
    "像之前一樣，我們可以下載 .qzv 檔案，並使用 [QIIME2 Viewer]('https://view.qiime2.org/') 來視覺化結果。\r\n",
    "\r\n",
    "了解這些輸出內容對我們來說很重要。例如，數據中有多少百分比的讀序通過了過濾步驟？有多少百分比的讀序是非嵌合的？這些指標在樣本之間的差異可能會影響多樣性指標。"
   ]
  },
  {
   "cell_type": "markdown",
   "id": "240b8f6d-8865-4041-8a31-0ebbb366ef84",
   "metadata": {},
   "source": [
    "## 多樣性與系統發育  Diversity and Phylogenetics\r\n",
    "在研究微生物生態學時，一個重要的指標是__多樣性__。多樣性主要分為兩種：⍺（alpha）多樣性和β（beta）多樣性。\r\n",
    "\r\n",
    "Alpha 多樣性相對簡單——指的是單一樣本的多樣性。你可以考慮像是物種豐富度和均勻度等指標。\r\n",
    "\r\n",
    "![alpha 多樣性](https://gibbons-lab.github.io/isb_course_2023/16S/assets/alpha_diversity.png)\r\n",
    "\r\n",
    "Beta 多樣性則是看兩個樣本之間的差異——有哪些分類單元是共享的，以及它們的豐\n",
    "有什麼不同。\r\n",
    "\r\n",
    "![beta 多樣性](https://gibbons-lab.github.io/isb_course_2023/16S/assets/beta_diversit\n",
    "##ng)\r\n",
    "\r\n",
    "\r\n",
    " Starting our Tree### 開始建立我們的樹\r\n",
    "接下來，我們將使用以下指令來建立我們序列的系統發育樹。這次，我們將調用 QIIME2 中的 _phylogeny_ 插件。"
   ]
  },
  {
   "cell_type": "code",
   "execution_count": 11,
   "id": "2230441c-2732-4e33-9829-ffb5071b39e1",
   "metadata": {},
   "outputs": [
    {
     "name": "stdout",
     "output_type": "stream",
     "text": [
      "\u001b[32mSaved FeatureData[AlignedSequence] to: output/aligned-rep-seqs.qza\u001b[0m\n",
      "\u001b[32mSaved FeatureData[AlignedSequence] to: output/masked-aligned-rep-seqs.qza\u001b[0m\n",
      "\u001b[32mSaved Phylogeny[Unrooted] to: output/unrooted-tree.qza\u001b[0m\n",
      "\u001b[32mSaved Phylogeny[Rooted] to: output/rooted-tree.qza\u001b[0m\n",
      "\u001b[0m"
     ]
    }
   ],
   "source": [
    "!qiime phylogeny align-to-tree-mafft-fasttree \\\n",
    "  --i-sequences output/rep-seqs.qza \\\n",
    "  --o-alignment output/aligned-rep-seqs.qza \\\n",
    "  --o-masked-alignment output/masked-aligned-rep-seqs.qza \\\n",
    "  --o-tree output/unrooted-tree.qza \\\n",
    "  --o-rooted-tree output/rooted-tree.qza"
   ]
  },
  {
   "cell_type": "markdown",
   "id": "c5542968-75d3-485a-bfbd-1df0ead678b8",
   "metadata": {},
   "source": [
    "## 計算多樣性\r\n",
    "使用多樣性插件，我們可以利用表格和樹狀圖來計算幾個多樣性指標。為了考慮樣本深度的變異，我們會在 QIIME2 中設置一個截止點，並在該點對所有樣本進行稀釋。由於這是隨機選取序列，因此結果可能會有所不同。我們還會輸入元數據文件，以便追蹤每個樣本屬於哪個組別。輸入元數據文件，以便追蹤每個樣本屬於哪個組別。"
   ]
  },
  {
   "cell_type": "code",
   "execution_count": 12,
   "id": "777d4036-42e4-4176-8d81-9c7ae811f1f9",
   "metadata": {},
   "outputs": [
    {
     "name": "stdout",
     "output_type": "stream",
     "text": [
      "\u001b[32mSaved FeatureTable[Frequency] to: diversity/rarefied_table.qza\u001b[0m\n",
      "\u001b[32mSaved SampleData[AlphaDiversity] to: diversity/faith_pd_vector.qza\u001b[0m\n",
      "\u001b[32mSaved SampleData[AlphaDiversity] to: diversity/observed_features_vector.qza\u001b[0m\n",
      "\u001b[32mSaved SampleData[AlphaDiversity] to: diversity/shannon_vector.qza\u001b[0m\n",
      "\u001b[32mSaved SampleData[AlphaDiversity] to: diversity/evenness_vector.qza\u001b[0m\n",
      "\u001b[32mSaved DistanceMatrix to: diversity/unweighted_unifrac_distance_matrix.qza\u001b[0m\n",
      "\u001b[32mSaved DistanceMatrix to: diversity/weighted_unifrac_distance_matrix.qza\u001b[0m\n",
      "\u001b[32mSaved DistanceMatrix to: diversity/jaccard_distance_matrix.qza\u001b[0m\n",
      "\u001b[32mSaved DistanceMatrix to: diversity/bray_curtis_distance_matrix.qza\u001b[0m\n",
      "\u001b[32mSaved PCoAResults to: diversity/unweighted_unifrac_pcoa_results.qza\u001b[0m\n",
      "\u001b[32mSaved PCoAResults to: diversity/weighted_unifrac_pcoa_results.qza\u001b[0m\n",
      "\u001b[32mSaved PCoAResults to: diversity/jaccard_pcoa_results.qza\u001b[0m\n",
      "\u001b[32mSaved PCoAResults to: diversity/bray_curtis_pcoa_results.qza\u001b[0m\n",
      "\u001b[32mSaved Visualization to: diversity/unweighted_unifrac_emperor.qzv\u001b[0m\n",
      "\u001b[32mSaved Visualization to: diversity/weighted_unifrac_emperor.qzv\u001b[0m\n",
      "\u001b[32mSaved Visualization to: diversity/jaccard_emperor.qzv\u001b[0m\n",
      "\u001b[32mSaved Visualization to: diversity/bray_curtis_emperor.qzv\u001b[0m\n",
      "\u001b[0m"
     ]
    }
   ],
   "source": [
    "!qiime diversity core-metrics-phylogenetic \\\n",
    "    --i-table output/table.qza \\\n",
    "    --i-phylogeny output/rooted-tree.qza \\\n",
    "    --p-sampling-depth 8000 \\\n",
    "    --m-metadata-file data/metadata.tsv \\\n",
    "    --output-dir diversity"
   ]
  },
  {
   "cell_type": "markdown",
   "id": "df764e76-1183-4b75-b08c-2d17f96558d8",
   "metadata": {},
   "source": [
    "## Alpha Diversity\n",
    "\n",
    "We get a bunch of outputs from the previous command - measures of both alpha and beta diversity. To start, let's use the Shannon vector in the output directory to create a visualization of alpha diversity across samples. Generally, healthy, long-living individuals have balanced diverse microbiomes. However, this isn't necessarily a direct indicator of health or disease. Let's see how it looks in our samples"
   ]
  },
  {
   "cell_type": "code",
   "execution_count": 13,
   "id": "23bb804a-786f-4615-a7a9-d3488dd8b94d",
   "metadata": {},
   "outputs": [
    {
     "name": "stdout",
     "output_type": "stream",
     "text": [
      "\u001b[32mSaved Visualization to: diversity/alpha_groups-shannon_vector.qzv\u001b[0m\n",
      "\u001b[0m"
     ]
    }
   ],
   "source": [
    "!qiime diversity alpha-group-significance \\\n",
    "    --i-alpha-diversity diversity/shannon_vector.qza \\\n",
    "    --m-metadata-file data/metadata.tsv \\\n",
    "    --o-visualization diversity/alpha_groups-shannon_vector.qzv"
   ]
  },
  {
   "cell_type": "code",
   "execution_count": 14,
   "id": "0d9c9143-8710-417f-8531-bf527b929678",
   "metadata": {},
   "outputs": [
    {
     "name": "stdout",
     "output_type": "stream",
     "text": [
      "\u001b[32mSaved Visualization to: diversity/alpha_groups-faith_pd_vector.qzv\u001b[0m\n",
      "\u001b[0m"
     ]
    }
   ],
   "source": [
    "!qiime diversity alpha-group-significance \\\n",
    "    --i-alpha-diversity diversity/faith_pd_vector.qza \\\n",
    "    --m-metadata-file data/metadata.tsv \\\n",
    "    --o-visualization diversity/alpha_groups-faith_pd_vector.qzv"
   ]
  },
  {
   "cell_type": "code",
   "execution_count": 15,
   "id": "8117d40f-adc2-440e-812c-874bc818a963",
   "metadata": {},
   "outputs": [
    {
     "name": "stdout",
     "output_type": "stream",
     "text": [
      "\u001b[32mSaved Visualization to: diversity/alpha_groups-evenness_vector.qzv\u001b[0m\n",
      "\u001b[0m"
     ]
    }
   ],
   "source": [
    "!qiime diversity alpha-group-significance \\\n",
    "    --i-alpha-diversity diversity/evenness_vector.qza \\\n",
    "    --m-metadata-file data/metadata.tsv \\\n",
    "    --o-visualization diversity/alpha_groups-evenness_vector.qzv"
   ]
  },
  {
   "cell_type": "markdown",
   "id": "081b5b75-88ca-4fbc-85f9-3153bf1d817f",
   "metadata": {},
   "source": [
    "像之前一樣，我們可以下載視覺化結果並用 QIIME2 查看器打開它。\r\n",
    "\r\n",
    "## Beta 多樣性\r\n",
    "\r\n",
    "讓我們來視覺化 Beta 多樣性，看看它們是如何區分的。這次我們將使用加權 UniFrac。我們需要下載這個檔案 ⬅️\r\n",
    "\r\n",
    "<br>\r\n",
    "\r\n",
    "我們可以使用 PERMANOVA 檢查樣本之間是否有「顯著」的區分。我們可以透過 QIIME2 的多樣性插件來完成這項操作。"
   ]
  },
  {
   "cell_type": "code",
   "execution_count": 16,
   "id": "47e6dedd-7f1a-42d7-b025-1a5abdb3305e",
   "metadata": {},
   "outputs": [
    {
     "name": "stdout",
     "output_type": "stream",
     "text": [
      "\u001b[32mSaved Visualization to: diversity/permanova.qzv\u001b[0m\n",
      "\u001b[0m"
     ]
    }
   ],
   "source": [
    "!qiime diversity adonis \\\n",
    "    --i-distance-matrix diversity/weighted_unifrac_distance_matrix.qza \\\n",
    "    --m-metadata-file data/metadata.tsv \\\n",
    "    --p-formula \"disease_state\" \\\n",
    "    --p-n-jobs 2 \\\n",
    "    --o-visualization diversity/permanova.qzv"
   ]
  },
  {
   "cell_type": "code",
   "execution_count": 17,
   "id": "6eef3d8d-1748-4f8a-ad19-b9d9caea82ee",
   "metadata": {},
   "outputs": [
    {
     "name": "stdout",
     "output_type": "stream",
     "text": [
      "\u001b[32mSaved Visualization to: diversity/beta_groups-weighted_unifrac_distance_matrix.qzv\u001b[0m\n",
      "\u001b[0m"
     ]
    }
   ],
   "source": [
    "!qiime diversity beta-group-significance \\\n",
    "    --i-distance-matrix diversity/weighted_unifrac_distance_matrix.qza \\\n",
    "    --m-metadata-file data/metadata.tsv \\\n",
    "    --m-metadata-column disease_state \\\n",
    "    --o-visualization diversity/beta_groups-weighted_unifrac_distance_matrix.qzv \\\n",
    "    --p-pairwise\n"
   ]
  },
  {
   "cell_type": "code",
   "execution_count": 18,
   "id": "98666d32-3e0b-4537-8df6-6ab194f8a42f",
   "metadata": {},
   "outputs": [
    {
     "name": "stdout",
     "output_type": "stream",
     "text": [
      "\u001b[32mSaved Visualization to: diversity/beta_groups-weighted_unifrac_distance_matrix.qzv\u001b[0m\n",
      "\u001b[0m"
     ]
    }
   ],
   "source": [
    "!qiime diversity beta-group-significance \\\n",
    "    --i-distance-matrix diversity/weighted_unifrac_distance_matrix.qza \\\n",
    "    --m-metadata-file data/metadata.tsv \\\n",
    "    --m-metadata-column disease_state \\\n",
    "    --o-visualization diversity/beta_groups-weighted_unifrac_distance_matrix.qzv \\\n",
    "    --p-pairwise"
   ]
  },
  {
   "cell_type": "markdown",
   "id": "65f206ee-14b7-468f-904e-8a54e00af1fa",
   "metadata": {},
   "source": [
    "## 系統分類\r\n",
    "\r\n",
    "我們可以從多樣性指標、α多樣性和β多樣性中學到很多東西。但要真正深入了解數據，我們需要知道每個樣本中有哪些微生物 🦠。為此，我們將使用貝葉斯分類器在 QIIME2 中對讀數進行分類。可以在 https://docs.qiime2.org/2425.7/data-resources 找到幾種這樣的分類器。"
   ]
  },
  {
   "cell_type": "code",
   "execution_count": 19,
   "id": "dd7e4cb9-18c2-4637-a68d-8e82fea6bb0c",
   "metadata": {},
   "outputs": [],
   "source": [
    "!curl -sL \\\n",
    "  \"https://data.qiime2.org/classifiers/sklearn-1.4.2/greengenes/gg-13-8-99-515-806-nb-classifier.qza\" > \\\n",
    "  \"output/gg-13-8-99-515-806-nb-classifier.qza\""
   ]
  },
  {
   "cell_type": "code",
   "execution_count": 20,
   "id": "7f40d9ee-9352-42c6-abaf-a500fa65c029",
   "metadata": {},
   "outputs": [
    {
     "name": "stdout",
     "output_type": "stream",
     "text": [
      "\u001b[32mSaved FeatureData[Taxonomy] to: output/taxonomy.qza\u001b[0m\n",
      "\u001b[0m"
     ]
    }
   ],
   "source": [
    "!qiime feature-classifier classify-sklearn \\\n",
    "    --i-reads output/rep-seqs.qza \\\n",
    "    --i-classifier output/gg-13-8-99-515-806-nb-classifier.qza \\\n",
    "    --p-n-jobs 2 \\\n",
    "    --o-classification output/taxonomy.qza"
   ]
  },
  {
   "cell_type": "code",
   "execution_count": 21,
   "id": "885f7cad-62c2-4eb5-a4c9-0f47f9c6448c",
   "metadata": {},
   "outputs": [
    {
     "name": "stdout",
     "output_type": "stream",
     "text": [
      "\u001b[32mSaved Visualization to: output/taxonomy.qzv\u001b[0m\n",
      "\u001b[0m"
     ]
    }
   ],
   "source": [
    "!qiime metadata tabulate \\\n",
    "  --m-input-file output/taxonomy.qza \\\n",
    "  --o-visualization output/taxonomy.qzv"
   ]
  },
  {
   "cell_type": "markdown",
   "id": "0801cf0d-7dcd-4594-a9c4-cb8dbf053132",
   "metadata": {},
   "source": [
    "現在我們已經將讀取資料分類，我們可以視覺化我們樣本的分類學分佈。"
   ]
  },
  {
   "cell_type": "code",
   "execution_count": 22,
   "id": "cd5c2eec-b01f-42fb-a6e1-344264440b56",
   "metadata": {},
   "outputs": [
    {
     "name": "stdout",
     "output_type": "stream",
     "text": [
      "\u001b[32mSaved Visualization to: output/taxa_barplot.qzv\u001b[0m\n",
      "\u001b[0m"
     ]
    }
   ],
   "source": [
    "!qiime taxa barplot \\\n",
    "    --i-table output/table.qza \\\n",
    "    --i-taxonomy output/taxonomy.qza \\\n",
    "    --m-metadata-file data/metadata.tsv \\\n",
    "    --o-visualization output/taxa_barplot.qzv"
   ]
  },
  {
   "cell_type": "markdown",
   "id": "55051074-7c83-4db8-981d-b87076c60843",
   "metadata": {},
   "source": [
    "現在，我們可以使用包含我們讀取資料的 ```table.qza``` 和包含讀取資料分類資訊的 ```taxa.qza```，將資料整合到屬 (genus) 的層級。"
   ]
  },
  {
   "cell_type": "code",
   "execution_count": 23,
   "id": "1129ec67-f5e9-49d8-af0a-124e824cde0d",
   "metadata": {},
   "outputs": [
    {
     "name": "stdout",
     "output_type": "stream",
     "text": [
      "\u001b[32mSaved FeatureTable[Frequency] to: output/genus.qza\u001b[0m\n",
      "\u001b[0m"
     ]
    }
   ],
   "source": [
    "!qiime taxa collapse \\\n",
    "    --i-table output/table.qza \\\n",
    "    --i-taxonomy output/taxonomy.qza \\\n",
    "    --p-level 6 \\\n",
    "    --o-collapsed-table output/genus.qza"
   ]
  },
  {
   "cell_type": "markdown",
   "id": "4f21d115-21b2-41fe-a4e6-11e8d9f69492",
   "metadata": {},
   "source": [
    "我們會將這個匯出為 .tsv 格式，這樣對於課程的下一部分會更方便使用。"
   ]
  },
  {
   "cell_type": "code",
   "execution_count": 24,
   "id": "c4927dc3-bd5f-4277-87d7-0d9fa333463a",
   "metadata": {},
   "outputs": [
    {
     "name": "stdout",
     "output_type": "stream",
     "text": [
      "\u001b[32mExported output/genus.qza as BIOMV210DirFmt to directory exported\u001b[0m\n",
      "\u001b[0m"
     ]
    }
   ],
   "source": [
    "!qiime tools export \\\n",
    "    --input-path output/genus.qza \\\n",
    "    --output-path exported"
   ]
  },
  {
   "cell_type": "code",
   "execution_count": 25,
   "id": "366d451e-2c77-4df2-a043-3464a49da559",
   "metadata": {},
   "outputs": [],
   "source": [
    "!biom convert -i exported/feature-table.biom -o exported/genus.tsv --to-tsv"
   ]
  },
  {
   "cell_type": "code",
   "execution_count": 26,
   "id": "90e72e75-33b0-4b2d-84c1-cf8515445292",
   "metadata": {},
   "outputs": [
    {
     "data": {
      "text/html": [
       "<div>\n",
       "<style scoped>\n",
       "    .dataframe tbody tr th:only-of-type {\n",
       "        vertical-align: middle;\n",
       "    }\n",
       "\n",
       "    .dataframe tbody tr th {\n",
       "        vertical-align: top;\n",
       "    }\n",
       "\n",
       "    .dataframe thead th {\n",
       "        text-align: right;\n",
       "    }\n",
       "</style>\n",
       "<table border=\"1\" class=\"dataframe\">\n",
       "  <thead>\n",
       "    <tr style=\"text-align: right;\">\n",
       "      <th></th>\n",
       "      <th>ERR1883195</th>\n",
       "      <th>ERR1883207</th>\n",
       "      <th>ERR1883212</th>\n",
       "      <th>ERR1883214</th>\n",
       "      <th>ERR1883225</th>\n",
       "      <th>ERR1883240</th>\n",
       "      <th>ERR1883250</th>\n",
       "      <th>ERR1883294</th>\n",
       "    </tr>\n",
       "    <tr>\n",
       "      <th>#OTU ID</th>\n",
       "      <th></th>\n",
       "      <th></th>\n",
       "      <th></th>\n",
       "      <th></th>\n",
       "      <th></th>\n",
       "      <th></th>\n",
       "      <th></th>\n",
       "      <th></th>\n",
       "    </tr>\n",
       "  </thead>\n",
       "  <tbody>\n",
       "    <tr>\n",
       "      <th>k__Bacteria;p__Proteobacteria;c__Gammaproteobacteria;o__Enterobacteriales;f__Enterobacteriaceae;g__Escherichia</th>\n",
       "      <td>23.0</td>\n",
       "      <td>37.0</td>\n",
       "      <td>14.0</td>\n",
       "      <td>51036.0</td>\n",
       "      <td>0.0</td>\n",
       "      <td>1779.0</td>\n",
       "      <td>172.0</td>\n",
       "      <td>9014.0</td>\n",
       "    </tr>\n",
       "    <tr>\n",
       "      <th>k__Bacteria;p__Verrucomicrobia;c__Verrucomicrobiae;o__Verrucomicrobiales;f__Verrucomicrobiaceae;g__Akkermansia</th>\n",
       "      <td>6.0</td>\n",
       "      <td>598.0</td>\n",
       "      <td>0.0</td>\n",
       "      <td>54728.0</td>\n",
       "      <td>0.0</td>\n",
       "      <td>35554.0</td>\n",
       "      <td>11467.0</td>\n",
       "      <td>0.0</td>\n",
       "    </tr>\n",
       "    <tr>\n",
       "      <th>k__Bacteria;p__Bacteroidetes;c__Bacteroidia;o__Bacteroidales;f__Bacteroidaceae;g__Bacteroides</th>\n",
       "      <td>24784.0</td>\n",
       "      <td>23969.0</td>\n",
       "      <td>11679.0</td>\n",
       "      <td>59.0</td>\n",
       "      <td>5209.0</td>\n",
       "      <td>39.0</td>\n",
       "      <td>46.0</td>\n",
       "      <td>17.0</td>\n",
       "    </tr>\n",
       "    <tr>\n",
       "      <th>k__Bacteria;p__Proteobacteria;c__Gammaproteobacteria;o__Enterobacteriales;f__Enterobacteriaceae;__</th>\n",
       "      <td>0.0</td>\n",
       "      <td>0.0</td>\n",
       "      <td>27.0</td>\n",
       "      <td>1553.0</td>\n",
       "      <td>0.0</td>\n",
       "      <td>15863.0</td>\n",
       "      <td>26.0</td>\n",
       "      <td>9230.0</td>\n",
       "    </tr>\n",
       "    <tr>\n",
       "      <th>k__Bacteria;p__Firmicutes;c__Clostridia;o__Clostridiales;f__Veillonellaceae;g__Dialister</th>\n",
       "      <td>5.0</td>\n",
       "      <td>3.0</td>\n",
       "      <td>17.0</td>\n",
       "      <td>2650.0</td>\n",
       "      <td>0.0</td>\n",
       "      <td>15826.0</td>\n",
       "      <td>0.0</td>\n",
       "      <td>1199.0</td>\n",
       "    </tr>\n",
       "    <tr>\n",
       "      <th>...</th>\n",
       "      <td>...</td>\n",
       "      <td>...</td>\n",
       "      <td>...</td>\n",
       "      <td>...</td>\n",
       "      <td>...</td>\n",
       "      <td>...</td>\n",
       "      <td>...</td>\n",
       "      <td>...</td>\n",
       "    </tr>\n",
       "    <tr>\n",
       "      <th>k__Bacteria;p__Firmicutes;c__Clostridia;o__Clostridiales;f__Dehalobacteriaceae;g__Dehalobacterium</th>\n",
       "      <td>0.0</td>\n",
       "      <td>2.0</td>\n",
       "      <td>0.0</td>\n",
       "      <td>0.0</td>\n",
       "      <td>0.0</td>\n",
       "      <td>0.0</td>\n",
       "      <td>0.0</td>\n",
       "      <td>0.0</td>\n",
       "    </tr>\n",
       "    <tr>\n",
       "      <th>k__Bacteria;p__Cyanobacteria;c__Chloroplast;o__Streptophyta;f__;g__</th>\n",
       "      <td>0.0</td>\n",
       "      <td>0.0</td>\n",
       "      <td>2.0</td>\n",
       "      <td>0.0</td>\n",
       "      <td>0.0</td>\n",
       "      <td>0.0</td>\n",
       "      <td>0.0</td>\n",
       "      <td>0.0</td>\n",
       "    </tr>\n",
       "    <tr>\n",
       "      <th>k__Bacteria;p__Firmicutes;c__Clostridia;o__Clostridiales;f__[Tissierellaceae];g__WAL_1855D</th>\n",
       "      <td>0.0</td>\n",
       "      <td>0.0</td>\n",
       "      <td>2.0</td>\n",
       "      <td>0.0</td>\n",
       "      <td>0.0</td>\n",
       "      <td>0.0</td>\n",
       "      <td>0.0</td>\n",
       "      <td>0.0</td>\n",
       "    </tr>\n",
       "    <tr>\n",
       "      <th>k__Bacteria;p__TM7;c__TM7-3;o__Blgi18;f__;g__</th>\n",
       "      <td>0.0</td>\n",
       "      <td>0.0</td>\n",
       "      <td>2.0</td>\n",
       "      <td>0.0</td>\n",
       "      <td>0.0</td>\n",
       "      <td>0.0</td>\n",
       "      <td>0.0</td>\n",
       "      <td>0.0</td>\n",
       "    </tr>\n",
       "    <tr>\n",
       "      <th>k__Bacteria;p__Firmicutes;c__Clostridia;o__Clostridiales;f__[Mogibacteriaceae];g__Mogibacterium</th>\n",
       "      <td>0.0</td>\n",
       "      <td>0.0</td>\n",
       "      <td>0.0</td>\n",
       "      <td>0.0</td>\n",
       "      <td>0.0</td>\n",
       "      <td>0.0</td>\n",
       "      <td>0.0</td>\n",
       "      <td>2.0</td>\n",
       "    </tr>\n",
       "  </tbody>\n",
       "</table>\n",
       "<p>93 rows × 8 columns</p>\n",
       "</div>"
      ],
      "text/plain": [
       "                                                    ERR1883195  ERR1883207  \\\n",
       "#OTU ID                                                                      \n",
       "k__Bacteria;p__Proteobacteria;c__Gammaproteobac...        23.0        37.0   \n",
       "k__Bacteria;p__Verrucomicrobia;c__Verrucomicrob...         6.0       598.0   \n",
       "k__Bacteria;p__Bacteroidetes;c__Bacteroidia;o__...     24784.0     23969.0   \n",
       "k__Bacteria;p__Proteobacteria;c__Gammaproteobac...         0.0         0.0   \n",
       "k__Bacteria;p__Firmicutes;c__Clostridia;o__Clos...         5.0         3.0   \n",
       "...                                                        ...         ...   \n",
       "k__Bacteria;p__Firmicutes;c__Clostridia;o__Clos...         0.0         2.0   \n",
       "k__Bacteria;p__Cyanobacteria;c__Chloroplast;o__...         0.0         0.0   \n",
       "k__Bacteria;p__Firmicutes;c__Clostridia;o__Clos...         0.0         0.0   \n",
       "k__Bacteria;p__TM7;c__TM7-3;o__Blgi18;f__;g__              0.0         0.0   \n",
       "k__Bacteria;p__Firmicutes;c__Clostridia;o__Clos...         0.0         0.0   \n",
       "\n",
       "                                                    ERR1883212  ERR1883214  \\\n",
       "#OTU ID                                                                      \n",
       "k__Bacteria;p__Proteobacteria;c__Gammaproteobac...        14.0     51036.0   \n",
       "k__Bacteria;p__Verrucomicrobia;c__Verrucomicrob...         0.0     54728.0   \n",
       "k__Bacteria;p__Bacteroidetes;c__Bacteroidia;o__...     11679.0        59.0   \n",
       "k__Bacteria;p__Proteobacteria;c__Gammaproteobac...        27.0      1553.0   \n",
       "k__Bacteria;p__Firmicutes;c__Clostridia;o__Clos...        17.0      2650.0   \n",
       "...                                                        ...         ...   \n",
       "k__Bacteria;p__Firmicutes;c__Clostridia;o__Clos...         0.0         0.0   \n",
       "k__Bacteria;p__Cyanobacteria;c__Chloroplast;o__...         2.0         0.0   \n",
       "k__Bacteria;p__Firmicutes;c__Clostridia;o__Clos...         2.0         0.0   \n",
       "k__Bacteria;p__TM7;c__TM7-3;o__Blgi18;f__;g__              2.0         0.0   \n",
       "k__Bacteria;p__Firmicutes;c__Clostridia;o__Clos...         0.0         0.0   \n",
       "\n",
       "                                                    ERR1883225  ERR1883240  \\\n",
       "#OTU ID                                                                      \n",
       "k__Bacteria;p__Proteobacteria;c__Gammaproteobac...         0.0      1779.0   \n",
       "k__Bacteria;p__Verrucomicrobia;c__Verrucomicrob...         0.0     35554.0   \n",
       "k__Bacteria;p__Bacteroidetes;c__Bacteroidia;o__...      5209.0        39.0   \n",
       "k__Bacteria;p__Proteobacteria;c__Gammaproteobac...         0.0     15863.0   \n",
       "k__Bacteria;p__Firmicutes;c__Clostridia;o__Clos...         0.0     15826.0   \n",
       "...                                                        ...         ...   \n",
       "k__Bacteria;p__Firmicutes;c__Clostridia;o__Clos...         0.0         0.0   \n",
       "k__Bacteria;p__Cyanobacteria;c__Chloroplast;o__...         0.0         0.0   \n",
       "k__Bacteria;p__Firmicutes;c__Clostridia;o__Clos...         0.0         0.0   \n",
       "k__Bacteria;p__TM7;c__TM7-3;o__Blgi18;f__;g__              0.0         0.0   \n",
       "k__Bacteria;p__Firmicutes;c__Clostridia;o__Clos...         0.0         0.0   \n",
       "\n",
       "                                                    ERR1883250  ERR1883294  \n",
       "#OTU ID                                                                     \n",
       "k__Bacteria;p__Proteobacteria;c__Gammaproteobac...       172.0      9014.0  \n",
       "k__Bacteria;p__Verrucomicrobia;c__Verrucomicrob...     11467.0         0.0  \n",
       "k__Bacteria;p__Bacteroidetes;c__Bacteroidia;o__...        46.0        17.0  \n",
       "k__Bacteria;p__Proteobacteria;c__Gammaproteobac...        26.0      9230.0  \n",
       "k__Bacteria;p__Firmicutes;c__Clostridia;o__Clos...         0.0      1199.0  \n",
       "...                                                        ...         ...  \n",
       "k__Bacteria;p__Firmicutes;c__Clostridia;o__Clos...         0.0         0.0  \n",
       "k__Bacteria;p__Cyanobacteria;c__Chloroplast;o__...         0.0         0.0  \n",
       "k__Bacteria;p__Firmicutes;c__Clostridia;o__Clos...         0.0         0.0  \n",
       "k__Bacteria;p__TM7;c__TM7-3;o__Blgi18;f__;g__              0.0         0.0  \n",
       "k__Bacteria;p__Firmicutes;c__Clostridia;o__Clos...         0.0         2.0  \n",
       "\n",
       "[93 rows x 8 columns]"
      ]
     },
     "execution_count": 26,
     "metadata": {},
     "output_type": "execute_result"
    }
   ],
   "source": [
    "abundances = pd.read_table(\"exported/genus.tsv\", skiprows=1, index_col=0)\n",
    "abundances"
   ]
  },
  {
   "cell_type": "code",
   "execution_count": null,
   "id": "86543d7e-f24b-4700-8682-cb742183d202",
   "metadata": {},
   "outputs": [],
   "source": []
  },
  {
   "cell_type": "code",
   "execution_count": null,
   "id": "0568abba-1c85-482c-aefc-c025f616a8eb",
   "metadata": {},
   "outputs": [],
   "source": []
  }
 ],
 "metadata": {
  "kernelspec": {
   "display_name": "Image_amplicon_2024.10",
   "language": "python",
   "name": "amplicon_2024.10"
  },
  "language_info": {
   "codemirror_mode": {
    "name": "ipython",
    "version": 3
   },
   "file_extension": ".py",
   "mimetype": "text/x-python",
   "name": "python",
   "nbconvert_exporter": "python",
   "pygments_lexer": "ipython3",
   "version": "3.10.14"
  }
 },
 "nbformat": 4,
 "nbformat_minor": 5
}
