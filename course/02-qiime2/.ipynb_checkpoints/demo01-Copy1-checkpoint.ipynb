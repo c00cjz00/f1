{
 "cells": [
  {
   "cell_type": "markdown",
   "id": "6e5de931-40fc-4c10-86bd-d0f9694ab738",
   "metadata": {},
   "source": [
    "# 🦠 Amplicon Sequencing Data Analysis with QIIME 2"
   ]
  },
  {
   "cell_type": "markdown",
   "id": "54bc1bce-9b47-4165-a09d-fa58f5a640af",
   "metadata": {},
   "source": [
    "## 環境設定"
   ]
  },
  {
   "cell_type": "code",
   "execution_count": 1,
   "id": "208deb90-89af-446c-b4d3-e31d246d8a70",
   "metadata": {},
   "outputs": [],
   "source": [
    "# 對外連線網路設定\n",
    "import os\n",
    "os.environ['http_proxy'] = \"socks5://icpnp148:12345\" \n",
    "os.environ['https_proxy'] = \"socks5://icpnp148:12345\""
   ]
  },
  {
   "cell_type": "code",
   "execution_count": 2,
   "id": "bc3cec47-1589-4a68-9d7f-0da8d9d46a06",
   "metadata": {},
   "outputs": [],
   "source": [
    "# 執行檔路徑設定\n",
    "import os\n",
    "from pathlib import Path\n",
    "HOME = str(Path.home())\n",
    "Add_Binarry_Path=HOME+'/.local/bin:/usr/localbin'\n",
    "os.environ['PATH']=os.environ['PATH']+':'+Add_Binarry_Path"
   ]
  },
  {
   "cell_type": "code",
   "execution_count": 3,
   "id": "1706a61b-f679-4acc-80b4-2fe5c1d9300e",
   "metadata": {},
   "outputs": [],
   "source": [
    "# Qiime2 環境設定\n",
    "os.environ['MPLCONFIGDIR'] = \"/tmp/mplconfigdir\"\n",
    "os.environ['NUMBA_CACHE_DIR'] = \"/tmp/numbacache\"\n",
    "os.environ['XDG_CONFIG_HOME'] = \"/home/c00cjz00\"\n",
    "os.environ['CONDA_PREFIX'] = \"/home/c00cjz00/.conda/qiime2-amplicon-2024.5\""
   ]
  },
  {
   "cell_type": "markdown",
   "id": "db20665b-41f2-4ad7-8b71-6a03a75613cb",
   "metadata": {},
   "source": [
    "# 開始吧！\r\n",
    "\r\n",
    "現在進入有趣的部分了。我們先來看看我們的資料。在 _data_ 資料夾裡，你會找到八個 FASTQ 檔案、一個文件清單（manifest）和一個元數據檔案。首先，我們來看看清單檔案。這是一個包含所有樣本名稱和檔案路徑的文件，稍後我們在使用 QIIME2 時會需要用到它 📝。"
   ]
  },
  {
   "cell_type": "code",
   "execution_count": 4,
   "id": "e1272c1f-b917-4240-b9ad-2a8cc83679e0",
   "metadata": {},
   "outputs": [
    {
     "data": {
      "text/html": [
       "<div>\n",
       "<style scoped>\n",
       "    .dataframe tbody tr th:only-of-type {\n",
       "        vertical-align: middle;\n",
       "    }\n",
       "\n",
       "    .dataframe tbody tr th {\n",
       "        vertical-align: top;\n",
       "    }\n",
       "\n",
       "    .dataframe thead th {\n",
       "        text-align: right;\n",
       "    }\n",
       "</style>\n",
       "<table border=\"1\" class=\"dataframe\">\n",
       "  <thead>\n",
       "    <tr style=\"text-align: right;\">\n",
       "      <th></th>\n",
       "      <th>sample-id</th>\n",
       "      <th>absolute-filepath</th>\n",
       "    </tr>\n",
       "  </thead>\n",
       "  <tbody>\n",
       "    <tr>\n",
       "      <th>0</th>\n",
       "      <td>ERR1883195</td>\n",
       "      <td>$PWD/data/ERR1883195.fastq.gz</td>\n",
       "    </tr>\n",
       "    <tr>\n",
       "      <th>1</th>\n",
       "      <td>ERR1883207</td>\n",
       "      <td>$PWD/data/ERR1883207.fastq.gz</td>\n",
       "    </tr>\n",
       "    <tr>\n",
       "      <th>2</th>\n",
       "      <td>ERR1883212</td>\n",
       "      <td>$PWD/data/ERR1883212.fastq.gz</td>\n",
       "    </tr>\n",
       "    <tr>\n",
       "      <th>3</th>\n",
       "      <td>ERR1883214</td>\n",
       "      <td>$PWD/data/ERR1883214.fastq.gz</td>\n",
       "    </tr>\n",
       "    <tr>\n",
       "      <th>4</th>\n",
       "      <td>ERR1883225</td>\n",
       "      <td>$PWD/data/ERR1883225.fastq.gz</td>\n",
       "    </tr>\n",
       "    <tr>\n",
       "      <th>5</th>\n",
       "      <td>ERR1883240</td>\n",
       "      <td>$PWD/data/ERR1883240.fastq.gz</td>\n",
       "    </tr>\n",
       "    <tr>\n",
       "      <th>6</th>\n",
       "      <td>ERR1883250</td>\n",
       "      <td>$PWD/data/ERR1883250.fastq.gz</td>\n",
       "    </tr>\n",
       "    <tr>\n",
       "      <th>7</th>\n",
       "      <td>ERR1883294</td>\n",
       "      <td>$PWD/data/ERR1883294.fastq.gz</td>\n",
       "    </tr>\n",
       "  </tbody>\n",
       "</table>\n",
       "</div>"
      ],
      "text/plain": [
       "    sample-id              absolute-filepath\n",
       "0  ERR1883195  $PWD/data/ERR1883195.fastq.gz\n",
       "1  ERR1883207  $PWD/data/ERR1883207.fastq.gz\n",
       "2  ERR1883212  $PWD/data/ERR1883212.fastq.gz\n",
       "3  ERR1883214  $PWD/data/ERR1883214.fastq.gz\n",
       "4  ERR1883225  $PWD/data/ERR1883225.fastq.gz\n",
       "5  ERR1883240  $PWD/data/ERR1883240.fastq.gz\n",
       "6  ERR1883250  $PWD/data/ERR1883250.fastq.gz\n",
       "7  ERR1883294  $PWD/data/ERR1883294.fastq.gz"
      ]
     },
     "execution_count": 4,
     "metadata": {},
     "output_type": "execute_result"
    }
   ],
   "source": [
    "import pandas as pd\n",
    "manifest = pd.read_csv('data/manifest.tsv', sep = '\\t')\n",
    "manifest"
   ]
  },
  {
   "cell_type": "code",
   "execution_count": 5,
   "id": "03ab8003-c707-44d9-b4f8-468b34562bd3",
   "metadata": {},
   "outputs": [
    {
     "data": {
      "text/html": [
       "<div>\n",
       "<style scoped>\n",
       "    .dataframe tbody tr th:only-of-type {\n",
       "        vertical-align: middle;\n",
       "    }\n",
       "\n",
       "    .dataframe tbody tr th {\n",
       "        vertical-align: top;\n",
       "    }\n",
       "\n",
       "    .dataframe thead th {\n",
       "        text-align: right;\n",
       "    }\n",
       "</style>\n",
       "<table border=\"1\" class=\"dataframe\">\n",
       "  <thead>\n",
       "    <tr style=\"text-align: right;\">\n",
       "      <th></th>\n",
       "      <th>sample-id</th>\n",
       "      <th>collection_timestamp</th>\n",
       "      <th>day_relative_to_fmt</th>\n",
       "      <th>description</th>\n",
       "      <th>disease_state</th>\n",
       "      <th>host_age</th>\n",
       "      <th>host_age_units</th>\n",
       "      <th>host_body_mass_index</th>\n",
       "      <th>host_height</th>\n",
       "      <th>host_height_units</th>\n",
       "      <th>host_subject_id</th>\n",
       "      <th>host_weight</th>\n",
       "      <th>host_weight_units</th>\n",
       "      <th>race</th>\n",
       "      <th>sex</th>\n",
       "    </tr>\n",
       "  </thead>\n",
       "  <tbody>\n",
       "    <tr>\n",
       "      <th>0</th>\n",
       "      <td>ERR1883195</td>\n",
       "      <td>2011-10-24</td>\n",
       "      <td>26</td>\n",
       "      <td>Donor 11</td>\n",
       "      <td>healthy</td>\n",
       "      <td>Restricted access</td>\n",
       "      <td>years</td>\n",
       "      <td>Restricted access</td>\n",
       "      <td>Restricted access</td>\n",
       "      <td>m</td>\n",
       "      <td>Donor</td>\n",
       "      <td>Restricted access</td>\n",
       "      <td>kg</td>\n",
       "      <td>Restricted access</td>\n",
       "      <td>Restricted access</td>\n",
       "    </tr>\n",
       "    <tr>\n",
       "      <th>1</th>\n",
       "      <td>ERR1883207</td>\n",
       "      <td>2012-01-12</td>\n",
       "      <td>44</td>\n",
       "      <td>Donor 12</td>\n",
       "      <td>healthy</td>\n",
       "      <td>Restricted access</td>\n",
       "      <td>years</td>\n",
       "      <td>Restricted access</td>\n",
       "      <td>Restricted access</td>\n",
       "      <td>m</td>\n",
       "      <td>Donor</td>\n",
       "      <td>Restricted access</td>\n",
       "      <td>kg</td>\n",
       "      <td>Restricted access</td>\n",
       "      <td>Restricted access</td>\n",
       "    </tr>\n",
       "    <tr>\n",
       "      <th>2</th>\n",
       "      <td>ERR1883212</td>\n",
       "      <td>2012-10-10</td>\n",
       "      <td>135</td>\n",
       "      <td>Donor 14</td>\n",
       "      <td>healthy</td>\n",
       "      <td>Restricted access</td>\n",
       "      <td>years</td>\n",
       "      <td>Restricted access</td>\n",
       "      <td>Restricted access</td>\n",
       "      <td>m</td>\n",
       "      <td>Donor</td>\n",
       "      <td>Restricted access</td>\n",
       "      <td>kg</td>\n",
       "      <td>Restricted access</td>\n",
       "      <td>Restricted access</td>\n",
       "    </tr>\n",
       "    <tr>\n",
       "      <th>3</th>\n",
       "      <td>ERR1883214</td>\n",
       "      <td>2011-07-26</td>\n",
       "      <td>0</td>\n",
       "      <td>Day 0 CD1</td>\n",
       "      <td>Pre-FMT</td>\n",
       "      <td>39</td>\n",
       "      <td>years</td>\n",
       "      <td>29.3</td>\n",
       "      <td>165.1</td>\n",
       "      <td>m</td>\n",
       "      <td>CD1</td>\n",
       "      <td>80.1</td>\n",
       "      <td>kg</td>\n",
       "      <td>white</td>\n",
       "      <td>female</td>\n",
       "    </tr>\n",
       "    <tr>\n",
       "      <th>4</th>\n",
       "      <td>ERR1883225</td>\n",
       "      <td>2011-07-26</td>\n",
       "      <td>54</td>\n",
       "      <td>Donor CD1</td>\n",
       "      <td>healthy</td>\n",
       "      <td>Restricted access</td>\n",
       "      <td>years</td>\n",
       "      <td>Restricted access</td>\n",
       "      <td>Restricted access</td>\n",
       "      <td>m</td>\n",
       "      <td>Donor</td>\n",
       "      <td>Restricted access</td>\n",
       "      <td>kg</td>\n",
       "      <td>Restricted access</td>\n",
       "      <td>Restricted access</td>\n",
       "    </tr>\n",
       "    <tr>\n",
       "      <th>5</th>\n",
       "      <td>ERR1883240</td>\n",
       "      <td>2012-02-14</td>\n",
       "      <td>pre-FMT</td>\n",
       "      <td>CD9 pre-FMT</td>\n",
       "      <td>Pre-FMT</td>\n",
       "      <td>47</td>\n",
       "      <td>years</td>\n",
       "      <td>35.5</td>\n",
       "      <td>1.55</td>\n",
       "      <td>m</td>\n",
       "      <td>CD9</td>\n",
       "      <td>85.1</td>\n",
       "      <td>kg</td>\n",
       "      <td>white</td>\n",
       "      <td>female</td>\n",
       "    </tr>\n",
       "    <tr>\n",
       "      <th>6</th>\n",
       "      <td>ERR1883250</td>\n",
       "      <td>2011-12-23</td>\n",
       "      <td>pre-FMT</td>\n",
       "      <td>CD13 pre-FMT</td>\n",
       "      <td>Pre-FMT</td>\n",
       "      <td>53</td>\n",
       "      <td>years</td>\n",
       "      <td>34.4</td>\n",
       "      <td>1.56</td>\n",
       "      <td>m</td>\n",
       "      <td>CD13</td>\n",
       "      <td>83.9</td>\n",
       "      <td>kg</td>\n",
       "      <td>white</td>\n",
       "      <td>female</td>\n",
       "    </tr>\n",
       "    <tr>\n",
       "      <th>7</th>\n",
       "      <td>ERR1883294</td>\n",
       "      <td>2011-09-29</td>\n",
       "      <td>0</td>\n",
       "      <td>Day 0 CD3</td>\n",
       "      <td>Pre-FMT</td>\n",
       "      <td>61</td>\n",
       "      <td>years</td>\n",
       "      <td>32.5</td>\n",
       "      <td>1.727</td>\n",
       "      <td>m</td>\n",
       "      <td>CD3</td>\n",
       "      <td>97.3</td>\n",
       "      <td>kg</td>\n",
       "      <td>white</td>\n",
       "      <td>male</td>\n",
       "    </tr>\n",
       "  </tbody>\n",
       "</table>\n",
       "</div>"
      ],
      "text/plain": [
       "    sample-id collection_timestamp day_relative_to_fmt   description  \\\n",
       "0  ERR1883195           2011-10-24                  26      Donor 11   \n",
       "1  ERR1883207           2012-01-12                  44      Donor 12   \n",
       "2  ERR1883212           2012-10-10                 135      Donor 14   \n",
       "3  ERR1883214           2011-07-26                   0     Day 0 CD1   \n",
       "4  ERR1883225           2011-07-26                  54     Donor CD1   \n",
       "5  ERR1883240           2012-02-14             pre-FMT   CD9 pre-FMT   \n",
       "6  ERR1883250           2011-12-23             pre-FMT  CD13 pre-FMT   \n",
       "7  ERR1883294           2011-09-29                   0     Day 0 CD3   \n",
       "\n",
       "  disease_state           host_age host_age_units host_body_mass_index  \\\n",
       "0       healthy  Restricted access          years    Restricted access   \n",
       "1       healthy  Restricted access          years    Restricted access   \n",
       "2       healthy  Restricted access          years    Restricted access   \n",
       "3       Pre-FMT                 39          years                 29.3   \n",
       "4       healthy  Restricted access          years    Restricted access   \n",
       "5       Pre-FMT                 47          years                 35.5   \n",
       "6       Pre-FMT                 53          years                 34.4   \n",
       "7       Pre-FMT                 61          years                 32.5   \n",
       "\n",
       "         host_height host_height_units host_subject_id        host_weight  \\\n",
       "0  Restricted access                 m           Donor  Restricted access   \n",
       "1  Restricted access                 m           Donor  Restricted access   \n",
       "2  Restricted access                 m           Donor  Restricted access   \n",
       "3              165.1                 m             CD1               80.1   \n",
       "4  Restricted access                 m           Donor  Restricted access   \n",
       "5               1.55                 m             CD9               85.1   \n",
       "6               1.56                 m            CD13               83.9   \n",
       "7              1.727                 m             CD3               97.3   \n",
       "\n",
       "  host_weight_units               race                sex  \n",
       "0                kg  Restricted access  Restricted access  \n",
       "1                kg  Restricted access  Restricted access  \n",
       "2                kg  Restricted access  Restricted access  \n",
       "3                kg              white             female  \n",
       "4                kg  Restricted access  Restricted access  \n",
       "5                kg              white             female  \n",
       "6                kg              white             female  \n",
       "7                kg              white               male  "
      ]
     },
     "execution_count": 5,
     "metadata": {},
     "output_type": "execute_result"
    }
   ],
   "source": [
    "metadata = pd.read_csv('data/metadata.tsv', sep = '\\t')\n",
    "metadata"
   ]
  },
  {
   "cell_type": "markdown",
   "id": "2590c3c7-bb43-49b5-b74a-921ebb0eb012",
   "metadata": {},
   "source": [
    "看起來不錯，所有八個 FASTQ 檔案都已確認無誤，四個是健康樣本，四個是反覆性CDI的樣本。我們可以使用清單檔將我們的檔案匯入 QIIME2。\r\n",
    "\r\n",
    "## QIIME2 流程\r\n",
    "\r\n",
    "讓我們回顧一下 QIIME2 流程將會做什麼：\n",
    "![our workflow](https://github.com/Gibbons-Lab/isb_course_2023/raw/main/docs/16S/assets/steps.png)"
   ]
  },
  {
   "cell_type": "markdown",
   "id": "fc3b71fc-e9f2-459a-8b0f-3ade32d677f4",
   "metadata": {},
   "source": [
    "To use sequencing data in QIIME2, we first need to turn the FASTQ files containing our data into QIIME artifacts. Using the manifest we just checked out, let's run our first command:\n",
    "\n",
    "-- as a reminder, adding ```!``` before the command tells the notebook this is a bash command, rather than python."
   ]
  },
  {
   "cell_type": "code",
   "execution_count": null,
   "id": "1c506ab9-b062-4c5e-8539-a3c2e2a366ec",
   "metadata": {},
   "outputs": [],
   "source": [
    "# fastq檔案格式轉換成qza\n",
    "!mkdir -p output\n",
    "!qiime tools import \\\n",
    "  --type 'SampleData[SequencesWithQuality]' \\\n",
    "  --input-path data/manifest.tsv \\\n",
    "  --output-path output/sequences.qza \\\n",
    "  --input-format SingleEndFastqManifestPhred33V2"
   ]
  },
  {
   "cell_type": "markdown",
   "id": "1b53f3bc-eda4-4add-84f3-818f151dcab4",
   "metadata": {},
   "source": [
    "## 確認qza檔案內容物"
   ]
  },
  {
   "cell_type": "code",
   "execution_count": null,
   "id": "e9685b8c-8c91-4866-af2c-c9be4f8bfb7f",
   "metadata": {},
   "outputs": [],
   "source": [
    "# 確認qza檔案內容物\n",
    "!qiime tools peek output/sequences.qza"
   ]
  },
  {
   "cell_type": "markdown",
   "id": "7b06e841-35d8-43ea-83ef-3b644508778d",
   "metadata": {},
   "source": [
    "## Visualizing our Data 🔎\n",
    "\n",
    "Before we move on, let's use QIIME2 to visualize our sequencing data."
   ]
  },
  {
   "cell_type": "code",
   "execution_count": null,
   "id": "467f3789-f882-49f0-a3ab-256f8fc4c207",
   "metadata": {},
   "outputs": [],
   "source": [
    "!cp output/sequences.qza output/demux.qza\n",
    "!qiime demux summarize \\\n",
    "--i-data output/demux.qza \\\n",
    "--o-visualization output/demux.qzv"
   ]
  },
  {
   "cell_type": "markdown",
   "id": "1a44ff0c-bd34-4f4f-853e-5ed552f915c8",
   "metadata": {},
   "source": [
    ".qzv files like the one we just produced are visualization. You can view the plot by downloading the file and opening it using http://view.qiime2.org. To download the file click on the folder symbol to the left, open the `output` folder, and choose download from the dot menu next to the `output/demux.qzv` file.\n",
    "\n",
    "---\n",
    "\n",
    "## Quality Filtering\n",
    "\n",
    "Before we can use our sequencing data, we need to \"denoise\" it. To do this, we'll use a plugin called DADA2. This involves three things.\n",
    "\n",
    "1. filter and trim the reads\n",
    "2. find the most likely set of unique sequences in the sample (ASVs)\n",
    "3. remove chimeras\n",
    "4. count the abundances of each ASV\n",
    "\n",
    "\n",
    "This command will take a little time - let's run it, and head back to the presentation to discuss what's happening."
   ]
  },
  {
   "cell_type": "code",
   "execution_count": null,
   "id": "e53c2de6-1410-4f93-bcb8-9ebc8865424d",
   "metadata": {},
   "outputs": [],
   "source": [
    "!qiime dada2 denoise-single \\\n",
    "  --i-demultiplexed-seqs output/demux.qza \\\n",
    "  --p-trim-left 0 \\\n",
    "  --p-trunc-len 150 \\\n",
    "  --p-n-threads 2 \\\n",
    "  --o-representative-sequences output/rep-seqs.qza \\\n",
    "  --o-table output/table.qza \\\n",
    "  --o-denoising-stats output/stats.qza"
   ]
  },
  {
   "cell_type": "markdown",
   "id": "ee42001f-423c-4978-87dc-d5faecbf0224",
   "metadata": {},
   "source": [
    "Let's check to see how that went. One good way to tell if the identified ASVs are representative of the sample is to see how many reads were maintained throughout the pipeline. Here, the most common issues and solutions are:\n",
    "\n",
    "**Large fraction of reads is lost during merging (only paired-end)**\n",
    "\n",
    "![read overlap](https://gibbons-lab.github.io/isb_course_2023/16S/assets/read_overlap.png)\n",
    "\n",
    "In order to merge ASVs DADA2 uses an overlap of 12 bases between forward and reverse reads by default. Thus, your reads must allow for sufficient overlap *after* trimming. So if your amplified region is 450bp long and you have 2x250bp reads and you trim the last 30 bases of each read, truncating the length to 220bp, the total length of covered sequence is 2x220 = 440 which is shorter than 450bp so there will be no overlap. To solve this issue trim less of the reads or adjust the `--p-min-overlap` parameters to something lower (but not too low).\n",
    "\n",
    "<br>\n",
    "\n",
    "**Most of the reads are lost as chimeric**\n",
    "\n",
    "![read overlap](https://gibbons-lab.github.io/isb_course_2023/16S/assets/chimera.png)\n",
    "\n",
    "This is usually an experimental issue as chimeras are introduced during amplification. If you can adjust your PCR, try to run fewer cycles. Chimeras can also be introduced by incorrect merging. If your minimum overlap is too small ASVs may be merged randomly. Possible fixes are to increase the `--p-min-overlap` parameter or run the analysis on the forward reads only (in our empirical observations, chimeras are more likely to be introduced in the joined reads). *However, losing between 5-25% of your reads to chimeras is normal and does not require any adjustments.*\n",
    "\n",
    "\n",
    "Our denoising stats are contained in an artifact. To convert it to a visualization we can use `qiime metadata tabulate`."
   ]
  },
  {
   "cell_type": "code",
   "execution_count": null,
   "id": "b14e884c-88d0-40b7-a8d5-ea4ffdbc5b40",
   "metadata": {},
   "outputs": [],
   "source": [
    "!qiime feature-table tabulate-seqs \\\n",
    "  --i-data output/rep-seqs.qza \\\n",
    "  --o-visualization output/rep-seqs.qzv\n",
    "\n",
    "!qiime feature-table summarize \\\n",
    "  --i-table output/table.qza \\\n",
    "  --m-sample-metadata-file data/metadata.tsv \\\n",
    "  --o-visualization output/table.qzv\n",
    "\n",
    "!qiime metadata tabulate \\\n",
    "    --m-input-file output/stats.qza \\\n",
    "    --o-visualization output/stats.qzv"
   ]
  },
  {
   "cell_type": "markdown",
   "id": "c227ccc5-1deb-455a-acb2-db6afb4bffd4",
   "metadata": {},
   "source": [
    "Like before, we can download the .qzv file and visualize the results using the [QIIME2 Viewer]('https://view.qiime2.org/').\n",
    "\n",
    "It's important to understand what this output tells us. For instance, what percent of reads in our data pass the filtering step? What percent of reads were non-chimeric? Differences in these metrics between samples can affect diversity metrics.\n",
    "\n",
    "---"
   ]
  },
  {
   "cell_type": "markdown",
   "id": "240b8f6d-8865-4041-8a31-0ebbb366ef84",
   "metadata": {},
   "source": [
    "## Diversity and Phylogenetics\n",
    "An important metric to consider when studying microbial ecology is __diversity__. Diversity comes in two flavors: ⍺ (alpha) and β (beta).\n",
    "\n",
    "Alpha diversity is pretty simple - how diverse is a single sample? You might consider measures like richness and evenness.\n",
    "\n",
    "![alpha diversity](https://gibbons-lab.github.io/isb_course_2023/16S/assets/alpha_diversity.png)\n",
    "\n",
    "Beta diversity instead looks at how different two samples are from each other - what taxa are shared, and how their abundances differ.\n",
    "\n",
    "![beta diversity](https://gibbons-lab.github.io/isb_course_2023/16S/assets/beta_diversity.png)\n",
    "\n",
    "\n",
    "### Starting our Tree\n",
    "\n",
    "Let's start by building a phylogenetic tree for our sequences using the following command. This time, we call the _phylogeny_ plugin in QIIME2."
   ]
  },
  {
   "cell_type": "code",
   "execution_count": null,
   "id": "2230441c-2732-4e33-9829-ffb5071b39e1",
   "metadata": {},
   "outputs": [],
   "source": [
    "!qiime phylogeny align-to-tree-mafft-fasttree \\\n",
    "  --i-sequences output/rep-seqs.qza \\\n",
    "  --o-alignment output/aligned-rep-seqs.qza \\\n",
    "  --o-masked-alignment output/masked-aligned-rep-seqs.qza \\\n",
    "  --o-tree output/unrooted-tree.qza \\\n",
    "  --o-rooted-tree output/rooted-tree.qza"
   ]
  },
  {
   "cell_type": "markdown",
   "id": "c5542968-75d3-485a-bfbd-1df0ead678b8",
   "metadata": {},
   "source": [
    "\n",
    "## Calculating Diversity\n",
    "Using the Diversity plugin, we can use our table and tree to calculate several diversity metrics. To account for variations in sampling depth, we'll provide QIIME2 with a cutoff at which rarefy all our samples. Since this randomly selects sequences, your results might look a little different. We'll also pass in our metadata file, so we can keep track how which samples come from each group."
   ]
  },
  {
   "cell_type": "code",
   "execution_count": null,
   "id": "777d4036-42e4-4176-8d81-9c7ae811f1f9",
   "metadata": {},
   "outputs": [],
   "source": [
    "!qiime diversity core-metrics-phylogenetic \\\n",
    "    --i-table output/table.qza \\\n",
    "    --i-phylogeny output/rooted-tree.qza \\\n",
    "    --p-sampling-depth 8000 \\\n",
    "    --m-metadata-file data/metadata.tsv \\\n",
    "    --output-dir diversity"
   ]
  },
  {
   "cell_type": "markdown",
   "id": "df764e76-1183-4b75-b08c-2d17f96558d8",
   "metadata": {},
   "source": [
    "## Alpha Diversity\n",
    "\n",
    "We get a bunch of outputs from the previous command - measures of both alpha and beta diversity. To start, let's use the Shannon vector in the output directory to create a visualization of alpha diversity across samples. Generally, healthy, long-living individuals have balanced diverse microbiomes. However, this isn't necessarily a direct indicator of health or disease. Let's see how it looks in our samples"
   ]
  },
  {
   "cell_type": "code",
   "execution_count": null,
   "id": "23bb804a-786f-4615-a7a9-d3488dd8b94d",
   "metadata": {},
   "outputs": [],
   "source": [
    "!qiime diversity alpha-group-significance \\\n",
    "    --i-alpha-diversity diversity/shannon_vector.qza \\\n",
    "    --m-metadata-file data/metadata.tsv \\\n",
    "    --o-visualization diversity/alpha_groups-shannon_vector.qzv"
   ]
  },
  {
   "cell_type": "code",
   "execution_count": null,
   "id": "0d9c9143-8710-417f-8531-bf527b929678",
   "metadata": {},
   "outputs": [],
   "source": [
    "!qiime diversity alpha-group-significance \\\n",
    "    --i-alpha-diversity diversity/faith_pd_vector.qza \\\n",
    "    --m-metadata-file data/metadata.tsv \\\n",
    "    --o-visualization diversity/alpha_groups-faith_pd_vector.qzv"
   ]
  },
  {
   "cell_type": "code",
   "execution_count": null,
   "id": "8117d40f-adc2-440e-812c-874bc818a963",
   "metadata": {},
   "outputs": [],
   "source": [
    "!qiime diversity alpha-group-significance \\\n",
    "    --i-alpha-diversity diversity/evenness_vector.qza \\\n",
    "    --m-metadata-file data/metadata.tsv \\\n",
    "    --o-visualization diversity/alpha_groups-evenness_vector.qzv"
   ]
  },
  {
   "cell_type": "markdown",
   "id": "081b5b75-88ca-4fbc-85f9-3153bf1d817f",
   "metadata": {},
   "source": [
    "Like before, we can download the visualization and open it with the QIIME2 viewer.\n",
    "\n",
    "## Beta Diversity\n",
    "\n",
    "Let's visualize the beta diversity and see how they separate. For this we'll look at weighted UniFrac. This time, we'll have to download the file ⬅️\n",
    "\n",
    "<br>\n",
    "\n",
    "We can check for 'significant' separation between samples using PERMANOVA. We can do this with the diversity plugin in QIIME2."
   ]
  },
  {
   "cell_type": "code",
   "execution_count": null,
   "id": "47e6dedd-7f1a-42d7-b025-1a5abdb3305e",
   "metadata": {},
   "outputs": [],
   "source": [
    "!qiime diversity adonis \\\n",
    "    --i-distance-matrix diversity/weighted_unifrac_distance_matrix.qza \\\n",
    "    --m-metadata-file data/metadata.tsv \\\n",
    "    --p-formula \"disease_state\" \\\n",
    "    --p-n-jobs 2 \\\n",
    "    --o-visualization diversity/permanova.qzv"
   ]
  },
  {
   "cell_type": "code",
   "execution_count": null,
   "id": "6eef3d8d-1748-4f8a-ad19-b9d9caea82ee",
   "metadata": {},
   "outputs": [],
   "source": [
    "!qiime diversity beta-group-significance \\\n",
    "    --i-distance-matrix diversity/weighted_unifrac_distance_matrix.qza \\\n",
    "    --m-metadata-file data/metadata.tsv \\\n",
    "    --m-metadata-column disease_state \\\n",
    "    --o-visualization diversity/beta_groups-weighted_unifrac_distance_matrix.qzv \\\n",
    "    --p-pairwise\n"
   ]
  },
  {
   "cell_type": "code",
   "execution_count": null,
   "id": "98666d32-3e0b-4537-8df6-6ab194f8a42f",
   "metadata": {},
   "outputs": [],
   "source": [
    "!qiime diversity beta-group-significance \\\n",
    "    --i-distance-matrix diversity/weighted_unifrac_distance_matrix.qza \\\n",
    "    --m-metadata-file data/metadata.tsv \\\n",
    "    --m-metadata-column disease_state \\\n",
    "    --o-visualization diversity/beta_groups-weighted_unifrac_distance_matrix.qzv \\\n",
    "    --p-pairwise"
   ]
  },
  {
   "cell_type": "code",
   "execution_count": null,
   "id": "fca0e246-9f74-4b3c-ad94-0dca0d29ac34",
   "metadata": {},
   "outputs": [],
   "source": [
    "qiime emperor plot \\\n",
    "  --i-pcoa core-metrics-results/unweighted_unifrac_pcoa_results.qza \\\n",
    "  --m-metadata-file sample-metadata.tsv \\\n",
    "  --p-custom-axes days-since-experiment-start \\\n",
    "  --o-visualization core-metrics-results/unweighted-unifrac-emperor-days-since-experiment-start.qzv"
   ]
  },
  {
   "cell_type": "markdown",
   "id": "65f206ee-14b7-468f-904e-8a54e00af1fa",
   "metadata": {},
   "source": [
    "---\n",
    "\n",
    "## Taxonomic Classification\n",
    "\n",
    "We can learn a lot from diversity metrics, alpha and beta. But to really dig into the data, we need to know what microbes are in each sample 🦠. To do this, we'll classify the reads in QIIME2 using a Bayesian classifier. Several such classifiers are available at https://docs.qiime2.org/2023.7/data-resources"
   ]
  },
  {
   "cell_type": "code",
   "execution_count": null,
   "id": "dd7e4cb9-18c2-4637-a68d-8e82fea6bb0c",
   "metadata": {},
   "outputs": [],
   "source": [
    "!curl -sL \\\n",
    "  \"https://data.qiime2.org/classifiers/sklearn-1.4.2/greengenes/gg-13-8-99-515-806-nb-classifier.qza\" > \\\n",
    "  \"output/gg-13-8-99-515-806-nb-classifier.qza\""
   ]
  },
  {
   "cell_type": "code",
   "execution_count": null,
   "id": "7f40d9ee-9352-42c6-abaf-a500fa65c029",
   "metadata": {},
   "outputs": [],
   "source": [
    "!qiime feature-classifier classify-sklearn \\\n",
    "    --i-reads output/rep-seqs.qza \\\n",
    "    --i-classifier output/gg-13-8-99-515-806-nb-classifier.qza \\\n",
    "    --p-n-jobs 2 \\\n",
    "    --o-classification output/taxonomy.qza"
   ]
  },
  {
   "cell_type": "code",
   "execution_count": null,
   "id": "885f7cad-62c2-4eb5-a4c9-0f47f9c6448c",
   "metadata": {},
   "outputs": [],
   "source": [
    "!qiime metadata tabulate \\\n",
    "  --m-input-file output/taxonomy.qza \\\n",
    "  --o-visualization output/taxonomy.qzv"
   ]
  },
  {
   "cell_type": "markdown",
   "id": "0801cf0d-7dcd-4594-a9c4-cb8dbf053132",
   "metadata": {},
   "source": [
    "Now we've classified the reads, we can visualize the taxonomic breakdown of our samples."
   ]
  },
  {
   "cell_type": "code",
   "execution_count": null,
   "id": "cd5c2eec-b01f-42fb-a6e1-344264440b56",
   "metadata": {},
   "outputs": [],
   "source": [
    "!qiime taxa barplot \\\n",
    "    --i-table output/table.qza \\\n",
    "    --i-taxonomy output/taxonomy.qza \\\n",
    "    --m-metadata-file data/metadata.tsv \\\n",
    "    --o-visualization output/taxa_barplot.qzv"
   ]
  },
  {
   "cell_type": "markdown",
   "id": "55051074-7c83-4db8-981d-b87076c60843",
   "metadata": {},
   "source": [
    "Now, we can use ```table.qza```, which contains our reads, and ```taxa.qza```, which contains taxonomic classifications for reads, and collapse the data onto the genus level."
   ]
  },
  {
   "cell_type": "code",
   "execution_count": null,
   "id": "1129ec67-f5e9-49d8-af0a-124e824cde0d",
   "metadata": {},
   "outputs": [],
   "source": [
    "!qiime taxa collapse \\\n",
    "    --i-table output/table.qza \\\n",
    "    --i-taxonomy output/taxonomy.qza \\\n",
    "    --p-level 6 \\\n",
    "    --o-collapsed-table output/genus.qza"
   ]
  },
  {
   "cell_type": "code",
   "execution_count": null,
   "id": "fc176d4e-643c-40bf-ac71-b658fa923b45",
   "metadata": {},
   "outputs": [],
   "source": [
    "We'll export this as a .tsv, which will be more usable for the next portion of the course"
   ]
  },
  {
   "cell_type": "code",
   "execution_count": null,
   "id": "c4927dc3-bd5f-4277-87d7-0d9fa333463a",
   "metadata": {},
   "outputs": [],
   "source": [
    "!qiime tools export \\\n",
    "    --input-path output/genus.qza \\\n",
    "    --output-path exported"
   ]
  },
  {
   "cell_type": "code",
   "execution_count": null,
   "id": "366d451e-2c77-4df2-a043-3464a49da559",
   "metadata": {},
   "outputs": [],
   "source": [
    "!biom convert -i exported/feature-table.biom -o exported/genus.tsv --to-tsv"
   ]
  },
  {
   "cell_type": "code",
   "execution_count": null,
   "id": "90e72e75-33b0-4b2d-84c1-cf8515445292",
   "metadata": {},
   "outputs": [],
   "source": [
    "abundances = pd.read_table(\"exported/genus.tsv\", skiprows=1, index_col=0)\n",
    "abundances"
   ]
  },
  {
   "cell_type": "code",
   "execution_count": null,
   "id": "86543d7e-f24b-4700-8682-cb742183d202",
   "metadata": {},
   "outputs": [],
   "source": []
  }
 ],
 "metadata": {
  "kernelspec": {
   "display_name": "Image_amplicon_2024.5",
   "language": "python",
   "name": "amplicon_2024.5"
  },
  "language_info": {
   "codemirror_mode": {
    "name": "ipython",
    "version": 3
   },
   "file_extension": ".py",
   "mimetype": "text/x-python",
   "name": "python",
   "nbconvert_exporter": "python",
   "pygments_lexer": "ipython3",
   "version": "3.9.19"
  }
 },
 "nbformat": 4,
 "nbformat_minor": 5
}
