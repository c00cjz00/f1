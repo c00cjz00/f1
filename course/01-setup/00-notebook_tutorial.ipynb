{
 "cells": [
  {
   "cell_type": "code",
   "execution_count": 1,
   "id": "6b15111b-b309-4012-8170-ada17b46b754",
   "metadata": {},
   "outputs": [
    {
     "name": "stdout",
     "output_type": "stream",
     "text": [
      "/home/c00cjz00/myf1/course/01-setup\n",
      "Thu Nov  7 05:15:27 CST 2024\n"
     ]
    }
   ],
   "source": [
    "%%bash\n",
    "pwd\n",
    "date"
   ]
  },
  {
   "cell_type": "code",
   "execution_count": 2,
   "id": "dff064af-5369-43ca-a799-0b3771ff4e7c",
   "metadata": {},
   "outputs": [
    {
     "name": "stdout",
     "output_type": "stream",
     "text": [
      "/home/c00cjz00/myf1/course/01-setup\n",
      "Thu Nov  7 05:15:27 CST 2024\n"
     ]
    }
   ],
   "source": [
    "!pwd\n",
    "!date"
   ]
  },
  {
   "cell_type": "code",
   "execution_count": 3,
   "id": "023caf00-9f9d-4e0b-986e-2de6dbd669fa",
   "metadata": {},
   "outputs": [
    {
     "name": "stdout",
     "output_type": "stream",
     "text": [
      "/work1/c00cjz00\n"
     ]
    }
   ],
   "source": [
    "%%bash\n",
    "cd /work1/c00cjz00\n",
    "pwd"
   ]
  },
  {
   "cell_type": "code",
   "execution_count": 4,
   "id": "283fea22-712c-4e30-a4a9-eadbb9e3d746",
   "metadata": {},
   "outputs": [
    {
     "name": "stdout",
     "output_type": "stream",
     "text": [
      "/home/c00cjz00/myf1/course/01-setup\n"
     ]
    }
   ],
   "source": [
    "!cd /work1/c00cjz00\n",
    "!pwd"
   ]
  },
  {
   "cell_type": "code",
   "execution_count": 5,
   "id": "1311b39f-d63b-4ede-aef3-ee8de4a2c922",
   "metadata": {},
   "outputs": [
    {
     "name": "stdout",
     "output_type": "stream",
     "text": [
      "/work1/c00cjz00\n"
     ]
    },
    {
     "name": "stderr",
     "output_type": "stream",
     "text": [
      "/home/c00cjz00/.local/lib/python3.12/site-packages/IPython/core/magics/osm.py:417: UserWarning: This is now an optional IPython functionality, setting dhist requires you to install the `pickleshare` library.\n",
      "  self.shell.db['dhist'] = compress_dhist(dhist)[-100:]\n"
     ]
    }
   ],
   "source": [
    "%cd /work1/c00cjz00"
   ]
  },
  {
   "cell_type": "code",
   "execution_count": 6,
   "id": "04753efb-350d-4223-bf87-03529b90dbb7",
   "metadata": {},
   "outputs": [
    {
     "name": "stdout",
     "output_type": "stream",
     "text": [
      "/work1/c00cjz00\n"
     ]
    }
   ],
   "source": [
    "!pwd"
   ]
  },
  {
   "cell_type": "code",
   "execution_count": 10,
   "id": "fffc31f8-a182-43a9-8cb9-8f9b7891540e",
   "metadata": {},
   "outputs": [],
   "source": [
    "import os\n",
    "tmp=!echo $(hostname)\n",
    "HOSTNAME=tmp[0]\n",
    "os.environ['http_proxy'] = \"socks5:/\"+HOSTNAME+\":12345\" \n",
    "os.environ['https_proxy'] = \"socks5://\"+HOSTNAME+\":12345\" "
   ]
  },
  {
   "cell_type": "code",
   "execution_count": 11,
   "id": "3de32e1f-dcf2-4462-9dc4-f255d82790ab",
   "metadata": {},
   "outputs": [
    {
     "name": "stdout",
     "output_type": "stream",
     "text": [
      "  % Total    % Received % Xferd  Average Speed   Time    Time     Time  Current\n",
      "                                 Dload  Upload   Total   Spent    Left  Speed\n",
      "100 21083    0 21083    0     0   245k      0 --:--:-- --:--:-- --:--:--  245k\n"
     ]
    }
   ],
   "source": [
    "!curl https://www.google.com| iconv -f iso8859-1 -t utf-8 > index.html"
   ]
  },
  {
   "cell_type": "code",
   "execution_count": null,
   "id": "baaa5f09-5d93-46a6-b0a6-cfbdfe21e13a",
   "metadata": {},
   "outputs": [],
   "source": [
    "%%bash\n",
    "cd ~/\n",
    "git clone https://github.com/c00cjz00/f1.git f1"
   ]
  }
 ],
 "metadata": {
  "kernelspec": {
   "display_name": "Python 3 (ipykernel)",
   "language": "python",
   "name": "python3"
  },
  "language_info": {
   "codemirror_mode": {
    "name": "ipython",
    "version": 3
   },
   "file_extension": ".py",
   "mimetype": "text/x-python",
   "name": "python",
   "nbconvert_exporter": "python",
   "pygments_lexer": "ipython3",
   "version": "3.12.4"
  }
 },
 "nbformat": 4,
 "nbformat_minor": 5
}
