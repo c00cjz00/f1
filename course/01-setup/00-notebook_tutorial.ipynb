{
 "cells": [
  {
   "cell_type": "code",
   "execution_count": null,
   "id": "6b15111b-b309-4012-8170-ada17b46b754",
   "metadata": {},
   "outputs": [],
   "source": [
    "%%bash\n",
    "pwd\n",
    "date"
   ]
  },
  {
   "cell_type": "code",
   "execution_count": null,
   "id": "dff064af-5369-43ca-a799-0b3771ff4e7c",
   "metadata": {},
   "outputs": [],
   "source": [
    "!pwd\n",
    "!date"
   ]
  },
  {
   "cell_type": "code",
   "execution_count": null,
   "id": "023caf00-9f9d-4e0b-986e-2de6dbd669fa",
   "metadata": {},
   "outputs": [],
   "source": [
    "%%bash\n",
    "cd /work1/c00cjz00\n",
    "pwd"
   ]
  },
  {
   "cell_type": "code",
   "execution_count": null,
   "id": "283fea22-712c-4e30-a4a9-eadbb9e3d746",
   "metadata": {},
   "outputs": [],
   "source": [
    "!cd /work1/c00cjz00\n",
    "!pwd"
   ]
  },
  {
   "cell_type": "code",
   "execution_count": null,
   "id": "1311b39f-d63b-4ede-aef3-ee8de4a2c922",
   "metadata": {},
   "outputs": [],
   "source": [
    "%cd /work1/c00cjz00"
   ]
  },
  {
   "cell_type": "code",
   "execution_count": null,
   "id": "04753efb-350d-4223-bf87-03529b90dbb7",
   "metadata": {},
   "outputs": [],
   "source": [
    "!pwd"
   ]
  },
  {
   "cell_type": "code",
   "execution_count": null,
   "id": "fffc31f8-a182-43a9-8cb9-8f9b7891540e",
   "metadata": {},
   "outputs": [],
   "source": [
    "import os\n",
    "tmp=!echo $(hostname)\n",
    "HOSTNAME=tmp[0]\n",
    "os.environ['http_proxy'] = \"socks5:/\"+HOSTNAME+\":12345\" \n",
    "os.environ['https_proxy'] = \"socks5://\"+HOSTNAME+\":12345\" "
   ]
  },
  {
   "cell_type": "code",
   "execution_count": null,
   "id": "baaa5f09-5d93-46a6-b0a6-cfbdfe21e13a",
   "metadata": {},
   "outputs": [],
   "source": [
    "%%bash\n",
    "cd ~/\n",
    "git clone https://github.com/c00cjz00/f1.git myf1"
   ]
  },
  {
   "cell_type": "code",
   "execution_count": null,
   "id": "9ff96145-8462-427e-8f3f-dc5d79940f83",
   "metadata": {},
   "outputs": [],
   "source": []
  }
 ],
 "metadata": {
  "kernelspec": {
   "display_name": "Python 3 (ipykernel)",
   "language": "python",
   "name": "python3"
  },
  "language_info": {
   "codemirror_mode": {
    "name": "ipython",
    "version": 3
   },
   "file_extension": ".py",
   "mimetype": "text/x-python",
   "name": "python",
   "nbconvert_exporter": "python",
   "pygments_lexer": "ipython3",
   "version": "3.12.4"
  }
 },
 "nbformat": 4,
 "nbformat_minor": 5
}
