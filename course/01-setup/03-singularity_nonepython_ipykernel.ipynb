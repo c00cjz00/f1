{
 "cells": [
  {
   "cell_type": "code",
   "execution_count": 1,
   "id": "63dcf077-f6c8-404a-8fc3-96784d0fd87a",
   "metadata": {},
   "outputs": [],
   "source": [
    "# python 環境變數\n",
    "import os\n",
    "tmp=!echo $(hostname)\n",
    "HOSTNAME=tmp[0]\n",
    "os.environ['http_proxy'] = \"socks5:/\"+HOSTNAME+\":12345\" \n",
    "os.environ['https_proxy'] = \"socks5://\"+HOSTNAME+\":12345\" "
   ]
  },
  {
   "cell_type": "code",
   "execution_count": null,
   "id": "5d60ca90-b496-4987-b6e9-3744c334ad22",
   "metadata": {},
   "outputs": [],
   "source": [
    "#wget --no-check-certificate https://depot.galaxyproject.org/singularity/picrust2%3A2.5.3--pyhdfd78af_0  -O /work1/c00cjz00/docker/picrust-2.5.3.sif\n",
    "#picrust2_pipeline.py  --help\n",
    "\n",
    "#wget --no-check-certificate https://depot.galaxyproject.org/singularity/humann%3A3.9--py312hdfd78af_0  -O /work1/c00cjz00/docker/humann-3.9.sif\n",
    "#humann --help"
   ]
  },
  {
   "cell_type": "code",
   "execution_count": 2,
   "id": "e8e92169-b557-4962-a244-08ec85f21c87",
   "metadata": {},
   "outputs": [],
   "source": [
    "%%bash\n",
    "IMAGE=/work1/c00cjz00/f1/docker/humann_latest.sif\n",
    "IMAGE_basename=$(basename \"$IMAGE\" .sif)\n",
    "IPYKERNEL=/work1/c00cjz00/f1/ipykernel/image_without_ipykernel\n",
    "mkdir -p /home/$(whoami)/.local/share/jupyter/kernels/\n",
    "rm -rf /home/$(whoami)/.local/share/jupyter/kernels/${IMAGE_basename}\n",
    "sleep 3\n",
    "cp -rf ${IPYKERNEL} /home/$(whoami)/.local/share/jupyter/kernels/${IMAGE_basename}\n",
    "chmod -R 755 /home/$(whoami)/.local/share/jupyter/kernels/${IMAGE_basename}\n",
    "IMAGE_desc=$(echo $IMAGE | sed 's_/_\\\\/_g')\n",
    "sed -i \"s/templateSIF/${IMAGE_desc}/g\" /home/$(whoami)/.local/share/jupyter/kernels/${IMAGE_basename}/kernel.json\n",
    "sed -i \"s/templateImage/Image_${IMAGE_basename}/g\" /home/$(whoami)/.local/share/jupyter/kernels/${IMAGE_basename}/kernel.json\n",
    "singularity exec -B /pkg/tools/miniconda3 ${IMAGE} /pkg/tools/miniconda3/bin/pip install ipykernel -q"
   ]
  },
  {
   "cell_type": "code",
   "execution_count": 3,
   "id": "2ddbc74a-a231-4ca3-bbae-e453aefeb96b",
   "metadata": {},
   "outputs": [],
   "source": [
    "#初始環境設定\n",
    "import os\n",
    "from pathlib import Path\n",
    "HOME = str(Path.home())\n",
    "Add_Binarry_Path=HOME+'/.local/bin:/usr/localbin'\n",
    "os.environ['PATH']=os.environ['PATH']+':'+Add_Binarry_Path"
   ]
  },
  {
   "cell_type": "code",
   "execution_count": null,
   "id": "92464249-1365-48b9-a685-7d9745355d9f",
   "metadata": {},
   "outputs": [],
   "source": [
    "# change kernel to Image_humann\n",
    "!humann --help"
   ]
  },
  {
   "cell_type": "code",
   "execution_count": null,
   "id": "039d4ea3-4c0c-47b1-817e-529d4eabb95b",
   "metadata": {},
   "outputs": [],
   "source": []
  }
 ],
 "metadata": {
  "kernelspec": {
   "display_name": "Image_humann_latest",
   "language": "python",
   "name": "humann_latest"
  },
  "language_info": {
   "codemirror_mode": {
    "name": "ipython",
    "version": 3
   },
   "file_extension": ".py",
   "mimetype": "text/x-python",
   "name": "python",
   "nbconvert_exporter": "python",
   "pygments_lexer": "ipython3",
   "version": "3.12.4"
  }
 },
 "nbformat": 4,
 "nbformat_minor": 5
}
