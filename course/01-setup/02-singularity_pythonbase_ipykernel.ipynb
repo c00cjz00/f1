{
 "cells": [
  {
   "cell_type": "code",
   "execution_count": null,
   "id": "e80bba21-b4e6-4d31-acc6-7f6f486545f9",
   "metadata": {},
   "outputs": [],
   "source": [
    "# python 環境變數\n",
    "import os\n",
    "tmp=!echo $(hostname)\n",
    "HOSTNAME=tmp[0]\n",
    "os.environ['http_proxy'] = \"socks5:/\"+HOSTNAME+\":12345\" \n",
    "os.environ['https_proxy'] = \"socks5://\"+HOSTNAME+\":12345\" "
   ]
  },
  {
   "cell_type": "code",
   "execution_count": null,
   "id": "8c2908b1-76ad-4d85-a05f-9faa20b5bfc5",
   "metadata": {},
   "outputs": [],
   "source": [
    "%%bash\n",
    "# 請先不要下載, 直接使用以下載範例 /work1/c00cjz00/f1/docker/amplicon_2024.10.sif\n",
    "#docker pull quay.io/qiime2/amplicon:2024.10\n",
    "#export http_proxy=\"socks5://${HOSTNAME}:12345\"\n",
    "#export https_proxy=\"socks5://${HOSTNAME}:12345\" \n",
    "#export SINGULARITY_CACHEDIR=/work1/${USER}/.singularity\n",
    "#singularity pull docker://quay.io/qiime2/amplicon:2024.10\n",
    "#singularity pull docker://quay.io/qiime2/metagenome:2024.10\n",
    "#singularity pull docker://quay.io/qiime2/pathogenome:2024.10\n",
    "#singularity pull docker://quay.io/qiime2/tiny:2024.10"
   ]
  },
  {
   "cell_type": "code",
   "execution_count": null,
   "id": "ccf528ef-8955-49e5-a4ef-00cefb0f013c",
   "metadata": {},
   "outputs": [],
   "source": [
    "%%bash\n",
    "IMAGE=/work1/c00cjz00/f1/docker/amplicon_2024.10.sif\n",
    "IMAGE_basename=$(basename \"$IMAGE\" .sif)\n",
    "IPYKERNEL=/work1/c00cjz00/f1/ipykernel/image_with_ipykernel\n",
    "mkdir -p /home/$(whoami)/.local/share/jupyter/kernels/\n",
    "rm -rf /home/$(whoami)/.local/share/jupyter/kernels/${IMAGE_basename}\n",
    "sleep 3\n",
    "cp -rf ${IPYKERNEL} /home/$(whoami)/.local/share/jupyter/kernels/${IMAGE_basename}\n",
    "chmod -R 755 /home/$(whoami)/.local/share/jupyter/kernels/${IMAGE_basename}\n",
    "IMAGE_desc=$(echo $IMAGE | sed 's_/_\\\\/_g')\n",
    "sed -i \"s/templateSIF/${IMAGE_desc}/g\" /home/$(whoami)/.local/share/jupyter/kernels/${IMAGE_basename}/kernel.json\n",
    "sed -i \"s/templateImage/Image_${IMAGE_basename}/g\" /home/$(whoami)/.local/share/jupyter/kernels/${IMAGE_basename}/kernel.json\n",
    "#curl https://bootstrap.pypa.io/get-pip.py -o  ~/get-pip.py\n",
    "#singularity exec $IMAGE python ~/get-pip.py\n",
    "singularity exec ${IMAGE} pip install ipykernel"
   ]
  },
  {
   "cell_type": "code",
   "execution_count": null,
   "id": "e8e92169-b557-4962-a244-08ec85f21c87",
   "metadata": {},
   "outputs": [],
   "source": [
    "# 記得切換 kernel, 初始環境設定\n",
    "import os\n",
    "from pathlib import Path\n",
    "HOME = str(Path.home())\n",
    "Add_Binarry_Path=HOME+'/.local/bin:/usr/localbin'\n",
    "os.environ['PATH']=os.environ['PATH']+':'+Add_Binarry_Path"
   ]
  },
  {
   "cell_type": "code",
   "execution_count": null,
   "id": "8e365949-a7a7-471e-9fd7-def4a8a26a64",
   "metadata": {},
   "outputs": [],
   "source": [
    "# change kernel to Image_amplicon\n",
    "!qiime --help"
   ]
  },
  {
   "cell_type": "code",
   "execution_count": null,
   "id": "a8b1fbb8-a3f8-456e-bbbb-0e0580a37778",
   "metadata": {},
   "outputs": [],
   "source": []
  }
 ],
 "metadata": {
  "kernelspec": {
   "display_name": "Image_amplicon_2024.10",
   "language": "python",
   "name": "amplicon_2024.10"
  },
  "language_info": {
   "codemirror_mode": {
    "name": "ipython",
    "version": 3
   },
   "file_extension": ".py",
   "mimetype": "text/x-python",
   "name": "python",
   "nbconvert_exporter": "python",
   "pygments_lexer": "ipython3",
   "version": "3.10.14"
  }
 },
 "nbformat": 4,
 "nbformat_minor": 5
}
