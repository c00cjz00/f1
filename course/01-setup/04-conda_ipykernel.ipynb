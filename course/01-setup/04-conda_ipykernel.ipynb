{
 "cells": [
  {
   "cell_type": "code",
   "execution_count": null,
   "id": "63dcf077-f6c8-404a-8fc3-96784d0fd87a",
   "metadata": {},
   "outputs": [],
   "source": [
    "# python 環境變數\n",
    "import os\n",
    "tmp=!echo $(hostname)\n",
    "HOSTNAME=tmp[0]\n",
    "os.environ['http_proxy'] = \"socks5:/\"+HOSTNAME+\":12345\" \n",
    "os.environ['https_proxy'] = \"socks5://\"+HOSTNAME+\":12345\" "
   ]
  },
  {
   "cell_type": "markdown",
   "id": "9de2f85d-a637-4f32-812d-13326632c6ed",
   "metadata": {},
   "source": [
    "# script\n",
    "```bash\n",
    "export http_proxy=\"socks5://${HOSTNAME}:12345\"\n",
    "export https_proxy=\"socks5://${HOSTNAME}:12345\"\n",
    "ml tools/miniconda3\n",
    "#conda create -n q2 python=3.11 -y\n",
    "#conda activate q2\n",
    "conda env create -n qiime2-amplicon-2024.5 --file https://data.qiime2.org/distro/amplicon/qiime2-amplicon-2024.5-py39-linux-conda.yml\r\n",
    "conda activate qiime2-amplicon-2024.5\r\n",
    "conda install pysocks\r\n",
    "pip install ipykernel\r\n",
    "python -m ipykernel install --name qiime2 --user\r\n",
    "jupyter kernelspec list\r\n",
    "python3 -c \"import sys; print(sys.version);\"\n",
    "```"
   ]
  },
  {
   "cell_type": "code",
   "execution_count": null,
   "id": "2ddbc74a-a231-4ca3-bbae-e453aefeb96b",
   "metadata": {},
   "outputs": [],
   "source": [
    "#初始環境設定\n",
    "import os\n",
    "from pathlib import Path\n",
    "HOME = str(Path.home())\n",
    "Add_Binarry_Path=HOME+'/.conda/envs/qiime2-amplicon-2024.5/bin'\n",
    "os.environ['PATH']=os.environ['PATH']+':'+Add_Binarry_Path"
   ]
  },
  {
   "cell_type": "code",
   "execution_count": null,
   "id": "039d4ea3-4c0c-47b1-817e-529d4eabb95b",
   "metadata": {},
   "outputs": [],
   "source": [
    "# change kernel to Image_amplicon\n",
    "!qiime --help"
   ]
  },
  {
   "cell_type": "code",
   "execution_count": null,
   "id": "144fcb45-eccb-4e93-9673-c83f4283dfe7",
   "metadata": {},
   "outputs": [],
   "source": []
  }
 ],
 "metadata": {
  "kernelspec": {
   "display_name": "qiime2",
   "language": "python",
   "name": "qiime2"
  },
  "language_info": {
   "codemirror_mode": {
    "name": "ipython",
    "version": 3
   },
   "file_extension": ".py",
   "mimetype": "text/x-python",
   "name": "python",
   "nbconvert_exporter": "python",
   "pygments_lexer": "ipython3",
   "version": "3.9.19"
  }
 },
 "nbformat": 4,
 "nbformat_minor": 5
}
