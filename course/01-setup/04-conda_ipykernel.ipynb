{
 "cells": [
  {
   "cell_type": "code",
   "execution_count": null,
   "id": "63dcf077-f6c8-404a-8fc3-96784d0fd87a",
   "metadata": {},
   "outputs": [],
   "source": [
    "# python 環境變數\n",
    "import os\n",
    "tmp=!echo $(hostname)\n",
    "HOSTNAME=tmp[0]\n",
    "os.environ['http_proxy'] = \"socks5:/\"+HOSTNAME+\":12345\" \n",
    "os.environ['https_proxy'] = \"socks5://\"+HOSTNAME+\":12345\" "
   ]
  },
  {
   "cell_type": "markdown",
   "id": "9de2f85d-a637-4f32-812d-13326632c6ed",
   "metadata": {},
   "source": [
    "# script 請在terminal 下執行\n",
    "```bash\n",
    "export http_proxy=\"socks5://${HOSTNAME}:12345\"\n",
    "export https_proxy=\"socks5://${HOSTNAME}:12345\"\n",
    "ml tools/miniconda3\n",
    "# 參考 https://docs.qiime2.org/2024.10/install/native/#miniconda\n",
    "conda env create -n qiime2-amplicon-2024.10 --file https://data.qiime2.org/distro/amplicon/qiime2-amplicon-2024.10-py310-linux-conda.ymlml\r\n",
    "conda activate qiime2-amplicon-20104.5\r\n",
    "conda install pysocks\r\n",
    "pip install ipykernel\r\n",
    "python -m ipykernel install -qiime2-amplicon-2024.10qiime2 --user\r\n",
    "jupyter kernelspec list\r\n",
    "python3 -c \"import sys; print(sys.version);\"\n",
    "```"
   ]
  },
  {
   "cell_type": "code",
   "execution_count": 3,
   "id": "2ddbc74a-a231-4ca3-bbae-e453aefeb96b",
   "metadata": {},
   "outputs": [],
   "source": [
    "# 記得切換 kernel, 初始環境設定\n",
    "# 請記得修改 ./conda/envs/qiime2-amplicon-2024.10 位置\n",
    "import os\n",
    "from pathlib import Path\n",
    "HOME = str(Path.home())\n",
    "Add_Binarry_Path=HOME+'/.conda/envs/qiime2-amplicon-2024.10/bin'\n",
    "os.environ['PATH']=os.environ['PATH']+':'+Add_Binarry_Path"
   ]
  },
  {
   "cell_type": "code",
   "execution_count": 4,
   "id": "039d4ea3-4c0c-47b1-817e-529d4eabb95b",
   "metadata": {},
   "outputs": [
    {
     "name": "stdout",
     "output_type": "stream",
     "text": [
      "Usage: \u001b[94mqiime\u001b[0m [OPTIONS] COMMAND [ARGS]...\n",
      "\n",
      "  QIIME 2 command-line interface (q2cli)\n",
      "  --------------------------------------\n",
      "\n",
      "  To get help with QIIME 2, visit https://qiime2.org.\n",
      "\n",
      "  To enable tab completion in Bash, run the following command or add it to\n",
      "  your .bashrc/.bash_profile:\n",
      "\n",
      "      source tab-qiime\n",
      "\n",
      "  To enable tab completion in ZSH, run the following commands or add them to\n",
      "  your .zshrc:\n",
      "\n",
      "      autoload -Uz compinit && compinit\n",
      "      autoload bashcompinit && bashcompinit\n",
      "      source tab-qiime\n",
      "\n",
      "\u001b[1mOptions\u001b[0m:\n",
      "  \u001b[94m--version\u001b[0m   Show the version and exit.\n",
      "  \u001b[94m--help\u001b[0m      Show this message and exit.\n",
      "\n",
      "\u001b[1mCommands\u001b[0m:\n",
      "  \u001b[94minfo\u001b[0m                Display information about current deployment.\n",
      "  \u001b[94mtools\u001b[0m               Tools for working with QIIME 2 files.\n",
      "  \u001b[94mdev\u001b[0m                 Utilities for developers and advanced users.\n",
      "  \u001b[94malignment\u001b[0m           Plugin for generating and manipulating alignments.\n",
      "  \u001b[94mcomposition\u001b[0m         Plugin for compositional data analysis.\n",
      "  \u001b[94mcutadapt\u001b[0m            Plugin for removing adapter sequences, primers, and\n",
      "                      other unwanted sequence from sequence data.\n",
      "  \u001b[94mdada2\u001b[0m               Plugin for sequence quality control with DADA2.\n",
      "  \u001b[94mdeblur\u001b[0m              Plugin for sequence quality control with Deblur.\n",
      "  \u001b[94mdemux\u001b[0m               Plugin for demultiplexing & viewing sequence quality.\n",
      "  \u001b[94mdiversity\u001b[0m           Plugin for exploring community diversity.\n",
      "  \u001b[94mdiversity-lib\u001b[0m       Plugin for computing community diversity.\n",
      "  \u001b[94memperor\u001b[0m             Plugin for ordination plotting with Emperor.\n",
      "  \u001b[94mfeature-classifier\u001b[0m  Plugin for taxonomic classification.\n",
      "  \u001b[94mfeature-table\u001b[0m       Plugin for working with sample by feature tables.\n",
      "  \u001b[94mfragment-insertion\u001b[0m  Plugin for extending phylogenies.\n",
      "  \u001b[94mlongitudinal\u001b[0m        Plugin for paired sample and time series analyses.\n",
      "  \u001b[94mmetadata\u001b[0m            Plugin for working with Metadata.\n",
      "  \u001b[94mphylogeny\u001b[0m           Plugin for generating and manipulating phylogenies.\n",
      "  \u001b[94mquality-control\u001b[0m     Plugin for quality control of feature and sequence data.\n",
      "  \u001b[94mquality-filter\u001b[0m      Plugin for PHRED-based filtering and trimming.\n",
      "  \u001b[94mrescript\u001b[0m            Pipeline for reference sequence annotation and curation.\n",
      "  \u001b[94msample-classifier\u001b[0m   Plugin for machine learning prediction of sample\n",
      "                      metadata.\n",
      "  \u001b[94mstats\u001b[0m               Plugin for statistical analyses.\n",
      "  \u001b[94mtaxa\u001b[0m                Plugin for working with feature taxonomy annotations.\n",
      "  \u001b[94mtypes\u001b[0m               Plugin defining types for microbiome analysis.\n",
      "  \u001b[94mvizard\u001b[0m              Generalized microbiome data visualization.\n",
      "  \u001b[94mvsearch\u001b[0m             Plugin for clustering and dereplicating with vsearch.\n"
     ]
    }
   ],
   "source": [
    "# change kernel to Image_amplicon\n",
    "!qiime --help"
   ]
  },
  {
   "cell_type": "code",
   "execution_count": null,
   "id": "144fcb45-eccb-4e93-9673-c83f4283dfe7",
   "metadata": {},
   "outputs": [],
   "source": []
  }
 ],
 "metadata": {
  "kernelspec": {
   "display_name": "Image_amplicon_2024.10",
   "language": "python",
   "name": "amplicon_2024.10"
  },
  "language_info": {
   "codemirror_mode": {
    "name": "ipython",
    "version": 3
   },
   "file_extension": ".py",
   "mimetype": "text/x-python",
   "name": "python",
   "nbconvert_exporter": "python",
   "pygments_lexer": "ipython3",
   "version": "3.10.14"
  }
 },
 "nbformat": 4,
 "nbformat_minor": 5
}
