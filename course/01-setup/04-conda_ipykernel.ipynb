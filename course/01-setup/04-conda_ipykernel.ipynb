{
 "cells": [
  {
   "cell_type": "code",
   "execution_count": null,
   "id": "63dcf077-f6c8-404a-8fc3-96784d0fd87a",
   "metadata": {},
   "outputs": [],
   "source": [
    "# python 環境變數\n",
    "import os\n",
    "tmp=!echo $(hostname)\n",
    "HOSTNAME=tmp[0]\n",
    "os.environ['http_proxy'] = \"socks5:/\"+HOSTNAME+\":12345\" \n",
    "os.environ['https_proxy'] = \"socks5://\"+HOSTNAME+\":12345\" "
   ]
  },
  {
   "cell_type": "markdown",
   "id": "9de2f85d-a637-4f32-812d-13326632c6ed",
   "metadata": {},
   "source": [
    "# script\n",
    "```bash\n",
    "export http_proxy=\"socks5://${HOSTNAME}:12345\"\n",
    "export https_proxy=\"socks5://${HOSTNAME}:12345\"\n",
    "ml tools/miniconda3\n",
    "conda create -n q2 python=3.11 -y\n",
    "conda activate q2\n",
    "conda install pysocks\n",
    "pip install ipykernel\n",
    "python -m ipykernel install --name q3 --user\n",
    "jupyter kernelspec list\n",
    "python3 -c \"import sys; print(sys.version);\"\n",
    "```"
   ]
  },
  {
   "cell_type": "code",
   "execution_count": null,
   "id": "2ddbc74a-a231-4ca3-bbae-e453aefeb96b",
   "metadata": {},
   "outputs": [],
   "source": [
    "#初始環境設定\n",
    "import os\n",
    "from pathlib import Path\n",
    "HOME = str(Path.home())\n",
    "Add_Binarry_Path=HOME+'/.local/bin'\n",
    "os.environ['PATH']=os.environ['PATH']+':'+Add_Binarry_Path"
   ]
  },
  {
   "cell_type": "code",
   "execution_count": null,
   "id": "039d4ea3-4c0c-47b1-817e-529d4eabb95b",
   "metadata": {},
   "outputs": [],
   "source": []
  }
 ],
 "metadata": {
  "kernelspec": {
   "display_name": "Image_humann_latest",
   "language": "python",
   "name": "humann_latest"
  },
  "language_info": {
   "codemirror_mode": {
    "name": "ipython",
    "version": 3
   },
   "file_extension": ".py",
   "mimetype": "text/x-python",
   "name": "python",
   "nbconvert_exporter": "python",
   "pygments_lexer": "ipython3",
   "version": "3.12.4"
  }
 },
 "nbformat": 4,
 "nbformat_minor": 5
}
