{
 "cells": [
  {
   "cell_type": "code",
   "execution_count": null,
   "id": "e80bba21-b4e6-4d31-acc6-7f6f486545f9",
   "metadata": {},
   "outputs": [],
   "source": [
    "# python 環境變數\n",
    "import os\n",
    "HOSTNAME=os.environ['HOSTNAME']\n",
    "os.environ['http_proxy'] = \"socks5:/\"+HOSTNAME+\":12345\" \n",
    "os.environ['https_proxy'] = \"socks5://\"+HOSTNAME+\":12345\" "
   ]
  },
  {
   "cell_type": "code",
   "execution_count": null,
   "id": "ccf528ef-8955-49e5-a4ef-00cefb0f013c",
   "metadata": {},
   "outputs": [],
   "source": [
    "%%bash\n",
    "IMAGE=/work1/c00cjz00/f1/docker/amplicon_2024.2.sif\n",
    "IMAGE_basename=$(basename \"$IMAGE\" .sif)\n",
    "IPYKERNEL=/work1/c00cjz00/f1/ipykernel/image_with_ipykernel\n",
    "mkdir -p /home/$(whoami)/.local/share/jupyter/kernels/\n",
    "rm -rf /home/$(whoami)/.local/share/jupyter/kernels/${IMAGE_basename}\n",
    "sleep 3\n",
    "cp -rf ${IPYKERNEL} /home/$(whoami)/.local/share/jupyter/kernels/${IMAGE_basename}\n",
    "chmod -R 755 /home/$(whoami)/.local/share/jupyter/kernels/${IMAGE_basename}\n",
    "IMAGE_desc=$(echo $IMAGE | sed 's_/_\\\\/_g')\n",
    "sed -i \"s/templateSIF/${IMAGE_desc}/g\" /home/$(whoami)/.local/share/jupyter/kernels/${IMAGE_basename}/kernel.json\n",
    "sed -i \"s/templateImage/Image_${IMAGE_basename}/g\" /home/$(whoami)/.local/share/jupyter/kernels/${IMAGE_basename}/kernel.json\n",
    "#curl https://bootstrap.pypa.io/get-pip.py -o  ~/get-pip.py\n",
    "#singularity exec $IMAGE python ~/get-pip.py\n",
    "singularity exec ${IMAGE} pip install ipykernel"
   ]
  },
  {
   "cell_type": "code",
   "execution_count": null,
   "id": "e8e92169-b557-4962-a244-08ec85f21c87",
   "metadata": {},
   "outputs": [],
   "source": [
    "#初始環境設定\n",
    "import os\n",
    "from pathlib import Path\n",
    "HOME = str(Path.home())\n",
    "Add_Binarry_Path=HOME+'/.local/bin:/usr/localbin'\n",
    "os.environ['PATH']=os.environ['PATH']+':'+Add_Binarry_Path"
   ]
  },
  {
   "cell_type": "code",
   "execution_count": null,
   "id": "8e365949-a7a7-471e-9fd7-def4a8a26a64",
   "metadata": {},
   "outputs": [],
   "source": [
    "# change kernel to Image_amplicon\n",
    "!qiime --help"
   ]
  },
  {
   "cell_type": "code",
   "execution_count": null,
   "id": "1e98f6e8-0cf4-4876-bc1d-461a90d3d7ef",
   "metadata": {},
   "outputs": [],
   "source": []
  }
 ],
 "metadata": {
  "kernelspec": {
   "display_name": "Image_amplicon_2024.2",
   "language": "python",
   "name": "amplicon_2024.2"
  },
  "language_info": {
   "codemirror_mode": {
    "name": "ipython",
    "version": 3
   },
   "file_extension": ".py",
   "mimetype": "text/x-python",
   "name": "python",
   "nbconvert_exporter": "python",
   "pygments_lexer": "ipython3",
   "version": "3.8.15"
  }
 },
 "nbformat": 4,
 "nbformat_minor": 5
}
