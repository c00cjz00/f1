{
 "cells": [
  {
   "cell_type": "raw",
   "id": "ab78f219-8993-4a89-83d1-862701879960",
   "metadata": {},
   "source": [
    "## SSHPROXY, 開啟終端機, 執行以下連線\n",
    "ssh -D ${HOSTNAME}:12345 ilgn01"
   ]
  },
  {
   "cell_type": "code",
   "execution_count": null,
   "id": "e7377f38-fd4b-48f9-8d7f-d92e9a37d298",
   "metadata": {},
   "outputs": [],
   "source": [
    "###### %%bash\n",
    "# bash 環境變數\n",
    "export http_proxy=\"socks5://${HOSTNAME}:12345\"\n",
    "export https_proxy=\"socks5://${HOSTNAME}:12345\""
   ]
  },
  {
   "cell_type": "code",
   "execution_count": 35,
   "id": "e80bba21-b4e6-4d31-acc6-7f6f486545f9",
   "metadata": {},
   "outputs": [],
   "source": [
    "# python 環境變數\n",
    "import os\n",
    "HOSTNAME=os.environ['HOSTNAME']\n",
    "os.environ['http_proxy'] = \"socks5:/\"+HOSTNAME+\":12345\" \n",
    "os.environ['https_proxy'] = \"socks5://\"+HOSTNAME+\":12345\" "
   ]
  },
  {
   "cell_type": "code",
   "execution_count": 36,
   "id": "47cd971f-cba3-415b-b8c4-d6f3486ee9a9",
   "metadata": {},
   "outputs": [
    {
     "name": "stdout",
     "output_type": "stream",
     "text": [
      "  % Total    % Received % Xferd  Average Speed   Time    Time     Time  Current\n",
      "                                 Dload  Upload   Total   Spent    Left  Speed\n",
      "100 21507    0 21507    0     0   240k      0 --:--:-- --:--:-- --:--:--  241k\n"
     ]
    }
   ],
   "source": [
    "!curl https://www.google.com| iconv -f iso8859-1 -t utf-8 > index.html"
   ]
  },
  {
   "cell_type": "code",
   "execution_count": null,
   "id": "3342a8ae-9658-407f-a64c-041668501f5e",
   "metadata": {},
   "outputs": [],
   "source": []
  }
 ],
 "metadata": {
  "kernelspec": {
   "display_name": "Image_amplicon_2024.5",
   "language": "python",
   "name": "amplicon_2024.5"
  },
  "language_info": {
   "codemirror_mode": {
    "name": "ipython",
    "version": 3
   },
   "file_extension": ".py",
   "mimetype": "text/x-python",
   "name": "python",
   "nbconvert_exporter": "python",
   "pygments_lexer": "ipython3",
   "version": "3.9.19"
  }
 },
 "nbformat": 4,
 "nbformat_minor": 5
}
