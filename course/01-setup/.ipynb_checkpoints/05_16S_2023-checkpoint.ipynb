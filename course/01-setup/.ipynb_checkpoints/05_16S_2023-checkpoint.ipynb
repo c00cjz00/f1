{
 "cells": [
  {
   "cell_type": "code",
   "execution_count": 1,
   "metadata": {},
   "outputs": [],
   "source": [
    "# python 環境變數\n",
    "import os\n",
    "HOSTNAME=os.environ['HOSTNAME']\n",
    "os.environ['http_proxy'] = \"socks5:/\"+HOSTNAME+\":12345\" \n",
    "os.environ['https_proxy'] = \"socks5://\"+HOSTNAME+\":12345\" "
   ]
  },
  {
   "cell_type": "code",
   "execution_count": 2,
   "metadata": {},
   "outputs": [],
   "source": [
    "#初始環境設定\n",
    "import os\n",
    "from pathlib import Path\n",
    "HOME = str(Path.home())\n",
    "Add_Binarry_Path=HOME+'/.local/bin:/usr/localbin'\n",
    "os.environ['PATH']=os.environ['PATH']+':'+Add_Binarry_Path"
   ]
  },
  {
   "cell_type": "code",
   "execution_count": 3,
   "metadata": {},
   "outputs": [],
   "source": [
    "# Qiime2 初始環境設定\n",
    "os.environ['MPLCONFIGDIR'] = \"/tmp/mplconfigdir\"\n",
    "os.environ['NUMBA_CACHE_DIR'] = \"/tmp/numbacache\"\n",
    "os.environ['XDG_CONFIG_HOME']=os.environ['HOME']\n",
    "os.environ['CONDA_PREFIX']=os.environ['CONDA_PREFIX'].replace(\"/home/qiime2\", os.environ['HOME'])\n",
    "newpath=os.environ['CONDA_PREFIX']\n",
    "if not os.path.exists(newpath):\n",
    "    os.makedirs(newpath)"
   ]
  },
  {
   "cell_type": "markdown",
   "metadata": {
    "colab_type": "text",
    "id": "view-in-github"
   },
   "source": [
    "<a href=\"https://colab.research.google.com/github/Gibbons-Lab/isb_course_2023/blob/main/16S_2023.ipynb\" target=\"_parent\"><img src=\"https://colab.research.google.com/assets/colab-badge.svg\" alt=\"Open In Colab\"/></a>"
   ]
  },
  {
   "cell_type": "markdown",
   "metadata": {
    "id": "2inlS7SNn0-o"
   },
   "source": [
    "# 🦠 Amplicon Sequencing Data Analysis with QIIME 2\n",
    "\n",
    "This notebook will accompany the first session of the 2023 ISB Virtual Microbiome Series. The presentation slides can be [found here](https://gibbons-lab.github.io/isb_course_2023/16S).\n",
    "\n",
    "Save your own local copy of this notebook by using `File > Save a copy in Drive`. At some point you may be prompted to trust the notebook. We promise that it is safe 🤞\n",
    "\n",
    "**Disclaimer:**\n",
    "\n",
    "The Google Colab notebook environment will interpret any command as Python code by default. If we want to run bash commands we will have to prefix them by `!`. So any command you see with a leading `!` is a bash command and if you wanted to run it in your terminal you would omit the `!`. For example, if in the Colab notebook you ran `!wget` you would just run `wget` in your terminal.\n",
    "\n",
    "## Setup\n",
    "\n",
    "QIIME 2 is usually installed by following the [official installation instructions](https://docs.qiime2.org/2023.7/install/). However, because we are using Google Colab and there are some caveats to using conda here, we will have to hack around the installation a little bit. But no worries, we provide a setup script below which does all this work for us. 😌\n",
    "\n",
    "So...let's start by pulling a local copy of the project repository down from GitHub."
   ]
  },
  {
   "cell_type": "code",
   "execution_count": 4,
   "metadata": {
    "id": "9Cyg41Tcn1Ua"
   },
   "outputs": [
    {
     "name": "stdout",
     "output_type": "stream",
     "text": [
      "Cloning into 'materials'...\n",
      "remote: Enumerating objects: 949, done.\u001b[K\n",
      "remote: Counting objects: 100% (87/87), done.\u001b[K\n",
      "remote: Compressing objects: 100% (55/55), done.\u001b[K\n",
      "remote: Total 949 (delta 56), reused 49 (delta 32), pack-reused 862 (from 1)\u001b[K\n",
      "Receiving objects: 100% (949/949), 251.18 MiB | 23.89 MiB/s, done.\n",
      "Resolving deltas: 100% (394/394), done.\n",
      "Updating files: 100% (563/563), done.\n"
     ]
    }
   ],
   "source": [
    "!git clone https://github.com/gibbons-lab/isb_course_2023 materials"
   ]
  },
  {
   "cell_type": "markdown",
   "metadata": {
    "id": "MQ9XVvOToEBR"
   },
   "source": [
    "This repository, called __materials__, contains all the relevant data and other resources we'll need for this course. Let's navigate to that directory now:"
   ]
  },
  {
   "cell_type": "code",
   "execution_count": 6,
   "metadata": {
    "id": "GvNHs-EroFNM"
   },
   "outputs": [
    {
     "name": "stdout",
     "output_type": "stream",
     "text": [
      "/work1/c00cjz00/f1/class/qiime2_04/materials2\n"
     ]
    }
   ],
   "source": [
    "%cd ../materials2"
   ]
  },
  {
   "cell_type": "markdown",
   "metadata": {
    "id": "IHvKnTbdypyp"
   },
   "source": [
    "Notice here we use ```%``` instead of ```!``` to run out command line function. This makes the path change to our directory permanent: using the ```!``` operator only switches the interpreter to expect command line prompts temporarily.\n",
    "\n",
    "\n"
   ]
  },
  {
   "cell_type": "markdown",
   "metadata": {
    "id": "rIOk9J0AoYXX"
   },
   "source": [
    "## Install QIIME2\n",
    "Now that we have all our materials, we're _almost_ ready to get started - but not quite. Remember QIIME2? We'll need to install that before getting into the actual analysis. Don't worry - this will only set up in the Colab notebook, not on your local machine.\n",
    "\n",
    "Let's run the following cell, to install and setup QIIME2."
   ]
  },
  {
   "cell_type": "code",
   "execution_count": null,
   "metadata": {
    "id": "Inkvkt_DoSQT"
   },
   "outputs": [],
   "source": [
    "%run setup_qiime2"
   ]
  },
  {
   "cell_type": "markdown",
   "metadata": {
    "id": "Pajd6O0OpE_f"
   },
   "source": [
    "⬆️ This will take some time (usually 10 to 15 minutes), so we'll switch back over to the [presentation](https://gibbons-lab.github.io/isb_course_2023/16S) while we wait.\n",
    "\n",
    "If you want to learn more about QIIME2, we recommend you check out the [documentation](https://docs.qiime2.org/). This will also explain how to install QIIME2 on your local machine 🖥"
   ]
  },
  {
   "cell_type": "markdown",
   "metadata": {
    "id": "RccdNYBeqQVn"
   },
   "source": [
    "# Let's Get Started!\n",
    "\n",
    "Now we're on to the fun part. Let's begin by taking a look at our data. In the _data_ folder, you'll find eight FASTQ files, a file manifest, and a metadata file. Let's take a look at the manifest, first. This is a file that contains the name, and filepath of all our samples, and we'll need it later on when we use QIIME2 📝."
   ]
  },
  {
   "cell_type": "code",
   "execution_count": 7,
   "metadata": {
    "id": "_pFaCnO6iqqW"
   },
   "outputs": [
    {
     "data": {
      "text/html": [
       "<div>\n",
       "<style scoped>\n",
       "    .dataframe tbody tr th:only-of-type {\n",
       "        vertical-align: middle;\n",
       "    }\n",
       "\n",
       "    .dataframe tbody tr th {\n",
       "        vertical-align: top;\n",
       "    }\n",
       "\n",
       "    .dataframe thead th {\n",
       "        text-align: right;\n",
       "    }\n",
       "</style>\n",
       "<table border=\"1\" class=\"dataframe\">\n",
       "  <thead>\n",
       "    <tr style=\"text-align: right;\">\n",
       "      <th></th>\n",
       "      <th>sample-id</th>\n",
       "      <th>absolute-filepath</th>\n",
       "    </tr>\n",
       "  </thead>\n",
       "  <tbody>\n",
       "    <tr>\n",
       "      <th>0</th>\n",
       "      <td>ERR1883195</td>\n",
       "      <td>$PWD/data/ERR1883195.fastq.gz</td>\n",
       "    </tr>\n",
       "    <tr>\n",
       "      <th>1</th>\n",
       "      <td>ERR1883207</td>\n",
       "      <td>$PWD/data/ERR1883207.fastq.gz</td>\n",
       "    </tr>\n",
       "    <tr>\n",
       "      <th>2</th>\n",
       "      <td>ERR1883212</td>\n",
       "      <td>$PWD/data/ERR1883212.fastq.gz</td>\n",
       "    </tr>\n",
       "    <tr>\n",
       "      <th>3</th>\n",
       "      <td>ERR1883214</td>\n",
       "      <td>$PWD/data/ERR1883214.fastq.gz</td>\n",
       "    </tr>\n",
       "    <tr>\n",
       "      <th>4</th>\n",
       "      <td>ERR1883225</td>\n",
       "      <td>$PWD/data/ERR1883225.fastq.gz</td>\n",
       "    </tr>\n",
       "    <tr>\n",
       "      <th>5</th>\n",
       "      <td>ERR1883240</td>\n",
       "      <td>$PWD/data/ERR1883240.fastq.gz</td>\n",
       "    </tr>\n",
       "    <tr>\n",
       "      <th>6</th>\n",
       "      <td>ERR1883250</td>\n",
       "      <td>$PWD/data/ERR1883250.fastq.gz</td>\n",
       "    </tr>\n",
       "    <tr>\n",
       "      <th>7</th>\n",
       "      <td>ERR1883294</td>\n",
       "      <td>$PWD/data/ERR1883294.fastq.gz</td>\n",
       "    </tr>\n",
       "  </tbody>\n",
       "</table>\n",
       "</div>"
      ],
      "text/plain": [
       "    sample-id              absolute-filepath\n",
       "0  ERR1883195  $PWD/data/ERR1883195.fastq.gz\n",
       "1  ERR1883207  $PWD/data/ERR1883207.fastq.gz\n",
       "2  ERR1883212  $PWD/data/ERR1883212.fastq.gz\n",
       "3  ERR1883214  $PWD/data/ERR1883214.fastq.gz\n",
       "4  ERR1883225  $PWD/data/ERR1883225.fastq.gz\n",
       "5  ERR1883240  $PWD/data/ERR1883240.fastq.gz\n",
       "6  ERR1883250  $PWD/data/ERR1883250.fastq.gz\n",
       "7  ERR1883294  $PWD/data/ERR1883294.fastq.gz"
      ]
     },
     "execution_count": 7,
     "metadata": {},
     "output_type": "execute_result"
    }
   ],
   "source": [
    "import pandas as pd\n",
    "manifest = pd.read_csv('data/manifest.tsv', sep = '\\t')\n",
    "manifest"
   ]
  },
  {
   "cell_type": "markdown",
   "metadata": {
    "id": "vAIoc31bgTY_"
   },
   "source": [
    "We can also check out the metadata file, which will give us more context on our samples 🔬"
   ]
  },
  {
   "cell_type": "code",
   "execution_count": 8,
   "metadata": {
    "id": "sAfnoRnxgZOO"
   },
   "outputs": [
    {
     "data": {
      "text/html": [
       "<div>\n",
       "<style scoped>\n",
       "    .dataframe tbody tr th:only-of-type {\n",
       "        vertical-align: middle;\n",
       "    }\n",
       "\n",
       "    .dataframe tbody tr th {\n",
       "        vertical-align: top;\n",
       "    }\n",
       "\n",
       "    .dataframe thead th {\n",
       "        text-align: right;\n",
       "    }\n",
       "</style>\n",
       "<table border=\"1\" class=\"dataframe\">\n",
       "  <thead>\n",
       "    <tr style=\"text-align: right;\">\n",
       "      <th></th>\n",
       "      <th>sample-id</th>\n",
       "      <th>collection_timestamp</th>\n",
       "      <th>day_relative_to_fmt</th>\n",
       "      <th>description</th>\n",
       "      <th>disease_state</th>\n",
       "      <th>host_age</th>\n",
       "      <th>host_age_units</th>\n",
       "      <th>host_body_mass_index</th>\n",
       "      <th>host_height</th>\n",
       "      <th>host_height_units</th>\n",
       "      <th>host_subject_id</th>\n",
       "      <th>host_weight</th>\n",
       "      <th>host_weight_units</th>\n",
       "      <th>race</th>\n",
       "      <th>sex</th>\n",
       "    </tr>\n",
       "  </thead>\n",
       "  <tbody>\n",
       "    <tr>\n",
       "      <th>0</th>\n",
       "      <td>ERR1883195</td>\n",
       "      <td>2011-10-24</td>\n",
       "      <td>26</td>\n",
       "      <td>Donor 11</td>\n",
       "      <td>healthy</td>\n",
       "      <td>Restricted access</td>\n",
       "      <td>years</td>\n",
       "      <td>Restricted access</td>\n",
       "      <td>Restricted access</td>\n",
       "      <td>m</td>\n",
       "      <td>Donor</td>\n",
       "      <td>Restricted access</td>\n",
       "      <td>kg</td>\n",
       "      <td>Restricted access</td>\n",
       "      <td>Restricted access</td>\n",
       "    </tr>\n",
       "    <tr>\n",
       "      <th>1</th>\n",
       "      <td>ERR1883207</td>\n",
       "      <td>2012-01-12</td>\n",
       "      <td>44</td>\n",
       "      <td>Donor 12</td>\n",
       "      <td>healthy</td>\n",
       "      <td>Restricted access</td>\n",
       "      <td>years</td>\n",
       "      <td>Restricted access</td>\n",
       "      <td>Restricted access</td>\n",
       "      <td>m</td>\n",
       "      <td>Donor</td>\n",
       "      <td>Restricted access</td>\n",
       "      <td>kg</td>\n",
       "      <td>Restricted access</td>\n",
       "      <td>Restricted access</td>\n",
       "    </tr>\n",
       "    <tr>\n",
       "      <th>2</th>\n",
       "      <td>ERR1883212</td>\n",
       "      <td>2012-10-10</td>\n",
       "      <td>135</td>\n",
       "      <td>Donor 14</td>\n",
       "      <td>healthy</td>\n",
       "      <td>Restricted access</td>\n",
       "      <td>years</td>\n",
       "      <td>Restricted access</td>\n",
       "      <td>Restricted access</td>\n",
       "      <td>m</td>\n",
       "      <td>Donor</td>\n",
       "      <td>Restricted access</td>\n",
       "      <td>kg</td>\n",
       "      <td>Restricted access</td>\n",
       "      <td>Restricted access</td>\n",
       "    </tr>\n",
       "    <tr>\n",
       "      <th>3</th>\n",
       "      <td>ERR1883214</td>\n",
       "      <td>2011-07-26</td>\n",
       "      <td>0</td>\n",
       "      <td>Day 0 CD1</td>\n",
       "      <td>Pre-FMT</td>\n",
       "      <td>39</td>\n",
       "      <td>years</td>\n",
       "      <td>29.3</td>\n",
       "      <td>165.1</td>\n",
       "      <td>m</td>\n",
       "      <td>CD1</td>\n",
       "      <td>80.1</td>\n",
       "      <td>kg</td>\n",
       "      <td>white</td>\n",
       "      <td>female</td>\n",
       "    </tr>\n",
       "    <tr>\n",
       "      <th>4</th>\n",
       "      <td>ERR1883225</td>\n",
       "      <td>2011-07-26</td>\n",
       "      <td>54</td>\n",
       "      <td>Donor CD1</td>\n",
       "      <td>healthy</td>\n",
       "      <td>Restricted access</td>\n",
       "      <td>years</td>\n",
       "      <td>Restricted access</td>\n",
       "      <td>Restricted access</td>\n",
       "      <td>m</td>\n",
       "      <td>Donor</td>\n",
       "      <td>Restricted access</td>\n",
       "      <td>kg</td>\n",
       "      <td>Restricted access</td>\n",
       "      <td>Restricted access</td>\n",
       "    </tr>\n",
       "    <tr>\n",
       "      <th>5</th>\n",
       "      <td>ERR1883240</td>\n",
       "      <td>2012-02-14</td>\n",
       "      <td>pre-FMT</td>\n",
       "      <td>CD9 pre-FMT</td>\n",
       "      <td>Pre-FMT</td>\n",
       "      <td>47</td>\n",
       "      <td>years</td>\n",
       "      <td>35.5</td>\n",
       "      <td>1.55</td>\n",
       "      <td>m</td>\n",
       "      <td>CD9</td>\n",
       "      <td>85.1</td>\n",
       "      <td>kg</td>\n",
       "      <td>white</td>\n",
       "      <td>female</td>\n",
       "    </tr>\n",
       "    <tr>\n",
       "      <th>6</th>\n",
       "      <td>ERR1883250</td>\n",
       "      <td>2011-12-23</td>\n",
       "      <td>pre-FMT</td>\n",
       "      <td>CD13 pre-FMT</td>\n",
       "      <td>Pre-FMT</td>\n",
       "      <td>53</td>\n",
       "      <td>years</td>\n",
       "      <td>34.4</td>\n",
       "      <td>1.56</td>\n",
       "      <td>m</td>\n",
       "      <td>CD13</td>\n",
       "      <td>83.9</td>\n",
       "      <td>kg</td>\n",
       "      <td>white</td>\n",
       "      <td>female</td>\n",
       "    </tr>\n",
       "    <tr>\n",
       "      <th>7</th>\n",
       "      <td>ERR1883294</td>\n",
       "      <td>2011-09-29</td>\n",
       "      <td>0</td>\n",
       "      <td>Day 0 CD3</td>\n",
       "      <td>Pre-FMT</td>\n",
       "      <td>61</td>\n",
       "      <td>years</td>\n",
       "      <td>32.5</td>\n",
       "      <td>1.727</td>\n",
       "      <td>m</td>\n",
       "      <td>CD3</td>\n",
       "      <td>97.3</td>\n",
       "      <td>kg</td>\n",
       "      <td>white</td>\n",
       "      <td>male</td>\n",
       "    </tr>\n",
       "  </tbody>\n",
       "</table>\n",
       "</div>"
      ],
      "text/plain": [
       "    sample-id collection_timestamp day_relative_to_fmt   description  \\\n",
       "0  ERR1883195           2011-10-24                  26      Donor 11   \n",
       "1  ERR1883207           2012-01-12                  44      Donor 12   \n",
       "2  ERR1883212           2012-10-10                 135      Donor 14   \n",
       "3  ERR1883214           2011-07-26                   0     Day 0 CD1   \n",
       "4  ERR1883225           2011-07-26                  54     Donor CD1   \n",
       "5  ERR1883240           2012-02-14             pre-FMT   CD9 pre-FMT   \n",
       "6  ERR1883250           2011-12-23             pre-FMT  CD13 pre-FMT   \n",
       "7  ERR1883294           2011-09-29                   0     Day 0 CD3   \n",
       "\n",
       "  disease_state           host_age host_age_units host_body_mass_index  \\\n",
       "0       healthy  Restricted access          years    Restricted access   \n",
       "1       healthy  Restricted access          years    Restricted access   \n",
       "2       healthy  Restricted access          years    Restricted access   \n",
       "3       Pre-FMT                 39          years                 29.3   \n",
       "4       healthy  Restricted access          years    Restricted access   \n",
       "5       Pre-FMT                 47          years                 35.5   \n",
       "6       Pre-FMT                 53          years                 34.4   \n",
       "7       Pre-FMT                 61          years                 32.5   \n",
       "\n",
       "         host_height host_height_units host_subject_id        host_weight  \\\n",
       "0  Restricted access                 m           Donor  Restricted access   \n",
       "1  Restricted access                 m           Donor  Restricted access   \n",
       "2  Restricted access                 m           Donor  Restricted access   \n",
       "3              165.1                 m             CD1               80.1   \n",
       "4  Restricted access                 m           Donor  Restricted access   \n",
       "5               1.55                 m             CD9               85.1   \n",
       "6               1.56                 m            CD13               83.9   \n",
       "7              1.727                 m             CD3               97.3   \n",
       "\n",
       "  host_weight_units               race                sex  \n",
       "0                kg  Restricted access  Restricted access  \n",
       "1                kg  Restricted access  Restricted access  \n",
       "2                kg  Restricted access  Restricted access  \n",
       "3                kg              white             female  \n",
       "4                kg  Restricted access  Restricted access  \n",
       "5                kg              white             female  \n",
       "6                kg              white             female  \n",
       "7                kg              white               male  "
      ]
     },
     "execution_count": 8,
     "metadata": {},
     "output_type": "execute_result"
    }
   ],
   "source": [
    "metadata = pd.read_csv('data/metadata.tsv', sep = '\\t')\n",
    "metadata"
   ]
  },
  {
   "cell_type": "markdown",
   "metadata": {
    "id": "qc10jMUYsXyh"
   },
   "source": [
    "Looks good, all eight FASTQ files are accounted for, four healthy and four with recurrent CDI. We can use the manifest file to import our files into QIIME2.\n",
    "\n",
    "## QIIME2 Pipeline\n",
    "\n",
    "Let's remind ourselves what the QIIME2 pipeline will do:\n",
    "![our workflow](https://github.com/Gibbons-Lab/isb_course_2023/raw/main/docs/16S/assets/steps.png)"
   ]
  },
  {
   "cell_type": "markdown",
   "metadata": {
    "id": "HLF-zdrJXq7q"
   },
   "source": [
    "To use sequencing data in QIIME2, we first need to turn the FASTQ files containing our data into QIIME artifacts. Using the manifest we just checked out, let's run our first command:\n",
    "\n",
    "-- as a reminder, adding ```!``` before the command tells the notebook this is a bash command, rather than python."
   ]
  },
  {
   "cell_type": "code",
   "execution_count": 9,
   "metadata": {
    "id": "QmLebzqFX_0N"
   },
   "outputs": [
    {
     "name": "stdout",
     "output_type": "stream",
     "text": [
      "\u001b[32mImported data/manifest.tsv as SingleEndFastqManifestPhred33V2 to sequences.qza\u001b[0m\n",
      "\u001b[0m"
     ]
    }
   ],
   "source": [
    "# fastq檔案格式轉換成qza\n",
    "!qiime tools import \\\n",
    "  --type 'SampleData[SequencesWithQuality]' \\\n",
    "  --input-path data/manifest.tsv \\\n",
    "  --output-path sequences.qza \\\n",
    "  --input-format SingleEndFastqManifestPhred33V2"
   ]
  },
  {
   "cell_type": "code",
   "execution_count": 10,
   "metadata": {},
   "outputs": [
    {
     "name": "stdout",
     "output_type": "stream",
     "text": [
      "UUID:        25a19b27-1687-46a9-a03c-b272d99b0e87\n",
      "Type:        SampleData[SequencesWithQuality]\n",
      "Data format: SingleLanePerSampleSingleEndFastqDirFmt\n"
     ]
    }
   ],
   "source": [
    "%%bash\n",
    "# 確認qza檔案內容物\n",
    "qiime tools peek sequences.qza "
   ]
  },
  {
   "cell_type": "markdown",
   "metadata": {
    "id": "N2Pmtg-aaqvr"
   },
   "source": [
    "Let's take a look a the command. QIIME commands take following format:\n",
    "\n",
    "```\n",
    "qiime plugin action --i-argument1 ... --o-argument2 ...\n",
    "```\n",
    "In the previous command, we are calling the ```tools``` plugin within QIIME2 to import our data. The following arguments designate where the manifest is, as well as where the output should be saved. We also tell QIIME2 what sort of input to expect.\n",
    "\n",
    "Argument types usually begin with a letter denoting their meaning:\n",
    "\n",
    "- `--i-...` = input files\n",
    "- `--o-...` = output files\n",
    "- `--p-...` = parameters\n",
    "- `--m-...` = metadata\n",
    "\n",
    "---\n",
    "\n",
    "## Visualizing our Data 🔎\n",
    "\n",
    "Before we move on, let's use QIIME2 to visualize our sequencing data."
   ]
  },
  {
   "cell_type": "code",
   "execution_count": 11,
   "metadata": {
    "id": "nVPsDHTNvNUw"
   },
   "outputs": [
    {
     "name": "stdout",
     "output_type": "stream",
     "text": [
      "\u001b[32mSaved Visualization to: qualities.qzv\u001b[0m\n",
      "\u001b[0m"
     ]
    }
   ],
   "source": [
    "!qiime demux summarize \\\n",
    "--i-data sequences.qza \\\n",
    "--o-visualization qualities.qzv"
   ]
  },
  {
   "cell_type": "markdown",
   "metadata": {
    "id": "o29TMwWOy9L1"
   },
   "source": [
    ".qzv files like the one we just produced are visualization. You can view the plot by downloading the file and opening it using http://view.qiime2.org. To download the file click on the folder symbol to the left, open the `materials` folder, and choose download from the dot menu next to the `qualities.qzv` file.\n",
    "\n",
    "---\n",
    "\n",
    "## Quality Filtering\n",
    "\n",
    "Before we can use our sequencing data, we need to \"denoise\" it. To do this, we'll use a plugin called DADA2. This involves three things.\n",
    "\n",
    "1. filter and trim the reads\n",
    "2. find the most likely set of unique sequences in the sample (ASVs)\n",
    "3. remove chimeras\n",
    "4. count the abundances of each ASV\n",
    "\n",
    "\n",
    "This command will take a little time - let's run it, and head back to the presentation to discuss what's happening."
   ]
  },
  {
   "cell_type": "code",
   "execution_count": 12,
   "metadata": {
    "id": "HclmzHqyacLU"
   },
   "outputs": [
    {
     "name": "stdout",
     "output_type": "stream",
     "text": [
      "Running external command line application(s). This may print messages to stdout and/or stderr.\n",
      "The command(s) being run are below. These commands cannot be manually re-run as they will depend on temporary files that no longer exist.\n",
      "\n",
      "Command: run_dada.R --input_directory /tmp/qiime2/c00cjz00/data/25a19b27-1687-46a9-a03c-b272d99b0e87/data --output_path /tmp/tmpaehgioyh/output.tsv.biom --output_track /tmp/tmpaehgioyh/track.tsv --filtered_directory /tmp/tmpaehgioyh --truncation_length 150 --trim_left 0 --max_expected_errors 2.0 --truncation_quality_score 2 --max_length Inf --pooling_method independent --chimera_method consensus --min_parental_fold 1.0 --allow_one_off False --num_threads 2 --learn_min_reads 1000000 --homopolymer_gap_penalty NULL --band_size 16\n",
      "\n",
      "R version 4.3.3 (2024-02-29) \n",
      "Loading required package: Rcpp\n",
      "\u001b[?25hDADA2: 1.30.0 / Rcpp: 1.0.12 / RcppParallel: 5.1.6 \n",
      "\u001b[?25h\u001b[?25h2) Filtering \u001b[?25h\u001b[?25h........\u001b[?25h\u001b[?25h\u001b[?25h\n",
      "\u001b[?25h\u001b[?25h3) Learning Error Rates\n",
      "\u001b[?25h80496450 total bases in 536643 reads from 8 samples will be used for learning the error rates.\n",
      "\u001b[?25h4) Denoise samples \n",
      "........\n",
      "\u001b[?25h5) Remove chimeras (method = consensus)\n",
      "\u001b[?25h\u001b[?25h6) Report read numbers through the pipeline\n",
      "\u001b[?25h\u001b[?25h7) Write output\n",
      "\u001b[?25h\u001b[?25h\u001b[?25h\u001b[?25h\u001b[?25h\u001b[?25h\u001b[?25h\u001b[32mSaved FeatureTable[Frequency] to: output/table.qza\u001b[0m\n",
      "\u001b[32mSaved FeatureData[Sequence] to: output/representative_sequences.qza\u001b[0m\n",
      "\u001b[32mSaved SampleData[DADA2Stats] to: output/denoising_stats.qza\u001b[0m\n",
      "\u001b[0m"
     ]
    }
   ],
   "source": [
    "!qiime dada2 denoise-single \\\n",
    "    --i-demultiplexed-seqs sequences.qza \\\n",
    "    --p-trim-left 0 \\\n",
    "    --p-trunc-len 150 \\\n",
    "    --p-n-threads 2 \\\n",
    "    --output-dir output --verbose"
   ]
  },
  {
   "cell_type": "markdown",
   "metadata": {
    "id": "sEs5k1Za-54R"
   },
   "source": [
    "\n",
    "If this step takes too long or fails, you can also copy the results from the treasure chest with the following command."
   ]
  },
  {
   "cell_type": "raw",
   "metadata": {
    "id": "-Sba9UTNeoji"
   },
   "source": [
    "# obscure magic that will only copy if the previous command failed\n",
    "![ -d dada ] || cp -r treasure_chest/dada ."
   ]
  },
  {
   "cell_type": "markdown",
   "metadata": {
    "id": "EhU2aNz4_MDO"
   },
   "source": [
    "Let's check to see how that went. One good way to tell if the identified ASVs are representative of the sample is to see how many reads were maintained throughout the pipeline. Here, the most common issues and solutions are:\n",
    "\n",
    "**Large fraction of reads is lost during merging (only paired-end)**\n",
    "\n",
    "![read overlap](https://gibbons-lab.github.io/isb_course_2023/16S/assets/read_overlap.png)\n",
    "\n",
    "In order to merge ASVs DADA2 uses an overlap of 12 bases between forward and reverse reads by default. Thus, your reads must allow for sufficient overlap *after* trimming. So if your amplified region is 450bp long and you have 2x250bp reads and you trim the last 30 bases of each read, truncating the length to 220bp, the total length of covered sequence is 2x220 = 440 which is shorter than 450bp so there will be no overlap. To solve this issue trim less of the reads or adjust the `--p-min-overlap` parameters to something lower (but not too low).\n",
    "\n",
    "<br>\n",
    "\n",
    "**Most of the reads are lost as chimeric**\n",
    "\n",
    "![read overlap](https://gibbons-lab.github.io/isb_course_2023/16S/assets/chimera.png)\n",
    "\n",
    "This is usually an experimental issue as chimeras are introduced during amplification. If you can adjust your PCR, try to run fewer cycles. Chimeras can also be introduced by incorrect merging. If your minimum overlap is too small ASVs may be merged randomly. Possible fixes are to increase the `--p-min-overlap` parameter or run the analysis on the forward reads only (in our empirical observations, chimeras are more likely to be introduced in the joined reads). *However, losing between 5-25% of your reads to chimeras is normal and does not require any adjustments.*\n",
    "\n",
    "\n",
    "Our denoising stats are contained in an artifact. To convert it to a visualization we can use `qiime metadata tabulate`."
   ]
  },
  {
   "cell_type": "raw",
   "metadata": {
    "id": "z-iW0UBd_Iiu"
   },
   "source": [
    "!qiime metadata tabulate \\\n",
    "    --m-input-file dada/denoising_stats.qza \\\n",
    "    --o-visualization dada/denoising-stats.qzv"
   ]
  },
  {
   "cell_type": "code",
   "execution_count": 14,
   "metadata": {},
   "outputs": [
    {
     "name": "stdout",
     "output_type": "stream",
     "text": [
      "Saved Visualization to: output/representative_sequences.qzv\n",
      "Saved Visualization to: output/table.qzv\n",
      "Saved Visualization to: output/denoising_stats.qzv\n"
     ]
    }
   ],
   "source": [
    "%%bash\n",
    "qiime feature-table tabulate-seqs \\\n",
    "  --i-data output/representative_sequences.qza \\\n",
    "  --o-visualization output/representative_sequences.qzv\n",
    "\n",
    "qiime feature-table summarize \\\n",
    "  --i-table output/table.qza \\\n",
    "  --m-sample-metadata-file data/metadata.tsv \\\n",
    "  --o-visualization output/table.qzv\n",
    "\n",
    "qiime metadata tabulate \\\n",
    "  --m-input-file output/denoising_stats.qza \\\n",
    "  --o-visualization output/denoising_stats.qzv"
   ]
  },
  {
   "cell_type": "markdown",
   "metadata": {
    "id": "TWqEgfzRKA5t"
   },
   "source": [
    "Like before, we can download the .qzv file and visualize the results using the [QIIME2 Viewer]('https://view.qiime2.org/').\n",
    "\n",
    "It's important to understand what this output tells us. For instance, what percent of reads in our data pass the filtering step? What percent of reads were non-chimeric? Differences in these metrics between samples can affect diversity metrics.\n",
    "\n",
    "---"
   ]
  },
  {
   "cell_type": "markdown",
   "metadata": {
    "id": "uDreq_YROCHQ"
   },
   "source": [
    "## Diversity and Phylogenetics\n",
    "An important metric to consider when studying microbial ecology is __diversity__. Diversity comes in two flavors: ⍺ (alpha) and β (beta).\n",
    "\n",
    "Alpha diversity is pretty simple - how diverse is a single sample? You might consider measures like richness and evenness.\n",
    "\n",
    "![alpha diversity](https://gibbons-lab.github.io/isb_course_2023/16S/assets/alpha_diversity.png)\n",
    "\n",
    "Beta diversity instead looks at how different two samples are from each other - what taxa are shared, and how their abundances differ.\n",
    "\n",
    "![beta diversity](https://gibbons-lab.github.io/isb_course_2023/16S/assets/beta_diversity.png)\n",
    "\n",
    "\n",
    "### Starting our Tree\n",
    "\n",
    "Let's start by building a phylogenetic tree for our sequences using the following command. This time, we call the _phylogeny_ plugin in QIIME2."
   ]
  },
  {
   "cell_type": "code",
   "execution_count": 15,
   "metadata": {
    "id": "Ym7blrPpKQuJ"
   },
   "outputs": [
    {
     "name": "stdout",
     "output_type": "stream",
     "text": [
      "\u001b[32mSaved FeatureData[AlignedSequence] to: tree/alignment.qza\u001b[0m\n",
      "\u001b[32mSaved FeatureData[AlignedSequence] to: tree/masked_alignment.qza\u001b[0m\n",
      "\u001b[32mSaved Phylogeny[Unrooted] to: tree/tree.qza\u001b[0m\n",
      "\u001b[32mSaved Phylogeny[Rooted] to: tree/rooted_tree.qza\u001b[0m\n",
      "\u001b[0m"
     ]
    }
   ],
   "source": [
    "!qiime phylogeny align-to-tree-mafft-fasttree \\\n",
    "    --i-sequences output/representative_sequences.qza \\\n",
    "    --output-dir tree"
   ]
  },
  {
   "cell_type": "markdown",
   "metadata": {
    "id": "T1jbqaW1hrmQ"
   },
   "source": [
    "We can create a visualization for the tree using the [empress](https://github.com/biocore/empress) QIIME 2 plugin."
   ]
  },
  {
   "cell_type": "raw",
   "metadata": {
    "id": "2Ttf0RTyhaPH"
   },
   "source": [
    "!qiime empress tree-plot \\\n",
    "    --i-tree tree/rooted_tree.qza \\\n",
    "    --o-visualization tree/empress.qzv"
   ]
  },
  {
   "cell_type": "markdown",
   "metadata": {
    "id": "H4fTVpeToufK"
   },
   "source": [
    "\n",
    "## Calculating Diversity\n",
    "Using the Diversity plugin, we can use our table and tree to calculate several diversity metrics. To account for variations in sampling depth, we'll provide QIIME2 with a cutoff at which rarefy all our samples. Since this randomly selects sequences, your results might look a little different. We'll also pass in our metadata file, so we can keep track how which samples come from each group."
   ]
  },
  {
   "cell_type": "code",
   "execution_count": 16,
   "metadata": {
    "id": "1YqaTqS5huAz"
   },
   "outputs": [
    {
     "name": "stdout",
     "output_type": "stream",
     "text": [
      "\u001b[32mSaved FeatureTable[Frequency] to: diversity/rarefied_table.qza\u001b[0m\n",
      "\u001b[32mSaved SampleData[AlphaDiversity] to: diversity/faith_pd_vector.qza\u001b[0m\n",
      "\u001b[32mSaved SampleData[AlphaDiversity] to: diversity/observed_features_vector.qza\u001b[0m\n",
      "\u001b[32mSaved SampleData[AlphaDiversity] to: diversity/shannon_vector.qza\u001b[0m\n",
      "\u001b[32mSaved SampleData[AlphaDiversity] to: diversity/evenness_vector.qza\u001b[0m\n",
      "\u001b[32mSaved DistanceMatrix to: diversity/unweighted_unifrac_distance_matrix.qza\u001b[0m\n",
      "\u001b[32mSaved DistanceMatrix to: diversity/weighted_unifrac_distance_matrix.qza\u001b[0m\n",
      "\u001b[32mSaved DistanceMatrix to: diversity/jaccard_distance_matrix.qza\u001b[0m\n",
      "\u001b[32mSaved DistanceMatrix to: diversity/bray_curtis_distance_matrix.qza\u001b[0m\n",
      "\u001b[32mSaved PCoAResults to: diversity/unweighted_unifrac_pcoa_results.qza\u001b[0m\n",
      "\u001b[32mSaved PCoAResults to: diversity/weighted_unifrac_pcoa_results.qza\u001b[0m\n",
      "\u001b[32mSaved PCoAResults to: diversity/jaccard_pcoa_results.qza\u001b[0m\n",
      "\u001b[32mSaved PCoAResults to: diversity/bray_curtis_pcoa_results.qza\u001b[0m\n",
      "\u001b[32mSaved Visualization to: diversity/unweighted_unifrac_emperor.qzv\u001b[0m\n",
      "\u001b[32mSaved Visualization to: diversity/weighted_unifrac_emperor.qzv\u001b[0m\n",
      "\u001b[32mSaved Visualization to: diversity/jaccard_emperor.qzv\u001b[0m\n",
      "\u001b[32mSaved Visualization to: diversity/bray_curtis_emperor.qzv\u001b[0m\n",
      "\u001b[0m"
     ]
    }
   ],
   "source": [
    "!qiime diversity core-metrics-phylogenetic \\\n",
    "    --i-table output/table.qza \\\n",
    "    --i-phylogeny tree/rooted_tree.qza \\\n",
    "    --p-sampling-depth 8000 \\\n",
    "    --m-metadata-file data/metadata.tsv \\\n",
    "    --output-dir diversity"
   ]
  },
  {
   "cell_type": "markdown",
   "metadata": {
    "id": "XslTNgFBg5qp"
   },
   "source": [
    "## Alpha Diversity\n",
    "\n",
    "We get a bunch of outputs from the previous command - measures of both alpha and beta diversity. To start, let's use the Shannon vector in the output directory to create a visualization of alpha diversity across samples. Generally, healthy, long-living individuals have balanced diverse microbiomes. However, this isn't necessarily a direct indicator of health or disease. Let's see how it looks in our samples"
   ]
  },
  {
   "cell_type": "code",
   "execution_count": 17,
   "metadata": {
    "id": "ne2WybKgh6fv"
   },
   "outputs": [
    {
     "name": "stdout",
     "output_type": "stream",
     "text": [
      "\u001b[32mSaved Visualization to: diversity/alpha_groups.qzv\u001b[0m\n",
      "\u001b[0m"
     ]
    }
   ],
   "source": [
    "!qiime diversity alpha-group-significance \\\n",
    "    --i-alpha-diversity diversity/shannon_vector.qza \\\n",
    "    --m-metadata-file data/metadata.tsv \\\n",
    "    --o-visualization diversity/alpha_groups.qzv"
   ]
  },
  {
   "cell_type": "raw",
   "metadata": {},
   "source": [
    "%%bash\n",
    "qiime diversity alpha-group-significance \\\n",
    "  --i-alpha-diversity core-metrics-results/faith_pd_vector.qza \\\n",
    "  --m-metadata-file sample-metadata.tsv \\\n",
    "  --o-visualization core-metrics-results/faith-pd-group-significance.qzv\n",
    "\n",
    "qiime diversity alpha-group-significance \\\n",
    "  --i-alpha-diversity core-metrics-results/evenness_vector.qza \\\n",
    "  --m-metadata-file sample-metadata.tsv \\\n",
    "  --o-visualization core-metrics-results/evenness-group-significance.qzv"
   ]
  },
  {
   "cell_type": "markdown",
   "metadata": {
    "id": "VNmxg2lmjyHE"
   },
   "source": [
    "Like before, we can download the visualization and open it with the QIIME2 viewer.\n",
    "\n",
    "## Beta Diversity\n",
    "\n",
    "Let's visualize the beta diversity and see how they separate. For this we'll look at weighted UniFrac. This time, we'll have to download the file ⬅️\n",
    "\n",
    "<br>\n",
    "\n",
    "We can check for 'significant' separation between samples using PERMANOVA. We can do this with the diversity plugin in QIIME2."
   ]
  },
  {
   "cell_type": "code",
   "execution_count": 18,
   "metadata": {
    "id": "WMASNLaWjxwD"
   },
   "outputs": [
    {
     "name": "stdout",
     "output_type": "stream",
     "text": [
      "\u001b[32mSaved Visualization to: diversity/permanova.qzv\u001b[0m\n",
      "\u001b[0m"
     ]
    }
   ],
   "source": [
    "!qiime diversity adonis \\\n",
    "    --i-distance-matrix diversity/weighted_unifrac_distance_matrix.qza \\\n",
    "    --m-metadata-file data/metadata.tsv \\\n",
    "    --p-formula \"disease_state\" \\\n",
    "    --p-n-jobs 2 \\\n",
    "    --o-visualization diversity/permanova.qzv"
   ]
  },
  {
   "cell_type": "raw",
   "metadata": {},
   "source": [
    "%%bash\n",
    "qiime diversity beta-group-significance \\\n",
    "  --i-distance-matrix core-metrics-results/unweighted_unifrac_distance_matrix.qza \\\n",
    "  --m-metadata-file sample-metadata.tsv \\\n",
    "  --m-metadata-column body-site \\\n",
    "  --o-visualization core-metrics-results/unweighted-unifrac-body-site-significance.qzv \\\n",
    "  --p-pairwise\n",
    "\n",
    "qiime diversity beta-group-significance \\\n",
    "  --i-distance-matrix core-metrics-results/unweighted_unifrac_distance_matrix.qza \\\n",
    "  --m-metadata-file sample-metadata.tsv \\\n",
    "  --m-metadata-column subject \\\n",
    "  --o-visualization core-metrics-results/unweighted-unifrac-subject-group-significance.qzv \\\n",
    "  --p-pairwise\n",
    "\n",
    "\n",
    "%%bash\n",
    "qiime emperor plot \\\n",
    "  --i-pcoa core-metrics-results/unweighted_unifrac_pcoa_results.qza \\\n",
    "  --m-metadata-file sample-metadata.tsv \\\n",
    "  --p-custom-axes days-since-experiment-start \\\n",
    "  --o-visualization core-metrics-results/unweighted-unifrac-emperor-days-since-experiment-start.qzv\n",
    "\n",
    "qiime emperor plot \\\n",
    "  --i-pcoa core-metrics-results/bray_curtis_pcoa_results.qza \\\n",
    "  --m-metadata-file sample-metadata.tsv \\\n",
    "  --p-custom-axes days-since-experiment-start \\\n",
    "  --o-visualization core-metrics-results/bray-curtis-emperor-days-since-experiment-start.qzv\n",
    "\n",
    "\n",
    "%%bash\n",
    "qiime diversity alpha-rarefaction \\\n",
    "  --i-table table.qza \\\n",
    "  --i-phylogeny rooted-tree.qza \\\n",
    "  --p-max-depth 4000 \\\n",
    "  --m-metadata-file sample-metadata.tsv \\\n",
    "  --o-visualization alpha-rarefaction.qzv"
   ]
  },
  {
   "cell_type": "markdown",
   "metadata": {
    "id": "CR2f0q4trGfA"
   },
   "source": [
    "---\n",
    "\n",
    "## Taxonomic Classification\n",
    "\n",
    "We can learn a lot from diversity metrics, alpha and beta. But to really dig into the data, we need to know what microbes are in each sample 🦠. To do this, we'll classify the reads in QIIME2 using a Bayesian classifier. Several such classifiers are available at https://docs.qiime2.org/2023.7/data-resources"
   ]
  },
  {
   "cell_type": "code",
   "execution_count": 19,
   "metadata": {},
   "outputs": [],
   "source": [
    "!curl -sL \\\n",
    "  \"https://data.qiime2.org/classifiers/sklearn-1.4.2/greengenes/gg-13-8-99-515-806-nb-classifier.qza\" > \\\n",
    "  \"gg-13-8-99-515-806-nb-classifier.qza\""
   ]
  },
  {
   "cell_type": "code",
   "execution_count": 21,
   "metadata": {
    "id": "firXAVIHrEzT"
   },
   "outputs": [
    {
     "name": "stdout",
     "output_type": "stream",
     "text": [
      "\u001b[32mSaved FeatureData[Taxonomy] to: taxa.qza\u001b[0m\n",
      "\u001b[0m"
     ]
    }
   ],
   "source": [
    "!qiime feature-classifier classify-sklearn \\\n",
    "    --i-reads output/representative_sequences.qza \\\n",
    "    --i-classifier gg-13-8-99-515-806-nb-classifier.qza \\\n",
    "    --p-n-jobs 2 \\\n",
    "    --o-classification taxa.qza"
   ]
  },
  {
   "cell_type": "raw",
   "metadata": {},
   "source": [
    "%%bash\n",
    "qiime metadata tabulate \\\n",
    "  --m-input-file taxonomy.qza \\\n",
    "  --o-visualization taxonomy.qzv\n",
    "\n",
    "qiime taxa barplot \\\n",
    "  --i-table table.qza \\\n",
    "  --i-taxonomy taxonomy.qza \\\n",
    "  --m-metadata-file sample-metadata.tsv \\\n",
    "  --o-visualization taxa-bar-plots.qzv"
   ]
  },
  {
   "cell_type": "markdown",
   "metadata": {
    "id": "ftEKkIx-uJtA"
   },
   "source": [
    "Now we've classified the reads, we can visualize the taxonomic breakdown of our samples."
   ]
  },
  {
   "cell_type": "code",
   "execution_count": 22,
   "metadata": {
    "id": "RSRrxhX7x4dE"
   },
   "outputs": [
    {
     "name": "stdout",
     "output_type": "stream",
     "text": [
      "\u001b[32mSaved Visualization to: taxa_barplot.qzv\u001b[0m\n",
      "\u001b[0m"
     ]
    }
   ],
   "source": [
    "!qiime taxa barplot \\\n",
    "    --i-table output/table.qza \\\n",
    "    --i-taxonomy taxa.qza \\\n",
    "    --m-metadata-file data/metadata.tsv \\\n",
    "    --o-visualization taxa_barplot.qzv"
   ]
  },
  {
   "cell_type": "markdown",
   "metadata": {
    "id": "LbZ2f-kOx4jY"
   },
   "source": [
    "Now, we can use ```table.qza```, which contains our reads, and ```taxa.qza```, which contains taxonomic classifications for reads, and collapse the data onto the genus level."
   ]
  },
  {
   "cell_type": "code",
   "execution_count": 23,
   "metadata": {
    "id": "XTClvRnXx4ob"
   },
   "outputs": [
    {
     "name": "stdout",
     "output_type": "stream",
     "text": [
      "\u001b[32mSaved FeatureTable[Frequency] to: genus.qza\u001b[0m\n",
      "\u001b[0m"
     ]
    }
   ],
   "source": [
    "!qiime taxa collapse \\\n",
    "    --i-table output/table.qza \\\n",
    "    --i-taxonomy taxa.qza \\\n",
    "    --p-level 6 \\\n",
    "    --o-collapsed-table genus.qza"
   ]
  },
  {
   "cell_type": "markdown",
   "metadata": {
    "id": "zZPj_eiux9DP"
   },
   "source": [
    "We'll export this as a .tsv, which will be more usable for the next portion of the course that you'll see tomorrow"
   ]
  },
  {
   "cell_type": "code",
   "execution_count": 24,
   "metadata": {
    "id": "deJ-FLcTx9Jq"
   },
   "outputs": [
    {
     "name": "stdout",
     "output_type": "stream",
     "text": [
      "\u001b[32mExported genus.qza as BIOMV210DirFmt to directory exported\u001b[0m\n",
      "\u001b[0m"
     ]
    }
   ],
   "source": [
    "!qiime tools export \\\n",
    "    --input-path genus.qza \\\n",
    "    --output-path exported\n",
    "!biom convert -i exported/feature-table.biom -o genus.tsv --to-tsv"
   ]
  },
  {
   "cell_type": "markdown",
   "metadata": {
    "id": "_1jjxJv5Pzwr"
   },
   "source": [
    "Let's peek at the results 🔭"
   ]
  },
  {
   "cell_type": "code",
   "execution_count": 25,
   "metadata": {
    "id": "nrq3gtn42kWv"
   },
   "outputs": [
    {
     "data": {
      "text/html": [
       "<div>\n",
       "<style scoped>\n",
       "    .dataframe tbody tr th:only-of-type {\n",
       "        vertical-align: middle;\n",
       "    }\n",
       "\n",
       "    .dataframe tbody tr th {\n",
       "        vertical-align: top;\n",
       "    }\n",
       "\n",
       "    .dataframe thead th {\n",
       "        text-align: right;\n",
       "    }\n",
       "</style>\n",
       "<table border=\"1\" class=\"dataframe\">\n",
       "  <thead>\n",
       "    <tr style=\"text-align: right;\">\n",
       "      <th></th>\n",
       "      <th>ERR1883195</th>\n",
       "      <th>ERR1883207</th>\n",
       "      <th>ERR1883212</th>\n",
       "      <th>ERR1883214</th>\n",
       "      <th>ERR1883225</th>\n",
       "      <th>ERR1883240</th>\n",
       "      <th>ERR1883250</th>\n",
       "      <th>ERR1883294</th>\n",
       "    </tr>\n",
       "    <tr>\n",
       "      <th>#OTU ID</th>\n",
       "      <th></th>\n",
       "      <th></th>\n",
       "      <th></th>\n",
       "      <th></th>\n",
       "      <th></th>\n",
       "      <th></th>\n",
       "      <th></th>\n",
       "      <th></th>\n",
       "    </tr>\n",
       "  </thead>\n",
       "  <tbody>\n",
       "    <tr>\n",
       "      <th>k__Bacteria;__;__;__;__;__</th>\n",
       "      <td>309.0</td>\n",
       "      <td>448.0</td>\n",
       "      <td>1085.0</td>\n",
       "      <td>55.0</td>\n",
       "      <td>4346.0</td>\n",
       "      <td>25.0</td>\n",
       "      <td>222.0</td>\n",
       "      <td>16.0</td>\n",
       "    </tr>\n",
       "    <tr>\n",
       "      <th>k__Bacteria;p__Firmicutes;c__Clostridia;o__Clostridiales;f__Ruminococcaceae;g__</th>\n",
       "      <td>613.0</td>\n",
       "      <td>1681.0</td>\n",
       "      <td>2277.0</td>\n",
       "      <td>0.0</td>\n",
       "      <td>28.0</td>\n",
       "      <td>0.0</td>\n",
       "      <td>3282.0</td>\n",
       "      <td>0.0</td>\n",
       "    </tr>\n",
       "    <tr>\n",
       "      <th>k__Bacteria;p__Firmicutes;c__Clostridia;o__Clostridiales;f__Ruminococcaceae;g__Faecalibacterium</th>\n",
       "      <td>4741.0</td>\n",
       "      <td>3717.0</td>\n",
       "      <td>10841.0</td>\n",
       "      <td>10.0</td>\n",
       "      <td>239.0</td>\n",
       "      <td>0.0</td>\n",
       "      <td>0.0</td>\n",
       "      <td>0.0</td>\n",
       "    </tr>\n",
       "    <tr>\n",
       "      <th>k__Bacteria;p__Firmicutes;c__Bacilli;o__Lactobacillales;f__Lactobacillaceae;g__</th>\n",
       "      <td>0.0</td>\n",
       "      <td>6.0</td>\n",
       "      <td>124.0</td>\n",
       "      <td>0.0</td>\n",
       "      <td>0.0</td>\n",
       "      <td>293.0</td>\n",
       "      <td>11.0</td>\n",
       "      <td>135.0</td>\n",
       "    </tr>\n",
       "    <tr>\n",
       "      <th>k__Bacteria;p__Firmicutes;c__Bacilli;o__Lactobacillales;f__Streptococcaceae;g__Streptococcus</th>\n",
       "      <td>18.0</td>\n",
       "      <td>62.0</td>\n",
       "      <td>5099.0</td>\n",
       "      <td>0.0</td>\n",
       "      <td>0.0</td>\n",
       "      <td>0.0</td>\n",
       "      <td>269.0</td>\n",
       "      <td>251.0</td>\n",
       "    </tr>\n",
       "    <tr>\n",
       "      <th>...</th>\n",
       "      <td>...</td>\n",
       "      <td>...</td>\n",
       "      <td>...</td>\n",
       "      <td>...</td>\n",
       "      <td>...</td>\n",
       "      <td>...</td>\n",
       "      <td>...</td>\n",
       "      <td>...</td>\n",
       "    </tr>\n",
       "    <tr>\n",
       "      <th>k__Bacteria;p__Firmicutes;c__Bacilli;o__Turicibacterales;f__Turicibacteraceae;g__Turicibacter</th>\n",
       "      <td>81.0</td>\n",
       "      <td>14.0</td>\n",
       "      <td>11.0</td>\n",
       "      <td>0.0</td>\n",
       "      <td>9.0</td>\n",
       "      <td>0.0</td>\n",
       "      <td>0.0</td>\n",
       "      <td>0.0</td>\n",
       "    </tr>\n",
       "    <tr>\n",
       "      <th>k__Bacteria;p__Firmicutes;c__Erysipelotrichi;o__Erysipelotrichales;f__Erysipelotrichaceae;g__Bulleidia</th>\n",
       "      <td>25.0</td>\n",
       "      <td>27.0</td>\n",
       "      <td>41.0</td>\n",
       "      <td>0.0</td>\n",
       "      <td>0.0</td>\n",
       "      <td>0.0</td>\n",
       "      <td>0.0</td>\n",
       "      <td>0.0</td>\n",
       "    </tr>\n",
       "    <tr>\n",
       "      <th>k__Bacteria;p__Firmicutes;c__Clostridia;o__Clostridiales;f__Lachnospiraceae;g__Lachnospira</th>\n",
       "      <td>25.0</td>\n",
       "      <td>43.0</td>\n",
       "      <td>166.0</td>\n",
       "      <td>0.0</td>\n",
       "      <td>0.0</td>\n",
       "      <td>0.0</td>\n",
       "      <td>750.0</td>\n",
       "      <td>0.0</td>\n",
       "    </tr>\n",
       "    <tr>\n",
       "      <th>k__Bacteria;p__Fusobacteria;c__Fusobacteriia;o__Fusobacteriales;f__Fusobacteriaceae;__</th>\n",
       "      <td>0.0</td>\n",
       "      <td>0.0</td>\n",
       "      <td>0.0</td>\n",
       "      <td>107.0</td>\n",
       "      <td>0.0</td>\n",
       "      <td>3331.0</td>\n",
       "      <td>0.0</td>\n",
       "      <td>0.0</td>\n",
       "    </tr>\n",
       "    <tr>\n",
       "      <th>k__Bacteria;p__Fusobacteria;c__Fusobacteriia;o__Fusobacteriales;f__Fusobacteriaceae;g__Fusobacterium</th>\n",
       "      <td>0.0</td>\n",
       "      <td>0.0</td>\n",
       "      <td>0.0</td>\n",
       "      <td>111.0</td>\n",
       "      <td>0.0</td>\n",
       "      <td>2224.0</td>\n",
       "      <td>294.0</td>\n",
       "      <td>591.0</td>\n",
       "    </tr>\n",
       "  </tbody>\n",
       "</table>\n",
       "<p>93 rows × 8 columns</p>\n",
       "</div>"
      ],
      "text/plain": [
       "                                                    ERR1883195  ERR1883207  \\\n",
       "#OTU ID                                                                      \n",
       "k__Bacteria;__;__;__;__;__                               309.0       448.0   \n",
       "k__Bacteria;p__Firmicutes;c__Clostridia;o__Clos...       613.0      1681.0   \n",
       "k__Bacteria;p__Firmicutes;c__Clostridia;o__Clos...      4741.0      3717.0   \n",
       "k__Bacteria;p__Firmicutes;c__Bacilli;o__Lactoba...         0.0         6.0   \n",
       "k__Bacteria;p__Firmicutes;c__Bacilli;o__Lactoba...        18.0        62.0   \n",
       "...                                                        ...         ...   \n",
       "k__Bacteria;p__Firmicutes;c__Bacilli;o__Turicib...        81.0        14.0   \n",
       "k__Bacteria;p__Firmicutes;c__Erysipelotrichi;o_...        25.0        27.0   \n",
       "k__Bacteria;p__Firmicutes;c__Clostridia;o__Clos...        25.0        43.0   \n",
       "k__Bacteria;p__Fusobacteria;c__Fusobacteriia;o_...         0.0         0.0   \n",
       "k__Bacteria;p__Fusobacteria;c__Fusobacteriia;o_...         0.0         0.0   \n",
       "\n",
       "                                                    ERR1883212  ERR1883214  \\\n",
       "#OTU ID                                                                      \n",
       "k__Bacteria;__;__;__;__;__                              1085.0        55.0   \n",
       "k__Bacteria;p__Firmicutes;c__Clostridia;o__Clos...      2277.0         0.0   \n",
       "k__Bacteria;p__Firmicutes;c__Clostridia;o__Clos...     10841.0        10.0   \n",
       "k__Bacteria;p__Firmicutes;c__Bacilli;o__Lactoba...       124.0         0.0   \n",
       "k__Bacteria;p__Firmicutes;c__Bacilli;o__Lactoba...      5099.0         0.0   \n",
       "...                                                        ...         ...   \n",
       "k__Bacteria;p__Firmicutes;c__Bacilli;o__Turicib...        11.0         0.0   \n",
       "k__Bacteria;p__Firmicutes;c__Erysipelotrichi;o_...        41.0         0.0   \n",
       "k__Bacteria;p__Firmicutes;c__Clostridia;o__Clos...       166.0         0.0   \n",
       "k__Bacteria;p__Fusobacteria;c__Fusobacteriia;o_...         0.0       107.0   \n",
       "k__Bacteria;p__Fusobacteria;c__Fusobacteriia;o_...         0.0       111.0   \n",
       "\n",
       "                                                    ERR1883225  ERR1883240  \\\n",
       "#OTU ID                                                                      \n",
       "k__Bacteria;__;__;__;__;__                              4346.0        25.0   \n",
       "k__Bacteria;p__Firmicutes;c__Clostridia;o__Clos...        28.0         0.0   \n",
       "k__Bacteria;p__Firmicutes;c__Clostridia;o__Clos...       239.0         0.0   \n",
       "k__Bacteria;p__Firmicutes;c__Bacilli;o__Lactoba...         0.0       293.0   \n",
       "k__Bacteria;p__Firmicutes;c__Bacilli;o__Lactoba...         0.0         0.0   \n",
       "...                                                        ...         ...   \n",
       "k__Bacteria;p__Firmicutes;c__Bacilli;o__Turicib...         9.0         0.0   \n",
       "k__Bacteria;p__Firmicutes;c__Erysipelotrichi;o_...         0.0         0.0   \n",
       "k__Bacteria;p__Firmicutes;c__Clostridia;o__Clos...         0.0         0.0   \n",
       "k__Bacteria;p__Fusobacteria;c__Fusobacteriia;o_...         0.0      3331.0   \n",
       "k__Bacteria;p__Fusobacteria;c__Fusobacteriia;o_...         0.0      2224.0   \n",
       "\n",
       "                                                    ERR1883250  ERR1883294  \n",
       "#OTU ID                                                                     \n",
       "k__Bacteria;__;__;__;__;__                               222.0        16.0  \n",
       "k__Bacteria;p__Firmicutes;c__Clostridia;o__Clos...      3282.0         0.0  \n",
       "k__Bacteria;p__Firmicutes;c__Clostridia;o__Clos...         0.0         0.0  \n",
       "k__Bacteria;p__Firmicutes;c__Bacilli;o__Lactoba...        11.0       135.0  \n",
       "k__Bacteria;p__Firmicutes;c__Bacilli;o__Lactoba...       269.0       251.0  \n",
       "...                                                        ...         ...  \n",
       "k__Bacteria;p__Firmicutes;c__Bacilli;o__Turicib...         0.0         0.0  \n",
       "k__Bacteria;p__Firmicutes;c__Erysipelotrichi;o_...         0.0         0.0  \n",
       "k__Bacteria;p__Firmicutes;c__Clostridia;o__Clos...       750.0         0.0  \n",
       "k__Bacteria;p__Fusobacteria;c__Fusobacteriia;o_...         0.0         0.0  \n",
       "k__Bacteria;p__Fusobacteria;c__Fusobacteriia;o_...       294.0       591.0  \n",
       "\n",
       "[93 rows x 8 columns]"
      ]
     },
     "execution_count": 25,
     "metadata": {},
     "output_type": "execute_result"
    }
   ],
   "source": [
    "abundances = pd.read_table(\"genus.tsv\", skiprows=1, index_col=0)\n",
    "abundances"
   ]
  },
  {
   "cell_type": "markdown",
   "metadata": {
    "id": "ROKU7_tcyFKD"
   },
   "source": [
    "This is easier to interpret by visualizing the results. We can use the file we just exported from QIIME2 to build a visualization using any tool we like, such as seaborn or plotnine. Here is an example of building a visualization (a heatmap) in seaborn:"
   ]
  },
  {
   "cell_type": "code",
   "execution_count": 28,
   "metadata": {
    "id": "YOHG-0nXquu5"
   },
   "outputs": [
    {
     "ename": "AttributeError",
     "evalue": "Can only use .str accessor with string values!",
     "output_type": "error",
     "traceback": [
      "\u001b[0;31m---------------------------------------------------------------------------\u001b[0m",
      "\u001b[0;31mAttributeError\u001b[0m                            Traceback (most recent call last)",
      "Cell \u001b[0;32mIn[28], line 4\u001b[0m\n\u001b[1;32m      1\u001b[0m \u001b[38;5;28;01mimport\u001b[39;00m \u001b[38;5;21;01mnumpy\u001b[39;00m \u001b[38;5;28;01mas\u001b[39;00m \u001b[38;5;21;01mnp\u001b[39;00m\n\u001b[1;32m      2\u001b[0m \u001b[38;5;28;01mimport\u001b[39;00m \u001b[38;5;21;01mseaborn\u001b[39;00m \u001b[38;5;28;01mas\u001b[39;00m \u001b[38;5;21;01msns\u001b[39;00m\n\u001b[0;32m----> 4\u001b[0m abundances\u001b[38;5;241m.\u001b[39mindex \u001b[38;5;241m=\u001b[39m \u001b[43mabundances\u001b[49m\u001b[38;5;241;43m.\u001b[39;49m\u001b[43mindex\u001b[49m\u001b[38;5;241;43m.\u001b[39;49m\u001b[43mstr\u001b[49m\u001b[38;5;241m.\u001b[39msplit(\u001b[38;5;124m\"\u001b[39m\u001b[38;5;124m;\u001b[39m\u001b[38;5;124m\"\u001b[39m)\u001b[38;5;241m.\u001b[39mstr[\u001b[38;5;241m5\u001b[39m]       \u001b[38;5;66;03m# Use only the genus name\u001b[39;00m\n\u001b[1;32m      5\u001b[0m abundances \u001b[38;5;241m=\u001b[39m abundances[\u001b[38;5;241m~\u001b[39mabundances\u001b[38;5;241m.\u001b[39mindex\u001b[38;5;241m.\u001b[39misin([\u001b[38;5;124m\"\u001b[39m\u001b[38;5;124mg__\u001b[39m\u001b[38;5;124m\"\u001b[39m, \u001b[38;5;124m\"\u001b[39m\u001b[38;5;124m__\u001b[39m\u001b[38;5;124m\"\u001b[39m])]  \u001b[38;5;66;03m# remove unclassified genera\u001b[39;00m\n\u001b[1;32m      6\u001b[0m abundances \u001b[38;5;241m=\u001b[39m abundances\u001b[38;5;241m.\u001b[39msample(\u001b[38;5;241m10\u001b[39m)                              \u001b[38;5;66;03m# use 50 random genera\u001b[39;00m\n",
      "File \u001b[0;32m/opt/conda/envs/qiime2-amplicon-2024.5/lib/python3.9/site-packages/pandas/core/accessor.py:224\u001b[0m, in \u001b[0;36mCachedAccessor.__get__\u001b[0;34m(self, obj, cls)\u001b[0m\n\u001b[1;32m    221\u001b[0m \u001b[38;5;28;01mif\u001b[39;00m obj \u001b[38;5;129;01mis\u001b[39;00m \u001b[38;5;28;01mNone\u001b[39;00m:\n\u001b[1;32m    222\u001b[0m     \u001b[38;5;66;03m# we're accessing the attribute of the class, i.e., Dataset.geo\u001b[39;00m\n\u001b[1;32m    223\u001b[0m     \u001b[38;5;28;01mreturn\u001b[39;00m \u001b[38;5;28mself\u001b[39m\u001b[38;5;241m.\u001b[39m_accessor\n\u001b[0;32m--> 224\u001b[0m accessor_obj \u001b[38;5;241m=\u001b[39m \u001b[38;5;28;43mself\u001b[39;49m\u001b[38;5;241;43m.\u001b[39;49m\u001b[43m_accessor\u001b[49m\u001b[43m(\u001b[49m\u001b[43mobj\u001b[49m\u001b[43m)\u001b[49m\n\u001b[1;32m    225\u001b[0m \u001b[38;5;66;03m# Replace the property with the accessor object. Inspired by:\u001b[39;00m\n\u001b[1;32m    226\u001b[0m \u001b[38;5;66;03m# https://www.pydanny.com/cached-property.html\u001b[39;00m\n\u001b[1;32m    227\u001b[0m \u001b[38;5;66;03m# We need to use object.__setattr__ because we overwrite __setattr__ on\u001b[39;00m\n\u001b[1;32m    228\u001b[0m \u001b[38;5;66;03m# NDFrame\u001b[39;00m\n\u001b[1;32m    229\u001b[0m \u001b[38;5;28mobject\u001b[39m\u001b[38;5;241m.\u001b[39m\u001b[38;5;21m__setattr__\u001b[39m(obj, \u001b[38;5;28mself\u001b[39m\u001b[38;5;241m.\u001b[39m_name, accessor_obj)\n",
      "File \u001b[0;32m/opt/conda/envs/qiime2-amplicon-2024.5/lib/python3.9/site-packages/pandas/core/strings/accessor.py:191\u001b[0m, in \u001b[0;36mStringMethods.__init__\u001b[0;34m(self, data)\u001b[0m\n\u001b[1;32m    188\u001b[0m \u001b[38;5;28;01mdef\u001b[39;00m \u001b[38;5;21m__init__\u001b[39m(\u001b[38;5;28mself\u001b[39m, data) \u001b[38;5;241m-\u001b[39m\u001b[38;5;241m>\u001b[39m \u001b[38;5;28;01mNone\u001b[39;00m:\n\u001b[1;32m    189\u001b[0m     \u001b[38;5;28;01mfrom\u001b[39;00m \u001b[38;5;21;01mpandas\u001b[39;00m\u001b[38;5;21;01m.\u001b[39;00m\u001b[38;5;21;01mcore\u001b[39;00m\u001b[38;5;21;01m.\u001b[39;00m\u001b[38;5;21;01marrays\u001b[39;00m\u001b[38;5;21;01m.\u001b[39;00m\u001b[38;5;21;01mstring_\u001b[39;00m \u001b[38;5;28;01mimport\u001b[39;00m StringDtype\n\u001b[0;32m--> 191\u001b[0m     \u001b[38;5;28mself\u001b[39m\u001b[38;5;241m.\u001b[39m_inferred_dtype \u001b[38;5;241m=\u001b[39m \u001b[38;5;28;43mself\u001b[39;49m\u001b[38;5;241;43m.\u001b[39;49m\u001b[43m_validate\u001b[49m\u001b[43m(\u001b[49m\u001b[43mdata\u001b[49m\u001b[43m)\u001b[49m\n\u001b[1;32m    192\u001b[0m     \u001b[38;5;28mself\u001b[39m\u001b[38;5;241m.\u001b[39m_is_categorical \u001b[38;5;241m=\u001b[39m \u001b[38;5;28misinstance\u001b[39m(data\u001b[38;5;241m.\u001b[39mdtype, CategoricalDtype)\n\u001b[1;32m    193\u001b[0m     \u001b[38;5;28mself\u001b[39m\u001b[38;5;241m.\u001b[39m_is_string \u001b[38;5;241m=\u001b[39m \u001b[38;5;28misinstance\u001b[39m(data\u001b[38;5;241m.\u001b[39mdtype, StringDtype)\n",
      "File \u001b[0;32m/opt/conda/envs/qiime2-amplicon-2024.5/lib/python3.9/site-packages/pandas/core/strings/accessor.py:245\u001b[0m, in \u001b[0;36mStringMethods._validate\u001b[0;34m(data)\u001b[0m\n\u001b[1;32m    242\u001b[0m inferred_dtype \u001b[38;5;241m=\u001b[39m lib\u001b[38;5;241m.\u001b[39minfer_dtype(values, skipna\u001b[38;5;241m=\u001b[39m\u001b[38;5;28;01mTrue\u001b[39;00m)\n\u001b[1;32m    244\u001b[0m \u001b[38;5;28;01mif\u001b[39;00m inferred_dtype \u001b[38;5;129;01mnot\u001b[39;00m \u001b[38;5;129;01min\u001b[39;00m allowed_types:\n\u001b[0;32m--> 245\u001b[0m     \u001b[38;5;28;01mraise\u001b[39;00m \u001b[38;5;167;01mAttributeError\u001b[39;00m(\u001b[38;5;124m\"\u001b[39m\u001b[38;5;124mCan only use .str accessor with string values!\u001b[39m\u001b[38;5;124m\"\u001b[39m)\n\u001b[1;32m    246\u001b[0m \u001b[38;5;28;01mreturn\u001b[39;00m inferred_dtype\n",
      "\u001b[0;31mAttributeError\u001b[0m: Can only use .str accessor with string values!"
     ]
    }
   ],
   "source": [
    "import numpy as np\n",
    "import seaborn as sns\n",
    "\n",
    "abundances.index = abundances.index.str.split(\";\").str[5]       # Use only the genus name\n",
    "abundances = abundances[~abundances.index.isin([\"g__\", \"__\"])]  # remove unclassified genera\n",
    "abundances = abundances.sample(10)                              # use 50 random genera\n",
    "\n",
    "# Let's do a centered log-ratio transform: log x_i - log mean(x)\n",
    "transformed = abundances.apply(\n",
    "    lambda xs: np.log(xs + 0.5) - np.log(xs.mean() + 0.5),\n",
    "    axis=0)\n",
    "\n",
    "sns.clustermap(transformed.T, cmap=\"magma\", xticklabels=True, figsize=(18, 6))"
   ]
  },
  {
   "cell_type": "markdown",
   "metadata": {
    "id": "WPMlG8w9aCsW"
   },
   "source": [
    "## Exercise - Plant a Tree\n",
    "\n",
    "One visualization that we did not spend a lot of time on was the phylogentic tree of our ASVs. Let's change that! We have seen that there are genera that appear in multiple populations in the previous step. But are the organisms in that genus actually the same?\n",
    "\n",
    "Let's annotate the tree with our taxonomic classifications and abundances. We will use the empress plugin again but this time with the `community-plot` option. I filled in a template of the command for you. Can you figure out what has to go in the empty spaces?\n",
    "\n",
    "**QUESTIONS:**\n",
    "\n",
    "1) Are some of the branch lengths on the tree longer than you would expect? Do you notice anything interesting or suspicious about the taxonomic identities of these branches?\n",
    "\n",
    "2) Can you find examples of phyla that are polyphyletic (i.e. where clusters of ASVs from the same phylum are found in different locations on the tree, showing different commmon ancestors)? What about polyphyletic taxa at lower taxonomic levels, like at the family or genus levels? Why do you think these patterns exist?"
   ]
  },
  {
   "cell_type": "raw",
   "metadata": {
    "id": "qf-bY5aci4bv"
   },
   "source": [
    "# This won't run until you fill in the [EMPTY] spots with the right files ;)\n",
    "\n",
    "!qiime empress community-plot \\\n",
    "    --i-tree [EMPTY] \\\n",
    "    --i-feature-table dada/table.qza \\\n",
    "    --m-sample-metadata-file [EMPTY] \\\n",
    "    --m-feature-metadata-file taxa.qza \\\n",
    "    --o-visualization community-tree-viz.qzv"
   ]
  },
  {
   "cell_type": "code",
   "execution_count": null,
   "metadata": {},
   "outputs": [],
   "source": []
  },
  {
   "cell_type": "code",
   "execution_count": null,
   "metadata": {},
   "outputs": [],
   "source": []
  }
 ],
 "metadata": {
  "colab": {
   "include_colab_link": true,
   "provenance": []
  },
  "kernelspec": {
   "display_name": "Image_amplicon_2024.5",
   "language": "python",
   "name": "amplicon_2024.5"
  },
  "language_info": {
   "codemirror_mode": {
    "name": "ipython",
    "version": 3
   },
   "file_extension": ".py",
   "mimetype": "text/x-python",
   "name": "python",
   "nbconvert_exporter": "python",
   "pygments_lexer": "ipython3",
   "version": "3.9.19"
  }
 },
 "nbformat": 4,
 "nbformat_minor": 4
}
