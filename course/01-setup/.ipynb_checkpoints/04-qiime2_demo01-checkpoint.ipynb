{
 "cells": [
  {
   "cell_type": "code",
   "execution_count": null,
   "id": "208deb90-89af-446c-b4d3-e31d246d8a70",
   "metadata": {},
   "outputs": [],
   "source": [
    "# python 環境變數\n",
    "import os\n",
    "HOSTNAME=os.environ['HOSTNAME']\n",
    "os.environ['http_proxy'] = \"socks5:/\"+HOSTNAME+\":12345\" \n",
    "os.environ['https_proxy'] = \"socks5://\"+HOSTNAME+\":12345\" "
   ]
  },
  {
   "cell_type": "code",
   "execution_count": null,
   "id": "bc3cec47-1589-4a68-9d7f-0da8d9d46a06",
   "metadata": {},
   "outputs": [],
   "source": [
    "#初始環境設定\n",
    "import os\n",
    "from pathlib import Path\n",
    "HOME = str(Path.home())\n",
    "Add_Binarry_Path=HOME+'/.local/bin:/usr/localbin'\n",
    "os.environ['PATH']=os.environ['PATH']+':'+Add_Binarry_Path"
   ]
  },
  {
   "cell_type": "code",
   "execution_count": null,
   "id": "dc843879-7c44-43c0-89f4-6bd2a0e3a700",
   "metadata": {},
   "outputs": [],
   "source": [
    "# Qiime2 初始環境設定\n",
    "os.environ['MPLCONFIGDIR'] = \"/tmp/mplconfigdir\"\n",
    "os.environ['NUMBA_CACHE_DIR'] = \"/tmp/numbacache\"\n",
    "os.environ['XDG_CONFIG_HOME']=os.environ['HOME']\n",
    "os.environ['CONDA_PREFIX']=os.environ['CONDA_PREFIX'].replace(\"/home/qiime2\", os.environ['HOME'])\n",
    "newpath=os.environ['CONDA_PREFIX']\n",
    "if not os.path.exists(newpath):\n",
    "    os.makedirs(newpath)"
   ]
  },
  {
   "cell_type": "code",
   "execution_count": null,
   "id": "1de1279a-250a-4e15-bd1e-d722b1e9477e",
   "metadata": {},
   "outputs": [],
   "source": [
    "# 切換目錄\n",
    "!mkdir qiime2-moving-pictures-tutorial\n",
    "%cd qiime2-moving-pictures-tutorial"
   ]
  },
  {
   "cell_type": "code",
   "execution_count": null,
   "id": "bd2ac41a-ed5e-4675-b067-3dade20f9ca5",
   "metadata": {},
   "outputs": [],
   "source": [
    "%%bash\n",
    "# 切換目錄並下載檔案, 確認 ssh proxy socks5有啟動\n",
    "rm -rf emp-single-end-sequences\n",
    "mkdir emp-single-end-sequences\n",
    "curl -sL \\\n",
    "  \"https://data.qiime2.org/2024.5/tutorials/moving-pictures/sample_metadata.tsv\" > \\\n",
    "  \"sample-metadata.tsv\"\n",
    "curl -sL \\\n",
    "  \"https://data.qiime2.org/2024.5/tutorials/moving-pictures/emp-single-end-sequences/barcodes.fastq.gz\" > \\\n",
    "  \"emp-single-end-sequences/barcodes.fastq.gz\"\n",
    "curl -sL \\\n",
    "  \"https://data.qiime2.org/2024.5/tutorials/moving-pictures/emp-single-end-sequences/sequences.fastq.gz\" > \\\n",
    "  \"emp-single-end-sequences/sequences.fastq.gz\""
   ]
  },
  {
   "cell_type": "code",
   "execution_count": null,
   "id": "426d4421-fdc4-4af4-97d7-e37704591383",
   "metadata": {},
   "outputs": [],
   "source": [
    "%%bash\n",
    "# fastq檔案格式轉換成qza\n",
    "qiime tools import \\\n",
    "  --type EMPSingleEndSequences \\\n",
    "  --input-path emp-single-end-sequences \\\n",
    "  --output-path emp-single-end-sequences.qza"
   ]
  },
  {
   "cell_type": "code",
   "execution_count": null,
   "id": "88e38e35-e423-4779-a775-1e00726a0624",
   "metadata": {},
   "outputs": [],
   "source": [
    "%%bash\n",
    "# 確認qza檔案內容物\n",
    "qiime tools peek emp-single-end-sequences.qza"
   ]
  },
  {
   "cell_type": "code",
   "execution_count": null,
   "id": "92dcf3a0-85d3-4ab3-81fd-5cf5888209cc",
   "metadata": {},
   "outputs": [],
   "source": [
    "%%bash\n",
    "# Demultiplexing sequences\n",
    "qiime demux emp-single \\\n",
    "  --i-seqs emp-single-end-sequences.qza \\\n",
    "  --m-barcodes-file sample-metadata.tsv \\\n",
    "  --m-barcodes-column barcode-sequence \\\n",
    "  --o-per-sample-sequences demux.qza \\\n",
    "  --o-error-correction-details demux-details.qza"
   ]
  },
  {
   "cell_type": "code",
   "execution_count": null,
   "id": "7cd26df1-83ce-4e0b-b12b-fd077c2b96c0",
   "metadata": {},
   "outputs": [],
   "source": [
    "%%bash\n",
    "# 轉換檔案\n",
    "qiime demux summarize \\\n",
    "  --i-data demux.qza \\\n",
    "  --o-visualization demux.qzv"
   ]
  },
  {
   "cell_type": "code",
   "execution_count": null,
   "id": "e0e22c7a-c936-4948-8104-c84e9ab491b0",
   "metadata": {},
   "outputs": [],
   "source": [
    "%%bash\n",
    "qiime dada2 denoise-single \\\n",
    "  --i-demultiplexed-seqs demux.qza \\\n",
    "  --p-trim-left 0 \\\n",
    "  --p-trunc-len 120 \\\n",
    "  --o-representative-sequences rep-seqs.qza \\\n",
    "  --o-table table.qza \\\n",
    "  --o-denoising-stats stats.qza"
   ]
  },
  {
   "cell_type": "code",
   "execution_count": null,
   "id": "cc8e95ff-60b7-4a4f-a4e8-0c69d50292c7",
   "metadata": {},
   "outputs": [],
   "source": [
    "%%bash\n",
    "qiime feature-table tabulate-seqs \\\n",
    "  --i-data rep-seqs.qza \\\n",
    "  --o-visualization rep-seqs.qzv\n",
    "\n",
    "qiime feature-table summarize \\\n",
    "  --i-table table.qza \\\n",
    "  --o-visualization table.qzv \\\n",
    "  --m-sample-metadata-file sample-metadata.tsv\n",
    "\n",
    "qiime metadata tabulate \\\n",
    "  --m-input-file stats.qza \\\n",
    "  --o-visualization stats.qzv"
   ]
  },
  {
   "cell_type": "code",
   "execution_count": null,
   "id": "1b26288f-d2d3-46b1-bb51-f14cd8856952",
   "metadata": {},
   "outputs": [],
   "source": [
    "%%bash\n",
    "qiime phylogeny align-to-tree-mafft-fasttree \\\n",
    "  --i-sequences rep-seqs.qza \\\n",
    "  --o-alignment aligned-rep-seqs.qza \\\n",
    "  --o-masked-alignment masked-aligned-rep-seqs.qza \\\n",
    "  --o-tree unrooted-tree.qza \\\n",
    "  --o-rooted-tree rooted-tree.qza\n",
    "\n",
    "qiime diversity core-metrics-phylogenetic \\\n",
    "  --i-phylogeny rooted-tree.qza \\\n",
    "  --i-table table.qza \\\n",
    "  --p-sampling-depth 1103 \\\n",
    "  --m-metadata-file sample-metadata.tsv \\\n",
    "  --output-dir core-metrics-results"
   ]
  },
  {
   "cell_type": "code",
   "execution_count": null,
   "id": "cec7a848-36b2-4bce-b90b-c3ffa081ba5e",
   "metadata": {},
   "outputs": [],
   "source": [
    "%%bash\n",
    "qiime diversity alpha-group-significance \\\n",
    "  --i-alpha-diversity core-metrics-results/faith_pd_vector.qza \\\n",
    "  --m-metadata-file sample-metadata.tsv \\\n",
    "  --o-visualization core-metrics-results/faith-pd-group-significance.qzv\n",
    "\n",
    "qiime diversity alpha-group-significance \\\n",
    "  --i-alpha-diversity core-metrics-results/evenness_vector.qza \\\n",
    "  --m-metadata-file sample-metadata.tsv \\\n",
    "  --o-visualization core-metrics-results/evenness-group-significance.qzv"
   ]
  },
  {
   "cell_type": "code",
   "execution_count": null,
   "id": "8882b637-fd5a-49bc-a923-b7a682fb6219",
   "metadata": {},
   "outputs": [],
   "source": [
    "%%bash\n",
    "qiime diversity beta-group-significance \\\n",
    "  --i-distance-matrix core-metrics-results/unweighted_unifrac_distance_matrix.qza \\\n",
    "  --m-metadata-file sample-metadata.tsv \\\n",
    "  --m-metadata-column body-site \\\n",
    "  --o-visualization core-metrics-results/unweighted-unifrac-body-site-significance.qzv \\\n",
    "  --p-pairwise\n",
    "\n",
    "qiime diversity beta-group-significance \\\n",
    "  --i-distance-matrix core-metrics-results/unweighted_unifrac_distance_matrix.qza \\\n",
    "  --m-metadata-file sample-metadata.tsv \\\n",
    "  --m-metadata-column subject \\\n",
    "  --o-visualization core-metrics-results/unweighted-unifrac-subject-group-significance.qzv \\\n",
    "  --p-pairwise"
   ]
  },
  {
   "cell_type": "code",
   "execution_count": null,
   "id": "10874a94-45c6-4f48-b57f-eaa1fbbb61b6",
   "metadata": {},
   "outputs": [],
   "source": [
    "%%bash\n",
    "qiime emperor plot \\\n",
    "  --i-pcoa core-metrics-results/unweighted_unifrac_pcoa_results.qza \\\n",
    "  --m-metadata-file sample-metadata.tsv \\\n",
    "  --p-custom-axes days-since-experiment-start \\\n",
    "  --o-visualization core-metrics-results/unweighted-unifrac-emperor-days-since-experiment-start.qzv\n",
    "\n",
    "qiime emperor plot \\\n",
    "  --i-pcoa core-metrics-results/bray_curtis_pcoa_results.qza \\\n",
    "  --m-metadata-file sample-metadata.tsv \\\n",
    "  --p-custom-axes days-since-experiment-start \\\n",
    "  --o-visualization core-metrics-results/bray-curtis-emperor-days-since-experiment-start.qzv"
   ]
  },
  {
   "cell_type": "code",
   "execution_count": null,
   "id": "5c12bb55-3f9b-498e-a1d8-9ad8457d8b1e",
   "metadata": {},
   "outputs": [],
   "source": [
    "%%bash\n",
    "qiime diversity alpha-rarefaction \\\n",
    "  --i-table table.qza \\\n",
    "  --i-phylogeny rooted-tree.qza \\\n",
    "  --p-max-depth 4000 \\\n",
    "  --m-metadata-file sample-metadata.tsv \\\n",
    "  --o-visualization alpha-rarefaction.qzv"
   ]
  },
  {
   "cell_type": "code",
   "execution_count": null,
   "id": "dd7e4cb9-18c2-4637-a68d-8e82fea6bb0c",
   "metadata": {},
   "outputs": [],
   "source": [
    "%%bash\n",
    "curl -sL \\\n",
    "  \"https://data.qiime2.org/classifiers/sklearn-1.4.2/greengenes/gg-13-8-99-515-806-nb-classifier.qza\" > \\\n",
    "  \"gg-13-8-99-515-806-nb-classifier.qza\""
   ]
  },
  {
   "cell_type": "code",
   "execution_count": null,
   "id": "7049dec9-c0af-47d8-b1af-cf7f8393382b",
   "metadata": {},
   "outputs": [],
   "source": [
    "%%bash\n",
    "qiime feature-classifier classify-sklearn \\\n",
    "  --i-classifier gg-13-8-99-515-806-nb-classifier.qza \\\n",
    "  --i-reads rep-seqs.qza \\\n",
    "  --o-classification taxonomy.qza"
   ]
  },
  {
   "cell_type": "code",
   "execution_count": null,
   "id": "2ad86695-3e66-4230-9c10-daa30aa5d76d",
   "metadata": {},
   "outputs": [],
   "source": [
    "%%bash\n",
    "qiime metadata tabulate \\\n",
    "  --m-input-file taxonomy.qza \\\n",
    "  --o-visualization taxonomy.qzv\n",
    "\n",
    "qiime taxa barplot \\\n",
    "  --i-table table.qza \\\n",
    "  --i-taxonomy taxonomy.qza \\\n",
    "  --m-metadata-file sample-metadata.tsv \\\n",
    "  --o-visualization taxa-bar-plots.qzv"
   ]
  },
  {
   "cell_type": "code",
   "execution_count": null,
   "id": "b1b3657c-49b1-4de9-acea-e0588c6ff329",
   "metadata": {},
   "outputs": [],
   "source": [
    "%%bash\n",
    "qiime feature-table filter-samples \\\n",
    "  --i-table table.qza \\\n",
    "  --m-metadata-file sample-metadata.tsv \\\n",
    "  --p-where \"[body-site]='gut'\" \\\n",
    "  --o-filtered-table gut-table.qza"
   ]
  },
  {
   "cell_type": "code",
   "execution_count": null,
   "id": "a8baff15-ca51-4c3e-ba2f-c0f4db9914bd",
   "metadata": {},
   "outputs": [],
   "source": [
    "%%bash\n",
    "qiime composition ancombc \\\n",
    "  --i-table gut-table.qza \\\n",
    "  --m-metadata-file sample-metadata.tsv \\\n",
    "  --p-formula 'subject' \\\n",
    "  --o-differentials ancombc-subject.qza\n",
    "\n",
    "qiime composition da-barplot \\\n",
    "  --i-data ancombc-subject.qza \\\n",
    "  --p-significance-threshold 0.001 \\\n",
    "  --o-visualization da-barplot-subject.qzv"
   ]
  },
  {
   "cell_type": "code",
   "execution_count": null,
   "id": "27dc03ff-ae34-490b-ab9f-e01a1b0a5ed7",
   "metadata": {},
   "outputs": [],
   "source": [
    "%%bash\n",
    "qiime taxa collapse \\\n",
    "  --i-table gut-table.qza \\\n",
    "  --i-taxonomy taxonomy.qza \\\n",
    "  --p-level 6 \\\n",
    "  --o-collapsed-table gut-table-l6.qza\n",
    "\n",
    "qiime composition ancombc \\\n",
    "  --i-table gut-table-l6.qza \\\n",
    "  --m-metadata-file sample-metadata.tsv \\\n",
    "  --p-formula 'subject' \\\n",
    "  --o-differentials l6-ancombc-subject.qza\n",
    "\n",
    "qiime composition da-barplot \\\n",
    "  --i-data l6-ancombc-subject.qza \\\n",
    "  --p-significance-threshold 0.001 \\\n",
    "  --p-level-delimiter ';' \\\n",
    "  --o-visualization l6-da-barplot-subject.qzv"
   ]
  },
  {
   "cell_type": "code",
   "execution_count": null,
   "id": "3249d679-8a71-4c11-9d52-251152e0137c",
   "metadata": {},
   "outputs": [],
   "source": []
  }
 ],
 "metadata": {
  "kernelspec": {
   "display_name": "Image_amplicon_2024.5",
   "language": "python",
   "name": "amplicon_2024.5"
  },
  "language_info": {
   "codemirror_mode": {
    "name": "ipython",
    "version": 3
   },
   "file_extension": ".py",
   "mimetype": "text/x-python",
   "name": "python",
   "nbconvert_exporter": "python",
   "pygments_lexer": "ipython3",
   "version": "3.9.19"
  }
 },
 "nbformat": 4,
 "nbformat_minor": 5
}
