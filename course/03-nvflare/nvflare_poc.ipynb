{
 "cells": [
  {
   "cell_type": "code",
   "execution_count": 1,
   "id": "c5a8d212-5327-4083-a160-e78fcff19d9e",
   "metadata": {},
   "outputs": [],
   "source": [
    "# 初始環境設定\n",
    "import os\n",
    "from pathlib import Path\n",
    "HOME = str(Path.home())\n",
    "Add_Binarry_Path=HOME+'/.conda/envs/nvflare/bin'\n",
    "os.environ['PATH']=os.environ['PATH']+':'+Add_Binarry_Path\n",
    "os.environ['PATH']=Add_Binarry_Path+':'+os.environ['PATH']"
   ]
  },
  {
   "cell_type": "code",
   "execution_count": 2,
   "id": "47060050-de46-46d1-955b-b67df21f8ceb",
   "metadata": {},
   "outputs": [],
   "source": [
    "#ssh -fND ${HOSTNAME}:12345 intgpn01\n",
    "import os\n",
    "tmp=!echo $(hostname)\n",
    "HOSTNAME=tmp[0]\n",
    "os.environ['http_proxy'] = \"socks5:/\"+HOSTNAME+\":12345\" \n",
    "os.environ['https_proxy'] = \"socks5://\"+HOSTNAME+\":12345\" "
   ]
  },
  {
   "cell_type": "code",
   "execution_count": 3,
   "id": "467bdd62-b1ac-4f12-add3-e019463c8205",
   "metadata": {},
   "outputs": [
    {
     "name": "stdout",
     "output_type": "stream",
     "text": [
      "fatal: destination path 'NVFlare' already exists and is not an empty directory.\n"
     ]
    }
   ],
   "source": [
    "!git clone https://github.com/NVIDIA/NVFlare.git"
   ]
  },
  {
   "cell_type": "code",
   "execution_count": 4,
   "id": "e5304e9b-67f5-45e6-921c-9aa7fb7d1841",
   "metadata": {},
   "outputs": [
    {
     "name": "stdout",
     "output_type": "stream",
     "text": [
      "new config at /home/c00cjz00/.nvflare/config.conf\n",
      "{\n",
      "  job_template {\n",
      "    path = \"/home/c00cjz00/f1/course/03-nvflare/poc/job_templates\"\n",
      "  }\n",
      "  poc_workspace {\n",
      "    path = \"/home/c00cjz00/f1/course/03-nvflare/poc\"\n",
      "  }\n",
      "  startup_kit {\n",
      "    path = \"/home/c00cjz00/f1/course/03-nvflare/poc/project/prod_00\"\n",
      "  }\n",
      "}\n",
      "{\n",
      "  job_template {\n",
      "    path = \"/home/c00cjz00/f1/course/03-nvflare/poc/job_templates\"\n",
      "  }\n",
      "  poc_workspace {\n",
      "    path = \"/home/c00cjz00/f1/course/03-nvflare/poc\"\n",
      "  }\n",
      "  startup_kit {\n",
      "    path = \"/home/c00cjz00/f1/course/03-nvflare/poc/project/prod_00\"\n",
      "  }\n",
      "}\n"
     ]
    }
   ],
   "source": [
    "#! nvflare config -pw /tmp/nvflare/poc --job_templates_dir ../../job_templates\n",
    "!rm -rf ./poc\n",
    "!mkdir -p ./poc/project/prod_00\n",
    "!cp -rf ./NVFlare/job_templates ./poc/job_templates\n",
    "!nvflare config -pw ./poc -jt  ./poc/job_templates -d ./poc/project/prod_00\n",
    "! cat ~/.nvflare/config.conf"
   ]
  },
  {
   "cell_type": "raw",
   "id": "a04a493e-699a-44bc-bc98-b1c5e648dfb3",
   "metadata": {},
   "source": [
    "%env  NVFLARE_POC_WORKSPACE=/tmp/nvflare/poc\n",
    "! echo $NVFLARE_POC_WORKSPACE "
   ]
  },
  {
   "cell_type": "code",
   "execution_count": 5,
   "id": "014f7a32-8731-4185-a385-ceda52dfc2a4",
   "metadata": {},
   "outputs": [
    {
     "name": "stdout",
     "output_type": "stream",
     "text": [
      "/home/c00cjz00/f1/course/03-nvflare/poc/project.yml is missing, make sure you have first run 'nvflare poc prepare'\n",
      "prepare poc at /home/c00cjz00/f1/course/03-nvflare/poc for 2 clients\n",
      "This will delete poc workspace directory: '/home/c00cjz00/f1/course/03-nvflare/poc' and create a new one. Is it OK to proceed? (y/N) provision at /home/c00cjz00/f1/course/03-nvflare/poc for 2 clients with /home/c00cjz00/f1/course/03-nvflare/poc/project.yml\n",
      "Generated results can be found under /home/c00cjz00/f1/course/03-nvflare/poc/example_project/prod_00. \n"
     ]
    }
   ],
   "source": [
    "# 移除目前正在執行的nvflare\n",
    "!ps -efww |grep nvflare |grep startup| awk '{print $2}' | xargs kill -9 \n",
    "! nvflare poc clean\n",
    "! echo 'y' | nvflare poc prepare -n 2\n",
    "#! echo 'y' | nvflare poc prepare -n 2 -d nvflare/nvflare:2.5.0\n",
    "#! echo 'y' | nvflare poc prepare -c hospital-1 hospital-2 -d nvflare/nvflare:2.5.0\n",
    "#! echo 'y' | nvflare poc prepare -i NVFlare/examples/tutorials/custom_project.yml"
   ]
  },
  {
   "cell_type": "code",
   "execution_count": null,
   "id": "8130094e-6fb9-4c3f-ab72-2934b9f6168d",
   "metadata": {},
   "outputs": [],
   "source": [
    "! tree ./poc/example_project/prod_00/\n",
    "#! tree ./poc/health_project/prod_00"
   ]
  },
  {
   "cell_type": "code",
   "execution_count": null,
   "id": "0f007f5f-c3bd-49fa-911f-a67e6806833f",
   "metadata": {},
   "outputs": [
    {
     "name": "stdout",
     "output_type": "stream",
     "text": [
      "2024-10-15 00:01:26,943 - ClientEngine - INFO - Client shutdown...\n",
      "2024-10-15 00:01:26,943 - ClientEngine - INFO - Client shutdown...\n",
      "About to shutdown the client...\n",
      "2024-10-15 00:01:27,719 - FederatedClient - INFO - Shutting down client run: site-1\n",
      "2024-10-15 00:01:27,720 - ClientManager - INFO - Client Name:site-1 \tToken: 12e23085-92cd-4787-9bfd-ce304fe59319 left.  Total clients: 1\n",
      "About to shutdown the client...\n",
      "2024-10-15 00:01:27,720 - FederatedClient - INFO - Shutting down client run: site-2\n",
      "2024-10-15 00:01:27,720 - ServerEngine - INFO - FL server shutdown.\n",
      "2024-10-15 00:01:27,721 - FederatedClient - INFO - Logout client: site-1 from server.\n",
      "2024-10-15 00:01:27,721 - ClientManager - INFO - Client Name:site-2 \tToken: af539d64-752e-4d6e-bc1a-31b361cd2ab0 left.  Total clients: 0\n",
      "2024-10-15 00:01:27,722 - FederatedClient - INFO - Logout client: site-2 from server.\n",
      "2024-10-15 00:01:27,722 - JobRunner - INFO - [identity=example_project, run=?]: Stop all the running jobs.\n",
      "2024-10-15 00:01:27,722 - FederatedServer - INFO - shutting down server\n",
      "2024-10-15 00:01:27,722 - FederatedServer - INFO - canceling sync locks\n",
      "2024-10-15 00:01:27,722 - FederatedServer - INFO - server off\n",
      "2024-10-15 00:01:28,747 - nvflare.fuel.hci.server.hci - INFO - Admin Server localhost on Port 8003 shutdown!\n",
      "2024-10-15 00:01:30,224 - nvflare.fuel.f3.sfm.conn_manager - INFO - Connection [CN00002 Not Connected] is closed PID: 455475\n",
      "2024-10-15 00:01:30,224 - nvflare.fuel.f3.sfm.conn_manager - INFO - Connection [CN00002 Not Connected] is closed PID: 455434\n",
      "2024-10-15 00:01:30,313 - MPM - INFO - MPM: Good Bye!\n",
      "2024-10-15 00:01:30,323 - nvflare.fuel.f3.sfm.conn_manager - INFO - Connection [CN00003 Not Connected] is closed PID: 455393\n",
      "2024-10-15 00:01:30,323 - nvflare.fuel.f3.sfm.conn_manager - INFO - Connection [CN00002 Not Connected] is closed PID: 455393\n",
      "About to shutdown.\n",
      "2024-10-15 00:01:30,355 - nvflare.fuel.f3.drivers.grpc_driver.GrpcDriver - INFO - CLIENT: finished connection [CN00002 Not Connected]\n",
      "2024-10-15 00:01:30,355 - MPM - INFO - MPM: Good Bye!\n",
      "2024-10-15 00:01:30,358 - nvflare.fuel.f3.drivers.grpc_driver.GrpcDriver - INFO - CLIENT: finished connection [CN00002 Not Connected]\n",
      "2024-10-15 00:01:30,359 - MPM - INFO - MPM: Good Bye!\n",
      "Gracefully shutdown.\n",
      "Gracefully shutdown.\n",
      "Process already terminated\n"
     ]
    }
   ],
   "source": [
    "%%bash\n",
    "# We start the system with two hospital clients and server, without the project admin console:\n",
    "#nvflare poc start\n",
    "nvflare poc start -ex admin@nvidia.com &\n",
    "#nvflare poc start -ex admin@nonprofit.org\n",
    "#nvflare poc start -p lead@hospital.org.us\n",
    "\n",
    "#nvflare poc stop\n",
    "#nvflare poc stop -p site-1\n",
    "#nvflare poc stop -p server\n",
    "#nvflare poc stop -ex admin@nvidia.com"
   ]
  },
  {
   "cell_type": "code",
   "execution_count": 8,
   "id": "d06a77df-30c7-4556-90bd-4aba9a7e7c15",
   "metadata": {},
   "outputs": [
    {
     "name": "stdout",
     "output_type": "stream",
     "text": [
      "c00cjz00  455299       1  0 Oct14 ?        00:00:00 bash /home/c00cjz00/f1/course/03-nvflare/poc/example_project/prod_00/server/startup/sub_start.sh\n",
      "c00cjz00  455309       1  0 Oct14 ?        00:00:00 bash /home/c00cjz00/f1/course/03-nvflare/poc/example_project/prod_00/site-2/startup/sub_start.sh\n",
      "c00cjz00  455319       1  0 Oct14 ?        00:00:00 bash /home/c00cjz00/f1/course/03-nvflare/poc/example_project/prod_00/site-1/startup/sub_start.sh\n",
      "c00cjz00  456233  454147  0 00:00 pts/8    00:00:00 /bin/bash -c ps -ef |grep nvflare |grep sub_start\n"
     ]
    }
   ],
   "source": [
    "!ps -ef |grep nvflare |grep sub_start"
   ]
  },
  {
   "cell_type": "code",
   "execution_count": null,
   "id": "473c72b3-ff68-4296-899d-4f685074323e",
   "metadata": {},
   "outputs": [],
   "source": [
    "## use terminal\n",
    "ml tools/miniconda3 \n",
    "conda activate nvflare\n",
    "nvflare poc start -p admin@nvidia.com"
   ]
  },
  {
   "cell_type": "code",
   "execution_count": null,
   "id": "39026204-6249-4adf-b3ff-1a1b751ddd87",
   "metadata": {},
   "outputs": [],
   "source": [
    "!nvflare poc stop"
   ]
  },
  {
   "cell_type": "code",
   "execution_count": 11,
   "id": "27ce1ad7-2628-421c-bff3-7d3f310e883e",
   "metadata": {},
   "outputs": [],
   "source": [
    "!ps -efww |grep nvflare |grep startup| awk '{print $2}' | xargs kill -9 "
   ]
  },
  {
   "cell_type": "code",
   "execution_count": 12,
   "id": "5308c84f-dac9-4eee-9e4b-4797a58f9729",
   "metadata": {},
   "outputs": [
    {
     "name": "stdout",
     "output_type": "stream",
     "text": [
      "/home/c00cjz00/f1/course/03-nvflare/poc is removed\n",
      "prepare poc at /home/c00cjz00/f1/course/03-nvflare/poc for 2 clients\n",
      "provision at /home/c00cjz00/f1/course/03-nvflare/poc for 2 clients with /home/c00cjz00/f1/course/03-nvflare/poc/project.yml\n",
      "Generated results can be found under /home/c00cjz00/f1/course/03-nvflare/poc/example_project/prod_00. \n"
     ]
    }
   ],
   "source": [
    "## Project Yaml File\n",
    "! nvflare poc clean\n",
    "! echo 'y' | nvflare poc prepare -c hospital_1 hospital_2 -d 'nvflare/nvflare'"
   ]
  },
  {
   "cell_type": "code",
   "execution_count": 13,
   "id": "b5d67302-e35d-41b7-8d9f-650816585440",
   "metadata": {},
   "outputs": [
    {
     "name": "stdout",
     "output_type": "stream",
     "text": [
      "api_version: 3\n",
      "builders:\n",
      "- args:\n",
      "    template_file:\n",
      "    - master_template.yml\n",
      "    - aws_template.yml\n",
      "    - azure_template.yml\n",
      "  path: nvflare.lighter.impl.workspace.WorkspaceBuilder\n",
      "- path: nvflare.lighter.impl.template.TemplateBuilder\n",
      "- args:\n",
      "    config_folder: config\n",
      "    docker_image: nvflare/nvflare\n",
      "    overseer_agent:\n",
      "      args:\n",
      "        sp_end_point: server:8002:8003\n",
      "      overseer_exists: false\n",
      "      path: nvflare.ha.dummy_overseer_agent.DummyOverseerAgent\n",
      "  path: nvflare.lighter.impl.static_file.StaticFileBuilder\n",
      "- path: nvflare.lighter.impl.cert.CertBuilder\n",
      "- path: nvflare.lighter.impl.signature.SignatureBuilder\n",
      "description: NVIDIA FLARE sample project yaml file\n",
      "name: example_project\n",
      "participants:\n",
      "- admin_port: 8003\n",
      "  fed_learn_port: 8002\n",
      "  name: server\n",
      "  org: nvidia\n",
      "  type: server\n",
      "- name: admin@nvidia.com\n",
      "  org: nvidia\n",
      "  role: project_admin\n",
      "  type: admin\n",
      "- name: hospital_1\n",
      "  org: nvidia\n",
      "  type: client\n",
      "- name: hospital_2\n",
      "  org: nvidia\n",
      "  type: client\n"
     ]
    }
   ],
   "source": [
    "!cat /home/c00cjz00/f1/course/03-nvflare/poc/project.yml"
   ]
  },
  {
   "cell_type": "code",
   "execution_count": null,
   "id": "82eeb5be-aa62-4b04-8bb6-feb96fb0fa91",
   "metadata": {},
   "outputs": [],
   "source": []
  }
 ],
 "metadata": {
  "kernelspec": {
   "display_name": "nvflare",
   "language": "python",
   "name": "nvflare"
  },
  "language_info": {
   "codemirror_mode": {
    "name": "ipython",
    "version": 3
   },
   "file_extension": ".py",
   "mimetype": "text/x-python",
   "name": "python",
   "nbconvert_exporter": "python",
   "pygments_lexer": "ipython3",
   "version": "3.10.14"
  }
 },
 "nbformat": 4,
 "nbformat_minor": 5
}
