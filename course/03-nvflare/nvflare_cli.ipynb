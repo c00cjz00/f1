{
 "cells": [
  {
   "cell_type": "code",
   "execution_count": null,
   "id": "c5a8d212-5327-4083-a160-e78fcff19d9e",
   "metadata": {},
   "outputs": [],
   "source": [
    "# 初始環境設定\n",
    "import os\n",
    "from pathlib import Path\n",
    "HOME = str(Path.home())\n",
    "Add_Binarry_Path=HOME+'/.conda/envs/nvflare/bin'\n",
    "os.environ['PATH']=os.environ['PATH']+':'+Add_Binarry_Path\n",
    "os.environ['PATH']=Add_Binarry_Path+':'+os.environ['PATH']"
   ]
  },
  {
   "cell_type": "code",
   "execution_count": null,
   "id": "47060050-de46-46d1-955b-b67df21f8ceb",
   "metadata": {},
   "outputs": [],
   "source": [
    "#ssh -fND ${HOSTNAME}:12345 intgpn01\n",
    "import os\n",
    "tmp=!echo $(hostname)\n",
    "HOSTNAME=tmp[0]\n",
    "os.environ['http_proxy'] = \"socks5:/\"+HOSTNAME+\":12345\" \n",
    "os.environ['https_proxy'] = \"socks5://\"+HOSTNAME+\":12345\" "
   ]
  },
  {
   "cell_type": "code",
   "execution_count": null,
   "id": "467bdd62-b1ac-4f12-add3-e019463c8205",
   "metadata": {},
   "outputs": [],
   "source": [
    "!git clone https://github.com/NVIDIA/NVFlare.git abcd"
   ]
  },
  {
   "cell_type": "code",
   "execution_count": null,
   "id": "443a6976-82b9-4acc-a351-b6423e62a534",
   "metadata": {},
   "outputs": [],
   "source": [
    "!git clone https://github.com/NVIDIA/NVFlare.git abc"
   ]
  },
  {
   "cell_type": "code",
   "execution_count": null,
   "id": "e5304e9b-67f5-45e6-921c-9aa7fb7d1841",
   "metadata": {},
   "outputs": [],
   "source": [
    "#! nvflare config -pw /tmp/nvflare/poc --job_templates_dir ../../job_templates\n",
    "!rm -rf ./poc\n",
    "!mkdir -p ./poc/project/prod_00\n",
    "!cp -rf ./NVFlare/job_templates ./poc/job_templates\n",
    "!nvflare config -pw ./poc -jt  ./poc/job_templates -d ./poc/project/prod_00\n",
    "! cat ~/.nvflare/config.conf"
   ]
  },
  {
   "cell_type": "raw",
   "id": "a04a493e-699a-44bc-bc98-b1c5e648dfb3",
   "metadata": {},
   "source": [
    "%env  NVFLARE_POC_WORKSPACE=/tmp/nvflare/poc\n",
    "! echo $NVFLARE_POC_WORKSPACE "
   ]
  },
  {
   "cell_type": "code",
   "execution_count": null,
   "id": "beb08ddb-4670-4061-bdce-9eab2b33d879",
   "metadata": {},
   "outputs": [],
   "source": [
    "# 移除目前正在執行的nvflare\n",
    "!ps -efww |grep nvflare |grep startup| awk '{print $2}' | xargs kill -9 \n",
    "! nvflare poc clean\n",
    "! echo 'y' | nvflare poc prepare -n 2\n",
    "!cp -rf ./NVFlare/job_templates ./poc/job_templates\n"
   ]
  },
  {
   "cell_type": "code",
   "execution_count": null,
   "id": "e5f181a4-655e-4dc4-8f15-e9cf7739c8c6",
   "metadata": {},
   "outputs": [],
   "source": [
    "#! nvflare job list_templates -d \"../../job_templates\"\n",
    "#! nvflare config -jt ../../job_templates \n",
    "! nvflare job list_templates"
   ]
  },
  {
   "cell_type": "code",
   "execution_count": null,
   "id": "8697ae0d-597e-482f-aaa2-cdf98297cf96",
   "metadata": {},
   "outputs": [],
   "source": [
    "# copy to my_job/meta.conf\n",
    "# copy to my_job/app/config\n",
    "! rm -rf ./my_job\n",
    "! nvflare job create -j ./my_job -w sag_pt -force"
   ]
  },
  {
   "cell_type": "code",
   "execution_count": null,
   "id": "4c86d3fe-da6c-416b-bec1-93ec4aa59125",
   "metadata": {},
   "outputs": [],
   "source": [
    "! cat ./my_job/meta.conf"
   ]
  },
  {
   "cell_type": "code",
   "execution_count": null,
   "id": "94f431b2-6a89-4d28-a2d9-9a3e220772f2",
   "metadata": {},
   "outputs": [],
   "source": [
    "! cat ./my_job/app/config/config_fed_server.conf"
   ]
  },
  {
   "cell_type": "code",
   "execution_count": null,
   "id": "c8822693-60cb-46a6-bedf-0d3f9e8973c4",
   "metadata": {},
   "outputs": [],
   "source": [
    "! cat ./my_job/app/config/config_fed_client.conf"
   ]
  },
  {
   "cell_type": "code",
   "execution_count": null,
   "id": "01d23e29-698b-41fa-890f-ed57ade3eb91",
   "metadata": {},
   "outputs": [],
   "source": [
    "! nvflare job show_variables -j ./my_job"
   ]
  },
  {
   "cell_type": "code",
   "execution_count": null,
   "id": "8eaa9986-9f9c-48c2-b326-fb24e174174c",
   "metadata": {},
   "outputs": [],
   "source": [
    "# copy to my_job/meta.conf\n",
    "# copy to my_job/app/config\n",
    "# copy to my_job/app/custom\n",
    "! rm -rf ./my_job\n",
    "! nvflare job create -j ./my_job -force -w sag_pt  \\\n",
    "-f config_fed_server.conf num_rounds=1 \\\n",
    "-f config_fed_client.conf app_script=train.py \\\n",
    "-sd ./NVFlare/examples/hello-world/step-by-step/cifar10/code/fl"
   ]
  },
  {
   "cell_type": "code",
   "execution_count": null,
   "id": "e1fcca36-c3fe-43e6-8f13-0e702696bfae",
   "metadata": {},
   "outputs": [],
   "source": [
    "!ls ./NVFlare/examples/hello-world/step-by-step/cifar10/code/fl"
   ]
  },
  {
   "cell_type": "code",
   "execution_count": null,
   "id": "29dba6ae-f476-4a5f-846c-11827552ec68",
   "metadata": {},
   "outputs": [],
   "source": [
    "%%bash\n",
    "nvflare poc start -ex admin@nvidia.com"
   ]
  },
  {
   "cell_type": "code",
   "execution_count": null,
   "id": "cb5d2eab-44a9-4595-8469-204b0c7ff732",
   "metadata": {},
   "outputs": [],
   "source": [
    "%%bash\n",
    "nvflare job submit -j ./my_job"
   ]
  },
  {
   "cell_type": "code",
   "execution_count": null,
   "id": "125c0a07-1173-4601-9725-e4b36a04355d",
   "metadata": {},
   "outputs": [],
   "source": [
    "!git clone --branch 2.3 https://github.com/NVIDIA/NVFlare.git NVFlare-2.3"
   ]
  },
  {
   "cell_type": "code",
   "execution_count": null,
   "id": "b3a9cefe-0879-44a8-b52f-ddfffab700ef",
   "metadata": {},
   "outputs": [],
   "source": [
    "%%bash\n",
    "nvflare job submit -j ./NVFlare-2.3/examples/hello-world/hello-numpy-cross-val/jobs/hello-numpy-cross-val"
   ]
  },
  {
   "cell_type": "code",
   "execution_count": null,
   "id": "a430838d-1516-4b78-afbb-89ed1d13b009",
   "metadata": {},
   "outputs": [],
   "source": [
    "%%bash\n",
    "nvflare job submit -j ./NVFlare-2.3/examples/hello-world/hello-pt/jobs/hello-pt"
   ]
  },
  {
   "cell_type": "raw",
   "id": "68785070-f811-4bf6-a51c-e9d77f0da646",
   "metadata": {},
   "source": [
    "# terminal  mode\n",
    "ml tools/miniconda3 \n",
    "conda activate nvflare\n",
    "nvflare poc start -p admin@nvidia.com"
   ]
  },
  {
   "cell_type": "code",
   "execution_count": null,
   "id": "e5c8cfe7-463f-4b4e-b7cc-84c3b2b87912",
   "metadata": {},
   "outputs": [],
   "source": []
  },
  {
   "cell_type": "code",
   "execution_count": null,
   "id": "a58131f7-442c-4769-9700-67d02922ffbc",
   "metadata": {},
   "outputs": [],
   "source": []
  }
 ],
 "metadata": {
  "kernelspec": {
   "display_name": "nvflare",
   "language": "python",
   "name": "nvflare"
  },
  "language_info": {
   "codemirror_mode": {
    "name": "ipython",
    "version": 3
   },
   "file_extension": ".py",
   "mimetype": "text/x-python",
   "name": "python",
   "nbconvert_exporter": "python",
   "pygments_lexer": "ipython3",
   "version": "3.10.14"
  }
 },
 "nbformat": 4,
 "nbformat_minor": 5
}
