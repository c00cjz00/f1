{
 "cells": [
  {
   "cell_type": "raw",
   "id": "0128e483-0e5f-40d9-b2d1-f212747f6062",
   "metadata": {},
   "source": [
    "- https://f1-stn02.nchc.org.tw/pun/sys/dashboard\n",
    "## 網路設定\n",
    "- method1, socks5 (open teminal)\n",
    "1. bash\n",
    "```\n",
    "ssh -D ${HOSTNAME}:12345 intgpn04\n",
    "export https_proxy=socks5://${HOSTNAME}:12345\n",
    "export http_proxy=socks5://${HOSTNAME}:12345\n",
    "```\n",
    "2. python\n",
    "```\n",
    "import os\r\n",
    "tmp=!echo $(hostname)\r\n",
    "HOSTNAME=tmp[0]\r\n",
    "os.environ['http_proxy'] = \"sock/s5:/\"+HOSTNAME+\":12345\" \r\n",
    "os.environ['https_proxy'\"socks5://\"+HOSTNAM12345\"M12\n",
    "\n",
    "\n",
    "- method2, http (open teminal)\n",
    "1. bash\n",
    "```\n",
    "ssh intgpn04 ~/python311/python_run.sh \n",
    "export https_proxy=http://intgpn04:53128\n",
    "export http_proxy=http://intgpn04:53128\n",
    "```\n",
    "2. python\n",
    "```\n",
    "import os\n",
    "tmp=!echo $(hostname)\n",
    "HOSTNAME=tmp[0]\n",
    "os.environ['http_proxy'] = \"http:/intgpn04:53128\" \n",
    "os.environ['https_proxy'] = \"http://intgpn04:53128\" \n",
    "```\n",
    "```"
   ]
  },
  {
   "cell_type": "code",
   "execution_count": null,
   "id": "e1bc2ac0-2546-46c5-b267-7a1513c4f31d",
   "metadata": {},
   "outputs": [],
   "source": [
    "# Create env and pip install package\n",
    "ml tools/miniconda3 \n",
    "#conda env remove -n nvflare\n",
    "conda create -n nvflare python=3.10 -y\n",
    "conda activate nvflare\n",
    "python -m pip install --upgrade pip\n",
    "pip install nvflare\n",
    "pip install ipykernel pysocks\n",
    "python -m ipykernel install --name nvflare --user\n",
    "#pip install -r requirements nvflare\n",
    "conda deactivate "
   ]
  },
  {
   "cell_type": "code",
   "execution_count": null,
   "id": "ef13d693-4c15-45a0-9b25-55b25083f65f",
   "metadata": {},
   "outputs": [],
   "source": [
    "# Activate Conda env, NVFLARE\n",
    "ml tools/miniconda3 \n",
    "conda activate nvflare"
   ]
  },
  {
   "cell_type": "code",
   "execution_count": null,
   "id": "fb3d94df-415f-4a80-b229-191960b7842f",
   "metadata": {},
   "outputs": [],
   "source": [
    "# 初始環境設定\n",
    "import os\n",
    "from pathlib import Path\n",
    "HOME = str(Path.home())\n",
    "Add_Binarry_Path=HOME+'/.conda/envs/nvflare/bin'\n",
    "os.environ['PATH']=os.environ['PATH']+':'+Add_Binarry_Path"
   ]
  }
 ],
 "metadata": {
  "kernelspec": {
   "display_name": "nvflare",
   "language": "python",
   "name": "nvflare"
  },
  "language_info": {
   "codemirror_mode": {
    "name": "ipython",
    "version": 3
   },
   "file_extension": ".py",
   "mimetype": "text/x-python",
   "name": "python",
   "nbconvert_exporter": "python",
   "pygments_lexer": "ipython3",
   "version": "3.10.14"
  }
 },
 "nbformat": 4,
 "nbformat_minor": 5
}
