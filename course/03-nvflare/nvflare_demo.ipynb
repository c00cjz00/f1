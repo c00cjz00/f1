{
 "cells": [
  {
   "cell_type": "code",
   "execution_count": null,
   "id": "c5a8d212-5327-4083-a160-e78fcff19d9e",
   "metadata": {},
   "outputs": [],
   "source": [
    "# 初始環境設定\n",
    "import os\n",
    "from pathlib import Path\n",
    "HOME = str(Path.home())\n",
    "Add_Binarry_Path=HOME+'/.conda/envs/nvflare/bin'\n",
    "os.environ['PATH']=os.environ['PATH']+':'+Add_Binarry_Path"
   ]
  },
  {
   "cell_type": "code",
   "execution_count": null,
   "id": "0c986d05-d616-48e2-b9a2-e85699f04236",
   "metadata": {},
   "outputs": [],
   "source": [
    "%%bash\n",
    "# 請修改下四個項目\n",
    "node_hostname=$(hostname -s)\n",
    "node_admin=admin@nvidia.com\n",
    "node_server_port=8002\n",
    "node_admin_port=8003\n",
    "\n",
    "cat <<EOF > yml/demo.yml\n",
    "api_version: 3\n",
    "name: example_project\n",
    "description: NVIDIA FLARE sample project yaml file\n",
    "\n",
    "participants:\n",
    "  # Change the name of the server (server1) to the Fully Qualified Domain Name\n",
    "  # (FQDN) of the server, for example: server1.example.com.\n",
    "  # Ensure that the FQDN is correctly mapped in the /etc/hosts file.\n",
    "  - name: ${node_hostname}\n",
    "    type: server\n",
    "    org: nvidia\n",
    "    fed_learn_port: ${node_server_port}\n",
    "    admin_port: ${node_admin_port}\n",
    "  - name: site-1\n",
    "    type: client\n",
    "    org: nvidia\n",
    "    # Specifying listening_host will enable the creation of one pair of\n",
    "    # certificate/private key for this client, allowing the client to function\n",
    "    # as a server for 3rd-party integration.\n",
    "    # The value must be a hostname that the external trainer can reach via the network.\n",
    "    # listening_host: site-1-lh\n",
    "  - name: site-2\n",
    "    type: client\n",
    "    org: nvidia\n",
    "  - name: ${node_admin}\n",
    "    type: admin\n",
    "    org: nvidia\n",
    "    role: project_admin\n",
    "\n",
    "# The same methods in all builders are called in their order defined in builders section\n",
    "builders:\n",
    "  - path: nvflare.lighter.impl.workspace.WorkspaceBuilder\n",
    "    args:\n",
    "      template_file:\n",
    "        - master_template.yml\n",
    "        - aws_template.yml\n",
    "        - azure_template.yml\n",
    "  - path: nvflare.lighter.impl.template.TemplateBuilder\n",
    "  - path: nvflare.lighter.impl.static_file.StaticFileBuilder\n",
    "    args:\n",
    "      # config_folder can be set to inform NVIDIA FLARE where to get configuration\n",
    "      config_folder: config\n",
    "\n",
    "      # scheme for communication driver (currently supporting the default, grpc, only).\n",
    "      # scheme: grpc\n",
    "\n",
    "      # app_validator is used to verify if uploaded app has proper structures\n",
    "      # if not set, no app_validator is included in fed_server.json\n",
    "      # app_validator: PATH_TO_YOUR_OWN_APP_VALIDATOR\n",
    "\n",
    "      # when docker_image is set to a docker image name, docker.sh will be generated on server/client/admin\n",
    "      # docker_image:\n",
    "\n",
    "      # download_job_url is set to http://download.server.com/ as default in fed_server.json.  You can override this\n",
    "      # to different url.\n",
    "      # download_job_url: http://download.server.com/\n",
    "\n",
    "      overseer_agent:\n",
    "        path: nvflare.ha.dummy_overseer_agent.DummyOverseerAgent\n",
    "        # if overseer_exists is true, args here are ignored.  Provisioning\n",
    "        #   tool will fill role, name and other local parameters automatically.\n",
    "        # if overseer_exists is false, args in this section will be used and the sp_end_point\n",
    "        # must match the server defined above in the format of SERVER_NAME:FL_PORT:ADMIN_PORT\n",
    "        # \n",
    "        overseer_exists: false\n",
    "        args:\n",
    "          sp_end_point: ${node_hostname}:${node_server_port}:${node_admin_port}\n",
    "\n",
    "  - path: nvflare.lighter.impl.cert.CertBuilder\n",
    "  - path: nvflare.lighter.impl.signature.SignatureBuilder\n",
    "\n",
    "EOF"
   ]
  },
  {
   "cell_type": "code",
   "execution_count": null,
   "id": "340b2869-97a9-43a8-951d-e1c440c1d86e",
   "metadata": {},
   "outputs": [],
   "source": [
    "# 移除工作項目dmeo1 以及建立工作項目dmeo1 \n",
    "!rm -rf workspace/demo01\n",
    "!nvflare provision -p yml/demo.yml -w workspace/demo01\n",
    "!sed -i \"s#/tmp/nvflare/#/tmp/nvflare_$(whoami)/#g\"  workspace/demo01/example_project/prod_00/$(hostname -s)/local/resources.json.default"
   ]
  },
  {
   "cell_type": "code",
   "execution_count": null,
   "id": "91a93773-a691-4a62-a31d-2ad97b9f3c04",
   "metadata": {},
   "outputs": [],
   "source": [
    "# 下載特定版本 NVFLARE\n",
    "import os\n",
    "tmp=!echo $(hostname)\n",
    "HOSTNAME=tmp[0]\n",
    "os.environ['http_proxy'] = \"socks5:/\"+HOSTNAME+\":12345\" \n",
    "os.environ['https_proxy'] = \"socks5://\"+HOSTNAME+\":12345\" \n",
    "!git clone --branch 2.3 https://github.com/NVIDIA/NVFlare.git NVFlare-2.3"
   ]
  },
  {
   "cell_type": "code",
   "execution_count": null,
   "id": "256fdc84-9b92-493b-a580-eeb1e150da70",
   "metadata": {},
   "outputs": [],
   "source": [
    "# 複製工作項目\n",
    "!rm -rf workspace/demo01/example_project/prod_00/admin@nvidia.com/transfer/*\n",
    "!cp -rf NVFlare-2.3/examples/hello-world/hello-numpy-cross-val/jobs/hello-numpy-cross-val \\\n",
    "workspace/demo01/example_project/prod_00/admin@nvidia.com/transfer/\n",
    "!cp -rf NVFlare-2.3/examples/hello-world/hello-numpy-sag/jobs/hello-numpy-sag \\\n",
    "workspace/demo01/example_project/prod_00/admin@nvidia.com/transfer/"
   ]
  },
  {
   "cell_type": "code",
   "execution_count": null,
   "id": "1d0989ac-71d9-4ded-9c35-a1926ff846bc",
   "metadata": {},
   "outputs": [],
   "source": [
    "# 移除目前正在執行的nvflare\n",
    "!ps -efww |grep nvflare/workspace   | awk '{print $2}' | xargs kill -9 "
   ]
  },
  {
   "cell_type": "code",
   "execution_count": null,
   "id": "5a3251a2-676f-4d0d-b7da-abfed12bf230",
   "metadata": {},
   "outputs": [],
   "source": []
  },
  {
   "cell_type": "markdown",
   "id": "2c33e37d-d2a9-40c1-980b-3e75dcd5f6ad",
   "metadata": {},
   "source": [
    "### 請於terminal 下依序啟動以下內容\n",
    "#### 1. nvflare server\n",
    "```bash\n",
    "ml tools/miniconda3 \n",
    "conda activate nvflare\n",
    "./workspace/demo01/example_project/prod_00/$(hostname -s)/startup/start.sh\n",
    "```"
   ]
  },
  {
   "cell_type": "markdown",
   "id": "b3d03eb7-7119-42b9-9ba3-db25bb260c07",
   "metadata": {},
   "source": [
    "### 請於terminal 下依序啟動以下內容\n",
    "#### 2. nvflare site-1\n",
    "```bash\n",
    "ml tools/miniconda3 \n",
    "conda activate nvflare\n",
    "./workspace/demo01/example_project/prod_00/site-1/startup/start.sh\n",
    "```"
   ]
  },
  {
   "cell_type": "markdown",
   "id": "3a516462-d8f3-4e04-ae1f-5bd895dc6992",
   "metadata": {},
   "source": [
    "### 請於terminal 下依序啟動以下內容\n",
    "#### 3. nvflare site-2\n",
    "```bash\n",
    "ml tools/miniconda3 \n",
    "conda activate nvflare\n",
    "./workspace/demo01/example_project/prod_00/site-2/startup/start.sh\n",
    "```"
   ]
  },
  {
   "cell_type": "markdown",
   "id": "fbd8a0b5-ec9d-4f43-9f43-2c6143d92804",
   "metadata": {},
   "source": [
    "### 請於terminal 下依序啟動以下內容\n",
    "### 4. nvflare admin\n",
    "```bash\n",
    "ml tools/miniconda3 \n",
    "conda activate nvflare\n",
    "./workspace/demo01/example_project/prod_00/admin@nvidia.com/startup/fl_admin.sh\n",
    "```"
   ]
  },
  {
   "cell_type": "markdown",
   "id": "43cded53-9660-4af3-94b6-ae54cc7192c5",
   "metadata": {},
   "source": [
    "### 請於terminal 下依序啟動以下內容\n",
    "### 5. nvflare admin\n",
    "```bash\n",
    "?\n",
    "check_status client\n",
    "check_status server\n",
    "list_jobs\n",
    "submit_job hello-numpy-sag\n",
    "submit_job hello-numpy-cross-val\n",
    "list_jobs\n",
    "download_job b8cd4fc1-cd9b-48ee-a22e-1060b74be57b\n",
    "download_job b8cd4fc1-cd9b-48ee-a22e-1060b74be57b /tmp/demo\n",
    "remove_client site-1\n",
    "remove_client site-2\n",
    "shutdown client site-1\n",
    "shutdown client site-2\n",
    "shutdown server\n",
    "```"
   ]
  },
  {
   "cell_type": "code",
   "execution_count": null,
   "id": "b5d67302-e35d-41b7-8d9f-650816585440",
   "metadata": {},
   "outputs": [],
   "source": []
  },
  {
   "cell_type": "code",
   "execution_count": null,
   "id": "82eeb5be-aa62-4b04-8bb6-feb96fb0fa91",
   "metadata": {},
   "outputs": [],
   "source": []
  }
 ],
 "metadata": {
  "kernelspec": {
   "display_name": "nvflare",
   "language": "python",
   "name": "nvflare"
  },
  "language_info": {
   "codemirror_mode": {
    "name": "ipython",
    "version": 3
   },
   "file_extension": ".py",
   "mimetype": "text/x-python",
   "name": "python",
   "nbconvert_exporter": "python",
   "pygments_lexer": "ipython3",
   "version": "3.10.14"
  }
 },
 "nbformat": 4,
 "nbformat_minor": 5
}
